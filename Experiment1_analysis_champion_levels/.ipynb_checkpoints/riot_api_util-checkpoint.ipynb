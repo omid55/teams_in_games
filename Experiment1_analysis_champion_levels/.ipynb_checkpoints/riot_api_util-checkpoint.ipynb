{
 "cells": [
  {
   "cell_type": "markdown",
   "metadata": {},
   "source": [
    "Imports"
   ]
  },
  {
   "cell_type": "code",
   "execution_count": 5,
   "metadata": {
    "collapsed": true
   },
   "outputs": [],
   "source": [
    "# Omid55\n",
    "import requests"
   ]
  },
  {
   "cell_type": "markdown",
   "metadata": {},
   "source": [
    "Constants"
   ]
  },
  {
   "cell_type": "code",
   "execution_count": 27,
   "metadata": {
    "collapsed": false
   },
   "outputs": [],
   "source": [
    "URL = {\n",
    "    'base': 'https://{proxy}.api.pvp.net/api/lol/{region}/{url}',\n",
    "    'summoner_by_name': 'v{version}/summoner/by-name/{names}'\n",
    "}\n",
    "\n",
    "API_VERSIONS = {\n",
    "    'summoner': '1.4'\n",
    "}\n",
    "\n",
    "REGIONS = {\n",
    "    'north_america': 'na',\n",
    "    'europe_west': 'euw'\n",
    "}"
   ]
  },
  {
   "cell_type": "markdown",
   "metadata": {},
   "source": [
    "Classes"
   ]
  },
  {
   "cell_type": "code",
   "execution_count": 34,
   "metadata": {
    "collapsed": false
   },
   "outputs": [],
   "source": [
    "class RiotAPI(object):\n",
    "    \n",
    "    def __init__(self, api_key, region=REGIONS['north_america']):\n",
    "        self.api_key = api_key\n",
    "        self.region = region\n",
    "        \n",
    "    def _request(self, api_url, params={}):\n",
    "        args = {'api_key': self.api_key}\n",
    "        args.update(params)\n",
    "        response = requests.get(\n",
    "            URL['base'].format(\n",
    "                proxy=self.region,\n",
    "                region=self.region,\n",
    "                url=api_url\n",
    "            ),\n",
    "            params=args\n",
    "        )\n",
    "        print(response.url+'\\n')\n",
    "        return response.json()\n",
    "    \n",
    "    def get_summoner_by_name(self, name):\n",
    "        api_url = URL['summoner_by_name'].format(\n",
    "            region=self.region,\n",
    "            version=API_VERSIONS['summoner'],\n",
    "            names=name\n",
    "        )\n",
    "        return self._request(api_url)"
   ]
  },
  {
   "cell_type": "markdown",
   "metadata": {},
   "source": [
    "Body"
   ]
  },
  {
   "cell_type": "code",
   "execution_count": 32,
   "metadata": {
    "collapsed": false
   },
   "outputs": [
    {
     "name": "stdout",
     "output_type": "stream",
     "text": [
      "https://na.api.pvp.net/api/lol/na/v1.4/summoner/by-name/omid55?api_key=RGAPI-9C2B341D-3BF7-4397-9D50-9E472CD132DA\n",
      "\n",
      "{'omid55': {'revisionDate': 1462748751000, 'id': 38100604, 'profileIconId': 28, 'summonerLevel': 30, 'name': 'omid55'}}\n"
     ]
    }
   ],
   "source": [
    "with open('../MyKey1.key', 'r') as key_file:\n",
    "    KEY = key_file.readline()\n",
    "api = RiotAPI(KEY)\n",
    "r = api.get_summoner_by_name('omid55')\n",
    "print(r)"
   ]
  },
  {
   "cell_type": "code",
   "execution_count": 36,
   "metadata": {
    "collapsed": false
   },
   "outputs": [
    {
     "name": "stdout",
     "output_type": "stream",
     "text": [
      "<class 'dict'>\n"
     ]
    }
   ],
   "source": [
    "print(type(r))"
   ]
  },
  {
   "cell_type": "code",
   "execution_count": 42,
   "metadata": {
    "collapsed": false
   },
   "outputs": [
    {
     "data": {
      "text/plain": [
       "38100604"
      ]
     },
     "execution_count": 42,
     "metadata": {},
     "output_type": "execute_result"
    }
   ],
   "source": [
    "r['omid55']['id']"
   ]
  },
  {
   "cell_type": "code",
   "execution_count": null,
   "metadata": {
    "collapsed": true
   },
   "outputs": [],
   "source": []
  }
 ],
 "metadata": {
  "kernelspec": {
   "display_name": "Python 3",
   "language": "python",
   "name": "python3"
  },
  "language_info": {
   "codemirror_mode": {
    "name": "ipython",
    "version": 3
   },
   "file_extension": ".py",
   "mimetype": "text/x-python",
   "name": "python",
   "nbconvert_exporter": "python",
   "pygments_lexer": "ipython3",
   "version": "3.4.3"
  }
 },
 "nbformat": 4,
 "nbformat_minor": 0
}
