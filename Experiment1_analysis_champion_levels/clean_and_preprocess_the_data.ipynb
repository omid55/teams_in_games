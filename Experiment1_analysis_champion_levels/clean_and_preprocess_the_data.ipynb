{
 "cells": [
  {
   "cell_type": "code",
   "execution_count": 1,
   "metadata": {
    "collapsed": true
   },
   "outputs": [],
   "source": [
    "#Omid55"
   ]
  },
  {
   "cell_type": "markdown",
   "metadata": {},
   "source": [
    "Imports"
   ]
  },
  {
   "cell_type": "code",
   "execution_count": 3,
   "metadata": {
    "collapsed": true
   },
   "outputs": [],
   "source": [
    "import numpy as np"
   ]
  },
  {
   "cell_type": "markdown",
   "metadata": {},
   "source": [
    "Functions"
   ]
  },
  {
   "cell_type": "code",
   "execution_count": 4,
   "metadata": {
    "collapsed": true
   },
   "outputs": [],
   "source": [
    "def unique_rows(A, return_index=False, return_inverse=False):\n",
    "    \"\"\"\n",
    "    Similar to MATLAB's unique(A, 'rows'), this returns B, I, J\n",
    "    where B is the unique rows of A and I and J satisfy\n",
    "    A = B[J,:] and B = A[I,:]\n",
    "\n",
    "    Returns I if return_index is True\n",
    "    Returns J if return_inverse is True\n",
    "    \"\"\"\n",
    "    A = np.require(A, requirements='C')\n",
    "    assert A.ndim == 2, \"array must be 2-dim'l\"\n",
    "\n",
    "    B = np.unique(A.view([('', A.dtype)]*A.shape[1]),\n",
    "               return_index=return_index,\n",
    "               return_inverse=return_inverse)\n",
    "\n",
    "    if return_index or return_inverse:\n",
    "        return (B[0].view(A.dtype).reshape((-1, A.shape[1]), order='C'),) \\\n",
    "            + B[1:]\n",
    "    else:\n",
    "        return B.view(A.dtype).reshape((-1, A.shape[1]), order='C')"
   ]
  },
  {
   "cell_type": "code",
   "execution_count": 2,
   "metadata": {
    "collapsed": true
   },
   "outputs": [],
   "source": [
    "def clean_it(dataset):\n",
    "    TEAM_SIZE = 5\n",
    "    # remove those teams with 3 members\n",
    "    print dataset.shape\n",
    "    dataset = np.delete(dataset,np.where(dataset == -1)[0],axis=0) \n",
    "    print dataset.shape\n",
    "    \n",
    "    # remove identical matches\n",
    "    dataset = unique_rows(dataset)\n",
    "    print dataset.shape\n",
    "    \n",
    "    # remove identical teams\n",
    "    if dataset.shape[1] <= 2*TEAM_SIZE + 1:\n",
    "        # just champion levels\n",
    "        dataset = np.delete(dataset, np.where(np.sum(dataset[:,:TEAM_SIZE] - dataset[:,TEAM_SIZE:2*TEAM_SIZE],axis=1)==0),axis=0)\n",
    "    else:\n",
    "        # champion levels and members\n",
    "        dataset = np.delete(dataset, np.where(np.sum(dataset[:,:TEAM_SIZE] - dataset[:,TEAM_SIZE:2*TEAM_SIZE] + \n",
    "          dataset[:,2*TEAM_SIZE:3*TEAM_SIZE] - dataset[:,3*TEAM_SIZE:-1], axis=1) == 0), axis=0)\n",
    "    print dataset.shape\n",
    "    \n",
    "    return dataset"
   ]
  },
  {
   "cell_type": "code",
   "execution_count": 5,
   "metadata": {
    "collapsed": true
   },
   "outputs": [],
   "source": [
    "def compute_and_show_difference_of_winners_from_losers(matches):\n",
    "    diff = np.zeros(len(matches))\n",
    "    for i, match in enumerate(matches):\n",
    "        loser = match[:TEAM_SIZE]\n",
    "        winner = match[TEAM_SIZE:]\n",
    "        diff[i] = LA.norm(winner,2) - LA.norm(loser,2)\n",
    "        \n",
    "    sns.set(rc={\"figure.figsize\": (20, 10)})\n",
    "    \n",
    "    ax = sns.distplot(diff)\n",
    "    ax.set(xlabel='norm2(winner) - norm2(loser)', ylabel='Volume')\n",
    "    \n",
    "    sns.distplot(diff, fit=norm, kde=True)\n",
    "    sns.plt.show()\n",
    "    \n",
    "    plt.hist(diff, bins=30)\n",
    "    plt.xlabel(\"norm2(winner) - norm2(loser)\")\n",
    "    plt.ylabel(\"Volume\")\n",
    "    fig = plt.gcf()\n",
    "    \n",
    "    print 'L2-difference positive:', 100*float(len(np.where(diff > 0)[0]))/len(diff)\n",
    "    print 'L2-difference zero:', 100*float(len(np.where(diff == 0)[0]))/len(diff)\n",
    "    print 'L2-difference negative: ', float(100*len(np.where(diff < 0)[0]))/len(diff)\n",
    "    \n",
    "    return diff"
   ]
  },
  {
   "cell_type": "code",
   "execution_count": 6,
   "metadata": {
    "collapsed": true
   },
   "outputs": [],
   "source": [
    "def save_unique_difference(matches, name):\n",
    "    X = matches[:,TEAM_SIZE:] - matches[:,:TEAM_SIZE]    #diff = winner - loser\n",
    "    print(X.shape)\n",
    "    X = np.delete(X, np.where(np.sum(X, axis=1) == 0), axis=0)\n",
    "    print(X.shape)\n",
    "    X = unique_rows(X)\n",
    "    print(X.shape)\n",
    "\n",
    "    np.savetxt(\n",
    "        name,\n",
    "        X,\n",
    "        fmt='%d',\n",
    "        delimiter=',',\n",
    "        newline='\\n',  # new line character\n",
    "        footer='',  # file footer\n",
    "        comments='',  # character to use for comments\n",
    "        header='winner1_loser1,winner2_loser2,winner3_loser3,winner4_loser4,winner5_loser5'\n",
    "        )\n",
    "    \n",
    "    print 'L1-difference positive: ', 100*len(np.where(np.sum(X, axis=1)>0)[0]) / len(X)\n",
    "    print 'L1-difference zero: ', 100*len(np.where(np.sum(X, axis=1)==0)[0]) / len(X)\n",
    "    print 'L1-difference negative: ', 100*len(np.where(np.sum(X, axis=1)<0)[0]) / len(X)\n",
    "    \n",
    "    return X"
   ]
  },
  {
   "cell_type": "markdown",
   "metadata": {},
   "source": [
    "Body"
   ]
  },
  {
   "cell_type": "code",
   "execution_count": null,
   "metadata": {
    "collapsed": true
   },
   "outputs": [],
   "source": [
    "'''Loading the data'''\n",
    "matches = np.genfromtxt('matches_reduced.csv', delimiter=',', skip_header=True)\n",
    "TEAM_SIZE = 5\n",
    "members = np.genfromtxt('members_in_matches_reduced.csv', delimiter=',', skip_header=True)\n",
    "\n",
    "matches = clean_it(matches)"
   ]
  },
  {
   "cell_type": "code",
   "execution_count": null,
   "metadata": {
    "collapsed": true
   },
   "outputs": [],
   "source": []
  }
 ],
 "metadata": {
  "kernelspec": {
   "display_name": "Python 3",
   "language": "python",
   "name": "python3"
  },
  "language_info": {
   "codemirror_mode": {
    "name": "ipython",
    "version": 3
   },
   "file_extension": ".py",
   "mimetype": "text/x-python",
   "name": "python",
   "nbconvert_exporter": "python",
   "pygments_lexer": "ipython3",
   "version": "3.4.3"
  }
 },
 "nbformat": 4,
 "nbformat_minor": 0
}
