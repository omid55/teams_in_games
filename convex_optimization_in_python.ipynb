{
 "cells": [
  {
   "cell_type": "markdown",
   "metadata": {},
   "source": [
    "Imports"
   ]
  },
  {
   "cell_type": "code",
   "execution_count": 145,
   "metadata": {
    "collapsed": true
   },
   "outputs": [],
   "source": [
    "#Omid55\n",
    "from cvxpy import *\n",
    "import numpy as np\n",
    "from numpy import linalg as LA\n",
    "import pandas as pd\n",
    "import math"
   ]
  },
  {
   "cell_type": "code",
   "execution_count": 88,
   "metadata": {
    "collapsed": false
   },
   "outputs": [],
   "source": [
    "def clean_it(dataset):\n",
    "    TEAM_SIZE = 5\n",
    "    # remove those teams with 3 members\n",
    "    print(dataset.shape)\n",
    "    dataset = np.delete(dataset,np.where(dataset == -1)[0],axis=0) \n",
    "    print(dataset.shape)\n",
    "    \n",
    "    # remove identical matches\n",
    "    dataset = unique_rows(dataset)\n",
    "    print(dataset.shape)\n",
    "    \n",
    "    # remove identical teams\n",
    "    if dataset.shape[1] <= 2*TEAM_SIZE + 1:\n",
    "        # just champion levels\n",
    "        dataset = np.delete(dataset, np.where(np.sum(dataset[:,:TEAM_SIZE] - dataset[:,TEAM_SIZE:2*TEAM_SIZE],axis=1)==0),axis=0)\n",
    "    else:\n",
    "        # champion levels and members\n",
    "        dataset = np.delete(dataset, np.where(np.sum(dataset[:,:TEAM_SIZE] - dataset[:,TEAM_SIZE:2*TEAM_SIZE] + \n",
    "          dataset[:,2*TEAM_SIZE:3*TEAM_SIZE] - dataset[:,3*TEAM_SIZE:-1], axis=1) == 0), axis=0)\n",
    "    print(dataset.shape)\n",
    "    \n",
    "    return dataset"
   ]
  },
  {
   "cell_type": "code",
   "execution_count": 86,
   "metadata": {
    "collapsed": true
   },
   "outputs": [],
   "source": [
    "def unique_rows(A, return_index=False, return_inverse=False):\n",
    "    \"\"\"\n",
    "    Similar to MATLAB's unique(A, 'rows'), this returns B, I, J\n",
    "    where B is the unique rows of A and I and J satisfy\n",
    "    A = B[J,:] and B = A[I,:]\n",
    "\n",
    "    Returns I if return_index is True\n",
    "    Returns J if return_inverse is True\n",
    "    \"\"\"\n",
    "    A = np.require(A, requirements='C')\n",
    "    assert A.ndim == 2, \"array must be 2-dim'l\"\n",
    "\n",
    "    B = np.unique(A.view([('', A.dtype)]*A.shape[1]),\n",
    "               return_index=return_index,\n",
    "               return_inverse=return_inverse)\n",
    "\n",
    "    if return_index or return_inverse:\n",
    "        return (B[0].view(A.dtype).reshape((-1, A.shape[1]), order='C'),) \\\n",
    "            + B[1:]\n",
    "    else:\n",
    "        return B.view(A.dtype).reshape((-1, A.shape[1]), order='C')"
   ]
  },
  {
   "cell_type": "code",
   "execution_count": 177,
   "metadata": {
    "collapsed": false
   },
   "outputs": [],
   "source": [
    "def compute_difference_of_winners_from_losers(matches):\n",
    "    diff = np.zeros(len(matches))\n",
    "    for i, match in enumerate(matches):\n",
    "        loser = match[:TEAM_SIZE]\n",
    "        winner = match[TEAM_SIZE:]\n",
    "        diff[i] = LA.norm(winner,2) - LA.norm(loser,2)\n",
    "    \n",
    "    print('positive percentage: ', 100*float(len(np.where(diff > 0)[0]))/len(diff))\n",
    "    print('zero percentage: ', 100*float(len(np.where(diff == 0)[0]))/len(diff))\n",
    "    print('negative percentage: ', float(100*len(np.where(diff < 0)[0]))/len(diff))\n",
    "    \n",
    "    return diff"
   ]
  },
  {
   "cell_type": "markdown",
   "metadata": {},
   "source": [
    "Body"
   ]
  },
  {
   "cell_type": "code",
   "execution_count": 195,
   "metadata": {
    "collapsed": false
   },
   "outputs": [
    {
     "name": "stdout",
     "output_type": "stream",
     "text": [
      "(102684, 10)\n",
      "(100618, 10)\n",
      "(32707, 10)\n",
      "(31978, 10)\n"
     ]
    },
    {
     "data": {
      "text/plain": [
       "\"\\ndiff = compute_difference_of_winners_from_losers(matches)\\nwinner_minus_loser = matches[:,TEAM_SIZE:] - matches[:,:TEAM_SIZE]\\n\\n\\n#winner_minus_loser = np.delete(winner_minus_loser, np.where(np.sum(winner_minus_loser, axis=1) == 0), axis=0)\\n    \\ndiff, index = unique_rows(diff, return_index=True)\\n\\nsorted_diff = np.sort(diff)\\nc = np.where(sorted_diff == 0)[0]\\ncenter_index = c[math.floor(len(c)/2)]\\nLEN = len(np.where(diff<0)[0])\\nbeg_diff = sorted_diff[center_index-LEN]\\nend_diff = sorted_diff[center_index+LEN]\\n\\nsampled_indices = np.where((diff >= beg_diff) * (end_diff >= diff))[0]\\nprint(len(sampled_indices), 'number of close matches is sampled.')\\nclose_matches = matches[sampled_indices]\\n\\nprint('\\n')\\ncompute_difference_of_winners_from_losers(close_matches)\\nnp.savetxt(\\n    'close_matches.csv',\\n    close_matches,\\n    fmt='%d',\\n    delimiter=',',\\n    newline='\\n',  # new line character\\n    footer='',  # file footer\\n    comments='',  # character to use for comments\\n    header='team1_member1,team1_member2,team1_member3,team1_member4,team1_member5,'\\n        + 'team2_member1,team2_member2,team2_member3,team2_member4,team2_member5'\\n    )\\n    \""
      ]
     },
     "execution_count": 195,
     "metadata": {},
     "output_type": "execute_result"
    }
   ],
   "source": [
    "matches = np.genfromtxt('matches_reduced.csv', delimiter=',', skip_header=True)\n",
    "TEAM_SIZE = 5\n",
    "matches = clean_it(matches)\n",
    "\n",
    "'''\n",
    "diff = compute_difference_of_winners_from_losers(matches)\n",
    "winner_minus_loser = matches[:,TEAM_SIZE:] - matches[:,:TEAM_SIZE]\n",
    "\n",
    "\n",
    "#winner_minus_loser = np.delete(winner_minus_loser, np.where(np.sum(winner_minus_loser, axis=1) == 0), axis=0)\n",
    "    \n",
    "diff, index = unique_rows(diff, return_index=True)\n",
    "\n",
    "sorted_diff = np.sort(diff)\n",
    "c = np.where(sorted_diff == 0)[0]\n",
    "center_index = c[math.floor(len(c)/2)]\n",
    "LEN = len(np.where(diff<0)[0])\n",
    "beg_diff = sorted_diff[center_index-LEN]\n",
    "end_diff = sorted_diff[center_index+LEN]\n",
    "\n",
    "sampled_indices = np.where((diff >= beg_diff) * (end_diff >= diff))[0]\n",
    "print(len(sampled_indices), 'number of close matches is sampled.')\n",
    "close_matches = matches[sampled_indices]\n",
    "\n",
    "print('\\n')\n",
    "compute_difference_of_winners_from_losers(close_matches)\n",
    "np.savetxt(\n",
    "    'close_matches.csv',\n",
    "    close_matches,\n",
    "    fmt='%d',\n",
    "    delimiter=',',\n",
    "    newline='\\n',  # new line character\n",
    "    footer='',  # file footer\n",
    "    comments='',  # character to use for comments\n",
    "    header='team1_member1,team1_member2,team1_member3,team1_member4,team1_member5,'\n",
    "        + 'team2_member1,team2_member2,team2_member3,team2_member4,team2_member5'\n",
    "    )\n",
    "    '''"
   ]
  },
  {
   "cell_type": "code",
   "execution_count": 222,
   "metadata": {
    "collapsed": false
   },
   "outputs": [],
   "source": [
    "def save_it_for_optimizer(matches, name, LEN):\n",
    "    X = matches[:,TEAM_SIZE:] - matches[:,:TEAM_SIZE]    #diff = winner - loser\n",
    "    print(X.shape)\n",
    "    X = np.delete(X, np.where(np.sum(X, axis=1) == 0), axis=0)\n",
    "    print(X.shape)\n",
    "    X = unique_rows(X)\n",
    "    print(X.shape)\n",
    "    if LEN > 0:\n",
    "        idx = np.random.choice(len(X), LEN, replace=False)\n",
    "        print('before samples:', diff.shape[0])\n",
    "        X = X[idx,:]\n",
    "        print('now samples:', X.shape[0])\n",
    "        \n",
    "    np.savetxt(\n",
    "        name,\n",
    "        X,\n",
    "        fmt='%d',\n",
    "        delimiter=',',\n",
    "        newline='\\n',  # new line character\n",
    "        footer='',  # file footer\n",
    "        comments='',  # character to use for comments\n",
    "        header='winner1_loser1,winner2_loser2,winner3_loser3,winner4_loser4,winner5_loser5'\n",
    "        )\n",
    "    \n",
    "    print('Positive: ', 100*len(np.where(np.sum(X, axis=1)>0)[0]) / len(X))\n",
    "    print('Zero: ', 100*len(np.where(np.sum(X, axis=1)==0)[0]) / len(X))\n",
    "    print('Negative: ', 100*len(np.where(np.sum(X, axis=1)<0)[0]) / len(X))"
   ]
  },
  {
   "cell_type": "code",
   "execution_count": 223,
   "metadata": {
    "collapsed": false
   },
   "outputs": [
    {
     "name": "stdout",
     "output_type": "stream",
     "text": [
      "(31978, 5)\n",
      "(31978, 5)\n",
      "(4513, 5)\n",
      "Positive:  89.94017283403501\n",
      "Zero:  0.0\n",
      "Negative:  10.05982716596499\n"
     ]
    }
   ],
   "source": [
    "X = save_it_for_optimizer(matches, 'winner_minus_loser.csv', -1)"
   ]
  },
  {
   "cell_type": "code",
   "execution_count": 194,
   "metadata": {
    "collapsed": false
   },
   "outputs": [],
   "source": [
    "#save_it_for_optimizer(close_matches, 'all_winner_minus_loser_close.csv', -1)"
   ]
  },
  {
   "cell_type": "code",
   "execution_count": null,
   "metadata": {
    "collapsed": true
   },
   "outputs": [],
   "source": []
  },
  {
   "cell_type": "code",
   "execution_count": null,
   "metadata": {
    "collapsed": true
   },
   "outputs": [],
   "source": []
  }
 ],
 "metadata": {
  "kernelspec": {
   "display_name": "Python 3",
   "language": "python",
   "name": "python3"
  },
  "language_info": {
   "codemirror_mode": {
    "name": "ipython",
    "version": 3
   },
   "file_extension": ".py",
   "mimetype": "text/x-python",
   "name": "python",
   "nbconvert_exporter": "python",
   "pygments_lexer": "ipython3",
   "version": "3.4.3"
  }
 },
 "nbformat": 4,
 "nbformat_minor": 0
}
