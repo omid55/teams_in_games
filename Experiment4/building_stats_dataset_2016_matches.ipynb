{
 "cells": [
  {
   "cell_type": "code",
   "execution_count": 2,
   "metadata": {
    "collapsed": false
   },
   "outputs": [
    {
     "data": {
      "text/plain": [
       "'Splitting a bunch of saved games into 2 parts:\\n1- Data for computing stats\\n2- Dataset to train model and predict in 10-fold CV\\nIn fact, Stats is for previous data and that is why first we have to sort matches\\nand then choose an appropriate portion as stats and the rest for training and testing\\n'"
      ]
     },
     "execution_count": 2,
     "metadata": {},
     "output_type": "execute_result"
    }
   ],
   "source": [
    "\"\"\"Splitting a bunch of saved games into 2 parts:\n",
    "1- Data for computing stats\n",
    "2- Dataset to train model and predict in 10-fold CV\n",
    "In fact, Stats is for previous data and that is why first we have to sort matches\n",
    "and then choose an appropriate portion as stats and the rest for training and testing\n",
    "\"\"\""
   ]
  },
  {
   "cell_type": "markdown",
   "metadata": {},
   "source": [
    "# Imports"
   ]
  },
  {
   "cell_type": "code",
   "execution_count": 88,
   "metadata": {
    "collapsed": true
   },
   "outputs": [],
   "source": [
    "#Omid55\n",
    "import requests\n",
    "import pandas as pd\n",
    "import pickle as pk\n",
    "import csv\n",
    "import time\n",
    "import numpy as np\n",
    "import random\n",
    "from collections import defaultdict\n",
    "import seaborn as sns\n",
    "import matplotlib.pylab as plt\n",
    "from scipy.sparse import csr_matrix\n",
    "import networkx as nx\n",
    "% matplotlib inline"
   ]
  },
  {
   "cell_type": "markdown",
   "metadata": {},
   "source": [
    "# Useful Classes and Functions"
   ]
  },
  {
   "cell_type": "code",
   "execution_count": 4,
   "metadata": {
    "collapsed": true
   },
   "outputs": [],
   "source": [
    "\"\"\"input: match (full match and not just id)\n",
    "    output: list of summoner Ids, their selected champions and\n",
    "    if they won or not (and in fact, in which team they were too)\"\"\"\n",
    "def get_summonerIds_championIds_isWinner(match):\n",
    "        parts = [ [pa['participantId'], pa['player']['summonerId']] \n",
    "                    for pa in match['participantIdentities'] ]\n",
    "        return [ [part[1], pa['championId'], pa['stats']['winner']]\n",
    "                              for part in parts for pa in match['participants'] \n",
    "                                  if pa['participantId'] == part[0] ]"
   ]
  },
  {
   "cell_type": "code",
   "execution_count": 5,
   "metadata": {
    "collapsed": false
   },
   "outputs": [],
   "source": [
    "\"\"\"ChampionResult is a simple class with number of\n",
    "    wins and loses as integer value\"\"\"\n",
    "class ChampionResult:\n",
    "    def __init__(self):\n",
    "        self.wins = 0\n",
    "        self.loses = 0\n",
    "    \n",
    "    def get_win_ratio(self):\n",
    "        #assert self.wins + self.loses != 0, 'There is no matches available...'\n",
    "        if not self.wins + self.loses:\n",
    "            return 0\n",
    "        return self.wins / float(self.wins + self.loses)\n",
    "    \n",
    "    def get_game_count(self):\n",
    "        return self.wins + self.loses\n",
    "        \n",
    "        \n",
    "\"\"\"SummonerChampionStats has a hashtable of champions which\n",
    "    describes how many time summoner won or lost with that\n",
    "    (GameResult as each item)\"\"\"\n",
    "class SummonerChampionStats:\n",
    "    def __init__(self):\n",
    "        self.champions = defaultdict(lambda: ChampionResult())\n",
    "    \n",
    "    def get_game_count(self):\n",
    "        return sum([c.get_game_count() for c in self.champions.values()])\n",
    "    \n",
    "    def get_win_ratio(self):\n",
    "        w = sum([c.wins for c in self.champions.values()])\n",
    "        l = sum([c.loses for c in self.champions.values()])\n",
    "        #assert w + l != 0, 'There is no matches available...'\n",
    "        if not w + l:\n",
    "            return 0\n",
    "        return w / float(w+l)\n",
    "        \n",
    "    def get_same_champion_game_count(self, champId):\n",
    "        return self.champions[champId].get_game_count()\n",
    "        \n",
    "    def get_same_champion_win_ratio(self, champId):\n",
    "        return self.champions[champId].get_win_ratio()\n",
    "        "
   ]
  },
  {
   "cell_type": "code",
   "execution_count": 6,
   "metadata": {
    "collapsed": false
   },
   "outputs": [],
   "source": [
    "# preprocessing summoners from matches in order to have a dictionary of summoners with\n",
    "#    a dictionary of their previous selected champions and GameResult for\n",
    "#       for each selected champion (wins and loses)\n",
    "def preprocess_given_matches(previous_matchIds_for_stats):\n",
    "    summoners_stats = defaultdict(lambda: SummonerChampionStats())\n",
    "    for mid in previous_matchIds_for_stats:\n",
    "        summoner_champ_winner = get_summonerIds_championIds_isWinner(matches[mid])\n",
    "        for s in summoner_champ_winner:\n",
    "            if s[2]:\n",
    "                summoners_stats[s[0]].champions[s[1]].wins += 1\n",
    "            else:\n",
    "                summoners_stats[s[0]].champions[s[1]].loses += 1\n",
    "    return summoners_stats"
   ]
  },
  {
   "cell_type": "markdown",
   "metadata": {},
   "source": [
    "# Start runing the script"
   ]
  },
  {
   "cell_type": "markdown",
   "metadata": {},
   "source": [
    "Loading the data, it might take long"
   ]
  },
  {
   "cell_type": "code",
   "execution_count": 7,
   "metadata": {
    "collapsed": false
   },
   "outputs": [],
   "source": [
    "# loading all saved matches\n",
    "with open('FIRST_SAVED_MATCHES.pkl', 'rb') as f:\n",
    "    matches = pk.load(f)"
   ]
  },
  {
   "cell_type": "markdown",
   "metadata": {},
   "source": [
    "Removing those matches that had fewer than 10 participants"
   ]
  },
  {
   "cell_type": "code",
   "execution_count": 8,
   "metadata": {
    "collapsed": false
   },
   "outputs": [],
   "source": [
    "to_be_deleted_indices = []\n",
    "for mid, match in matches.items():\n",
    "    if 'participants' not in match or len(match['participants']) < 10:\n",
    "        to_be_deleted_indices.append(mid)\n",
    "for ind in to_be_deleted_indices:\n",
    "    del matches[ind]"
   ]
  },
  {
   "cell_type": "code",
   "execution_count": 9,
   "metadata": {
    "collapsed": false
   },
   "outputs": [
    {
     "name": "stdout",
     "output_type": "stream",
     "text": [
      "Length of all matches is 43462\n"
     ]
    }
   ],
   "source": [
    "print 'Length of all matches is', len(matches)"
   ]
  },
  {
   "cell_type": "markdown",
   "metadata": {},
   "source": [
    "# Run after done loading and cleanning the data"
   ]
  },
  {
   "cell_type": "markdown",
   "metadata": {},
   "source": [
    "Splitting the data into 2 sets"
   ]
  },
  {
   "cell_type": "code",
   "execution_count": null,
   "metadata": {
    "collapsed": true
   },
   "outputs": [],
   "source": []
  },
  {
   "cell_type": "code",
   "execution_count": null,
   "metadata": {
    "collapsed": true
   },
   "outputs": [],
   "source": [
    "# THINK ABOUT A BETTER WAY TO SPLIT THE DATA << CHECK HERE >>"
   ]
  },
  {
   "cell_type": "code",
   "execution_count": null,
   "metadata": {
    "collapsed": true
   },
   "outputs": [],
   "source": []
  },
  {
   "cell_type": "code",
   "execution_count": null,
   "metadata": {
    "collapsed": true
   },
   "outputs": [],
   "source": []
  },
  {
   "cell_type": "code",
   "execution_count": 44,
   "metadata": {
    "collapsed": false
   },
   "outputs": [
    {
     "name": "stdout",
     "output_type": "stream",
     "text": [
      "Length of matchIds_for_stats is 30423 \n",
      "Length of matchIds_for_dataset is 13039\n"
     ]
    }
   ],
   "source": [
    "# selecting a sample of matches\n",
    "SAMPLE_IT = False\n",
    "if SAMPLE_IT:\n",
    "    SAMPLE_SIZE = 10000\n",
    "    sampled_matches_ids = [matches.keys()[s] for s in sorted(random.sample(range(len(matches)), SAMPLE_SIZE))]\n",
    "else:  # all the data\n",
    "    sampled_matches_ids = matches.keys()\n",
    "\n",
    "# sorting matches with respect to their match creation date\n",
    "dates = np.zeros(len(sampled_matches_ids))\n",
    "for i, mid in enumerate(sampled_matches_ids):\n",
    "    dates[i] = matches[mid]['matchCreation']\n",
    "sampled_matches_ids_sorted = [x for (y,x) in sorted(zip(dates, sampled_matches_ids))]\n",
    "#all(dates[i]<=dates[i+1] for i in range(len(dates)-1))  # for checking if this is sorted or no\n",
    "\n",
    "# spliting the data to 80% for stats and 20% for dataset (train and test for 10-fold CV)\n",
    "stats_len = int(0.7*len(sampled_matches_ids_sorted))\n",
    "matchIds_for_stats = sampled_matches_ids_sorted[:stats_len]\n",
    "matchIds_for_dataset = sampled_matches_ids_sorted[stats_len:]\n",
    "print 'Length of matchIds_for_stats is', len(matchIds_for_stats), '\\nLength of matchIds_for_dataset is', len(matchIds_for_dataset)"
   ]
  },
  {
   "cell_type": "markdown",
   "metadata": {},
   "source": [
    "# Building the network of games from stats data"
   ]
  },
  {
   "cell_type": "markdown",
   "metadata": {},
   "source": [
    "get the index for a sid in the network, it adds a new node if sid does not exist"
   ]
  },
  {
   "cell_type": "code",
   "execution_count": 83,
   "metadata": {
    "collapsed": false
   },
   "outputs": [],
   "source": [
    "def get_the_index_for_sid(sid):\n",
    "    if sid not in sid_map:\n",
    "        sid_map[sid] = len(sid_map)\n",
    "    return sid_map[sid]\n",
    "\n",
    "# in general format\n",
    "def get_index_for(dictionary, val):\n",
    "    if val not in dictionary:\n",
    "        dictionary[val] = len(dictionary)\n",
    "    return dictionary[val]"
   ]
  },
  {
   "cell_type": "code",
   "execution_count": 53,
   "metadata": {
    "collapsed": false
   },
   "outputs": [
    {
     "name": "stdout",
     "output_type": "stream",
     "text": [
      "There are 206453 unique summoners in the stats data.\n"
     ]
    }
   ],
   "source": [
    "# finding the number of unique summoners\n",
    "all_sids_in_stats = []\n",
    "for mid in matchIds_for_stats:\n",
    "    sc = get_summonerIds_championIds_isWinner(matches[mid])\n",
    "    all_sids_in_stats+=[s[0] for s in sc]\n",
    "N = len(set(all_sids_in_stats))\n",
    "del all_sids_in_stats\n",
    "print 'There are', N, 'unique summoners in the stats data.'"
   ]
  },
  {
   "cell_type": "code",
   "execution_count": 54,
   "metadata": {
    "collapsed": false
   },
   "outputs": [],
   "source": [
    "sid_map = {}\n",
    "edges = defaultdict(lambda: 0)\n",
    "for mid in matchIds_for_stats:\n",
    "    sc = get_summonerIds_championIds_isWinner(matches[mid])\n",
    "    # WHEN WE USE NEW SAVED MATCHES, THEN THERE IS NO NEED TO APPLY FUNCTION get_summonerIds_championIds_isWinner << CHECK HERE >>\n",
    "    for i in range(len(sc)):\n",
    "        for j in range(i+1, len(sc)):\n",
    "            if sc[i][2] == sc[j][2]:   # if they were in the same team\n",
    "                key = str(get_the_index_for_sid(sc[i][0])) + ',' + str(get_the_index_for_sid(sc[j][0]))\n",
    "                edges[key] += 1\n",
    "row, col, val = [], [], []\n",
    "for k, v in edges.items():\n",
    "    coordination = k.split(',')\n",
    "    row.append(int(coordination[0]))\n",
    "    col.append(int(coordination[1]))\n",
    "    val.append(v)\n",
    "# since N is so large, we build a sparse matrix to save the entire network in it\n",
    "W = csr_matrix((val, (row, col)), shape=(N,N), dtype=np.int8)\n",
    "del edges, row, col, val"
   ]
  },
  {
   "cell_type": "code",
   "execution_count": 55,
   "metadata": {
    "collapsed": false
   },
   "outputs": [
    {
     "data": {
      "text/plain": [
       "<206453x206453 sparse matrix of type '<type 'numpy.int8'>'\n",
       "\twith 576036 stored elements in Compressed Sparse Row format>"
      ]
     },
     "execution_count": 55,
     "metadata": {},
     "output_type": "execute_result"
    }
   ],
   "source": [
    "W"
   ]
  },
  {
   "cell_type": "markdown",
   "metadata": {},
   "source": [
    "This part may take a long time to run"
   ]
  },
  {
   "cell_type": "code",
   "execution_count": null,
   "metadata": {
    "collapsed": false
   },
   "outputs": [],
   "source": [
    "# degree distribution of the network\n",
    "plt.hist(sum(W).toarray())\n",
    "plt.title('Degree distribution in the entire network');"
   ]
  },
  {
   "cell_type": "markdown",
   "metadata": {},
   "source": [
    "# Building the dataset from the second part (dataset)"
   ]
  },
  {
   "cell_type": "markdown",
   "metadata": {},
   "source": [
    "Preproccessing the stats part of data"
   ]
  },
  {
   "cell_type": "code",
   "execution_count": 78,
   "metadata": {
    "collapsed": true
   },
   "outputs": [],
   "source": [
    "summoners_stats = preprocess_given_matches(matchIds_for_stats)"
   ]
  },
  {
   "cell_type": "markdown",
   "metadata": {},
   "source": [
    "In each match how many of summoners have been seen in the stats before"
   ]
  },
  {
   "cell_type": "code",
   "execution_count": 62,
   "metadata": {
    "collapsed": false
   },
   "outputs": [
    {
     "data": {
      "image/png": "[encoded data removed]",
      "text/plain": [
       "<matplotlib.figure.Figure at 0x106aedd0>"
      ]
     },
     "metadata": {},
     "output_type": "display_data"
    }
   ],
   "source": [
    "c = np.zeros(len(matchIds_for_dataset))\n",
    "for i, mid in enumerate(matchIds_for_dataset):\n",
    "    for s in get_summonerIds_championIds_isWinner(matches[mid]):\n",
    "        if s[0] in summoners_stats:\n",
    "            c[i] += 1\n",
    "plt.hist(c)\n",
    "plt.title('Distribution of number of members per match that we have stats about (match of 10 members)');"
   ]
  },
  {
   "cell_type": "markdown",
   "metadata": {},
   "source": [
    "Building the dataset"
   ]
  },
  {
   "cell_type": "code",
   "execution_count": 87,
   "metadata": {
    "collapsed": false
   },
   "outputs": [
    {
     "name": "stdout",
     "output_type": "stream",
     "text": [
      "[[  0.   0.   0.   0.   0.]\n",
      " [  0.   0.  38.  33.  63.]\n",
      " [  0.  38.   0.   7.  39.]\n",
      " [  0.  33.   7.   0.  17.]\n",
      " [  0.  63.  39.  17.   0.]] [[ 0.  0.  0.  0.  0.]\n",
      " [ 0.  0.  0.  0.  0.]\n",
      " [ 0.  0.  0.  0.  0.]\n",
      " [ 0.  0.  0.  0.  0.]\n",
      " [ 0.  0.  0.  0.  0.]]\n",
      "Data length is 0\n"
     ]
    }
   ],
   "source": [
    "# for each match in the dataset\n",
    "data = []\n",
    "MIN_COUNT_MEMBER = 4  # minimum number of team members that we have information about\n",
    "for mid in matchIds_for_dataset:\n",
    "    # ------------------------------------------------------------------\n",
    "    # check if we have enough information about this match of not. In fact if\n",
    "    #   we have fewer than MIN_COUNT_MEMBER number of people with info, we should\n",
    "    #   get rid of that match\n",
    "    w = 0\n",
    "    l = 0\n",
    "    for s in get_summonerIds_championIds_isWinner(matches[mid]):\n",
    "        if s[0] in summoners_stats:\n",
    "            if s[2]:\n",
    "                w += 1\n",
    "            else:\n",
    "                l += 1\n",
    "    if w < MIN_COUNT_MEMBER or l < MIN_COUNT_MEMBER:\n",
    "        continue\n",
    "    # ------------------------------------------------------------------\n",
    "    \n",
    "    summoners_not_found_winner = 0\n",
    "    summoners_not_found_loser = 0\n",
    "    winners = []\n",
    "    losers = []\n",
    "    winners_weight = []\n",
    "    losers_weight = []\n",
    "    \n",
    "    sc = get_summonerIds_championIds_isWinner(matches[mid])\n",
    "    \n",
    "    # for team network \n",
    "    w_dict = {}\n",
    "    l_dict = {}\n",
    "    W_winner_team = np.zeros((5,5))\n",
    "    W_loser_team = np.zeros((5,5))\n",
    "    for i in range(len(sc)):\n",
    "        for j in range(i+1, len(sc)):\n",
    "            if sc[i][2] == sc[j][2]:\n",
    "                if sc[i][0] in sid_map and sc[j][0] in sid_map:\n",
    "                    if sc[i][2]:\n",
    "                        ii = get_index_for(w_dict,i)\n",
    "                        jj = get_index_for(w_dict,j)\n",
    "                        W_winner_team[ii,jj] = W[get_the_index_for_sid(sc[i][0]), get_the_index_for_sid(sc[j][0])]\n",
    "                        W_winner_team[jj,ii] = W_winner_team[ii,jj]\n",
    "                        winners_weight.append(W[get_the_index_for_sid(sc[i][0]), get_the_index_for_sid(sc[j][0])])\n",
    "                    else:\n",
    "                        ii = get_index_for(l_dict,i)\n",
    "                        jj = get_index_for(l_dict,j)\n",
    "                        W_loser_team[ii,jj] = W[get_the_index_for_sid(sc[i][0]), get_the_index_for_sid(sc[j][0])]\n",
    "                        W_loser_team[jj,ii] = W_loser_team[ii,jj]\n",
    "                        losers_weight.append(W[get_the_index_for_sid(sc[i][0]), get_the_index_for_sid(sc[j][0])])\n",
    "    # thus we have winner weights, loser weights\n",
    "    #   and their adjacency matrix as W_winner_team, W_loser_team\n",
    "    # ADD MORE SOPHISTICATED NETWORK FEATURES LIKE ALGEBRAIIC CONNECTIVITY AND SO FORTH << CHECK HERE >>\n",
    "    wg = nx.Graph(W_winner_team)\n",
    "    lg = nx.Graph(W_loser_team)\n",
    "    # a list of features from network << CHECK HERE >>\n",
    "    nx.algebraic_connectivity(wg)\n",
    "    nx.algebraic_connectivity(lg)\n",
    "    ...\n",
    "    \n",
    "    # for each member in each team\n",
    "    for s in sc:\n",
    "        stat = summoners_stats[s[0]]\n",
    "        tmp = [\n",
    "            stat.get_game_count(),\n",
    "            stat.get_win_ratio(),\n",
    "            stat.get_same_champion_game_count(s[1]),\n",
    "            stat.get_same_champion_win_ratio(s[1])\n",
    "        ]\n",
    "        if s[2]:\n",
    "            winners.append(tmp)\n",
    "        else:\n",
    "            losers.append(tmp)\n",
    "    sample = list(np.average(winners, axis=0)) + \\\n",
    "        list(np.std(winners, axis=0)) + \\\n",
    "        [np.average(winners_weight),\n",
    "        np.std(winners_weight)] + \\\n",
    "        list(np.average(losers, axis=0)) + \\\n",
    "        list(np.std(losers, axis=0)) + \\\n",
    "        [np.average(losers_weight),\n",
    "        np.std(losers_weight)]\n",
    "               \n",
    "    data.append(sample)\n",
    "    \n",
    "    \n",
    "print 'Data length is', len(data)"
   ]
  },
  {
   "cell_type": "code",
   "execution_count": 113,
   "metadata": {
    "collapsed": false
   },
   "outputs": [
    {
     "data": {
      "image/png": "[encoded data removed]",
      "text/plain": [
       "<matplotlib.figure.Figure at 0x1f9aa4650>"
      ]
     },
     "metadata": {},
     "output_type": "display_data"
    }
   ],
   "source": [
    "g = nx.Graph(data=W_winner_team)\n",
    "nx.draw(g);"
   ]
  },
  {
   "cell_type": "code",
   "execution_count": 112,
   "metadata": {
    "collapsed": true
   },
   "outputs": [],
   "source": [
    "dataset = pd.DataFrame(data=data, columns=['winner_avg_game_count', 'winner_avg_win_ratio', 'winner_avg_same_champion_game_count', 'winner_avg_same_champion_win_ratio', 'winner_std_game_count', 'winner_std_win_ratio', 'winner_std_same_champion_game_count', 'winner_std_same_champion_win_ratio', 'winner_average_weight', 'winner_std_weight', 'loser_avg_game_count', 'loser_avg_win_ratio', 'loser_avg_same_champion_game_count', 'loser_avg_same_champion_win_ratio', 'loser_std_game_count', 'loser_std_win_ratio', 'loser_std_same_champion_game_count', 'loser_std_same_champion_win_ratio', 'loser_average_weight', 'loser_std_weight'])\n",
    "dataset.to_csv('Classification2016_Dataset.csv')"
   ]
  },
  {
   "cell_type": "code",
   "execution_count": 75,
   "metadata": {
    "collapsed": false
   },
   "outputs": [
    {
     "data": {
      "text/plain": [
       "(178, 20)"
      ]
     },
     "execution_count": 75,
     "metadata": {},
     "output_type": "execute_result"
    }
   ],
   "source": [
    "dataset.shape"
   ]
  },
  {
   "cell_type": "code",
   "execution_count": 76,
   "metadata": {
    "collapsed": false
   },
   "outputs": [
    {
     "data": {
      "text/html": [
       "<div>\n",
       "<table border=\"1\" class=\"dataframe\">\n",
       "  <thead>\n",
       "    <tr style=\"text-align: right;\">\n",
       "      <th></th>\n",
       "      <th>winner_avg_game_count</th>\n",
       "      <th>winner_avg_win_ratio</th>\n",
       "      <th>winner_avg_same_champion_game_count</th>\n",
       "      <th>winner_avg_same_champion_win_ratio</th>\n",
       "      <th>winner_std_game_count</th>\n",
       "      <th>winner_std_win_ratio</th>\n",
       "      <th>winner_std_same_champion_game_count</th>\n",
       "      <th>winner_std_same_champion_win_ratio</th>\n",
       "      <th>winner_average_weight</th>\n",
       "      <th>winner_std_weight</th>\n",
       "      <th>loser_avg_game_count</th>\n",
       "      <th>loser_avg_win_ratio</th>\n",
       "      <th>loser_avg_same_champion_game_count</th>\n",
       "      <th>loser_avg_same_champion_win_ratio</th>\n",
       "      <th>loser_std_game_count</th>\n",
       "      <th>loser_std_win_ratio</th>\n",
       "      <th>loser_std_same_champion_game_count</th>\n",
       "      <th>loser_std_same_champion_win_ratio</th>\n",
       "      <th>loser_average_weight</th>\n",
       "      <th>loser_std_weight</th>\n",
       "    </tr>\n",
       "  </thead>\n",
       "  <tbody>\n",
       "    <tr>\n",
       "      <th>0</th>\n",
       "      <td>94.0</td>\n",
       "      <td>0.411644</td>\n",
       "      <td>7.8</td>\n",
       "      <td>0.150000</td>\n",
       "      <td>80.744040</td>\n",
       "      <td>0.207710</td>\n",
       "      <td>14.147791</td>\n",
       "      <td>0.185592</td>\n",
       "      <td>19.7</td>\n",
       "      <td>21.166247</td>\n",
       "      <td>0.8</td>\n",
       "      <td>0.400000</td>\n",
       "      <td>0.0</td>\n",
       "      <td>0.000000</td>\n",
       "      <td>0.400000</td>\n",
       "      <td>0.489898</td>\n",
       "      <td>0.000000</td>\n",
       "      <td>0.000000</td>\n",
       "      <td>0.000000</td>\n",
       "      <td>0.000000</td>\n",
       "    </tr>\n",
       "    <tr>\n",
       "      <th>1</th>\n",
       "      <td>1.2</td>\n",
       "      <td>0.200000</td>\n",
       "      <td>0.0</td>\n",
       "      <td>0.000000</td>\n",
       "      <td>0.748331</td>\n",
       "      <td>0.244949</td>\n",
       "      <td>0.000000</td>\n",
       "      <td>0.000000</td>\n",
       "      <td>0.0</td>\n",
       "      <td>0.000000</td>\n",
       "      <td>56.6</td>\n",
       "      <td>0.485865</td>\n",
       "      <td>3.8</td>\n",
       "      <td>0.433333</td>\n",
       "      <td>52.890831</td>\n",
       "      <td>0.249323</td>\n",
       "      <td>3.919184</td>\n",
       "      <td>0.388730</td>\n",
       "      <td>14.100000</td>\n",
       "      <td>18.080100</td>\n",
       "    </tr>\n",
       "    <tr>\n",
       "      <th>2</th>\n",
       "      <td>0.8</td>\n",
       "      <td>0.400000</td>\n",
       "      <td>0.4</td>\n",
       "      <td>0.200000</td>\n",
       "      <td>0.400000</td>\n",
       "      <td>0.489898</td>\n",
       "      <td>0.489898</td>\n",
       "      <td>0.400000</td>\n",
       "      <td>0.0</td>\n",
       "      <td>0.000000</td>\n",
       "      <td>72.8</td>\n",
       "      <td>0.470860</td>\n",
       "      <td>14.8</td>\n",
       "      <td>0.258571</td>\n",
       "      <td>138.143983</td>\n",
       "      <td>0.337127</td>\n",
       "      <td>27.643444</td>\n",
       "      <td>0.323388</td>\n",
       "      <td>1.166667</td>\n",
       "      <td>2.608746</td>\n",
       "    </tr>\n",
       "    <tr>\n",
       "      <th>3</th>\n",
       "      <td>31.6</td>\n",
       "      <td>0.256579</td>\n",
       "      <td>15.2</td>\n",
       "      <td>0.265493</td>\n",
       "      <td>60.214948</td>\n",
       "      <td>0.321656</td>\n",
       "      <td>27.938504</td>\n",
       "      <td>0.329707</td>\n",
       "      <td>0.5</td>\n",
       "      <td>0.763763</td>\n",
       "      <td>0.8</td>\n",
       "      <td>0.600000</td>\n",
       "      <td>0.2</td>\n",
       "      <td>0.200000</td>\n",
       "      <td>0.400000</td>\n",
       "      <td>0.489898</td>\n",
       "      <td>0.400000</td>\n",
       "      <td>0.400000</td>\n",
       "      <td>0.000000</td>\n",
       "      <td>0.000000</td>\n",
       "    </tr>\n",
       "    <tr>\n",
       "      <th>4</th>\n",
       "      <td>41.2</td>\n",
       "      <td>0.277338</td>\n",
       "      <td>1.2</td>\n",
       "      <td>0.150000</td>\n",
       "      <td>63.725662</td>\n",
       "      <td>0.238878</td>\n",
       "      <td>1.469694</td>\n",
       "      <td>0.300000</td>\n",
       "      <td>1.5</td>\n",
       "      <td>4.500000</td>\n",
       "      <td>0.8</td>\n",
       "      <td>0.000000</td>\n",
       "      <td>0.2</td>\n",
       "      <td>0.000000</td>\n",
       "      <td>0.400000</td>\n",
       "      <td>0.000000</td>\n",
       "      <td>0.400000</td>\n",
       "      <td>0.000000</td>\n",
       "      <td>0.166667</td>\n",
       "      <td>0.372678</td>\n",
       "    </tr>\n",
       "  </tbody>\n",
       "</table>\n",
       "</div>"
      ],
      "text/plain": [
       "   winner_avg_game_count  winner_avg_win_ratio  \\\n",
       "0                   94.0              0.411644   \n",
       "1                    1.2              0.200000   \n",
       "2                    0.8              0.400000   \n",
       "3                   31.6              0.256579   \n",
       "4                   41.2              0.277338   \n",
       "\n",
       "   winner_avg_same_champion_game_count  winner_avg_same_champion_win_ratio  \\\n",
       "0                                  7.8                            0.150000   \n",
       "1                                  0.0                            0.000000   \n",
       "2                                  0.4                            0.200000   \n",
       "3                                 15.2                            0.265493   \n",
       "4                                  1.2                            0.150000   \n",
       "\n",
       "   winner_std_game_count  winner_std_win_ratio  \\\n",
       "0              80.744040              0.207710   \n",
       "1               0.748331              0.244949   \n",
       "2               0.400000              0.489898   \n",
       "3              60.214948              0.321656   \n",
       "4              63.725662              0.238878   \n",
       "\n",
       "   winner_std_same_champion_game_count  winner_std_same_champion_win_ratio  \\\n",
       "0                            14.147791                            0.185592   \n",
       "1                             0.000000                            0.000000   \n",
       "2                             0.489898                            0.400000   \n",
       "3                            27.938504                            0.329707   \n",
       "4                             1.469694                            0.300000   \n",
       "\n",
       "   winner_average_weight  winner_std_weight  loser_avg_game_count  \\\n",
       "0                   19.7          21.166247                   0.8   \n",
       "1                    0.0           0.000000                  56.6   \n",
       "2                    0.0           0.000000                  72.8   \n",
       "3                    0.5           0.763763                   0.8   \n",
       "4                    1.5           4.500000                   0.8   \n",
       "\n",
       "   loser_avg_win_ratio  loser_avg_same_champion_game_count  \\\n",
       "0             0.400000                                 0.0   \n",
       "1             0.485865                                 3.8   \n",
       "2             0.470860                                14.8   \n",
       "3             0.600000                                 0.2   \n",
       "4             0.000000                                 0.2   \n",
       "\n",
       "   loser_avg_same_champion_win_ratio  loser_std_game_count  \\\n",
       "0                           0.000000              0.400000   \n",
       "1                           0.433333             52.890831   \n",
       "2                           0.258571            138.143983   \n",
       "3                           0.200000              0.400000   \n",
       "4                           0.000000              0.400000   \n",
       "\n",
       "   loser_std_win_ratio  loser_std_same_champion_game_count  \\\n",
       "0             0.489898                            0.000000   \n",
       "1             0.249323                            3.919184   \n",
       "2             0.337127                           27.643444   \n",
       "3             0.489898                            0.400000   \n",
       "4             0.000000                            0.400000   \n",
       "\n",
       "   loser_std_same_champion_win_ratio  loser_average_weight  loser_std_weight  \n",
       "0                           0.000000              0.000000          0.000000  \n",
       "1                           0.388730             14.100000         18.080100  \n",
       "2                           0.323388              1.166667          2.608746  \n",
       "3                           0.400000              0.000000          0.000000  \n",
       "4                           0.000000              0.166667          0.372678  "
      ]
     },
     "execution_count": 76,
     "metadata": {},
     "output_type": "execute_result"
    }
   ],
   "source": [
    "dataset.head()"
   ]
  },
  {
   "cell_type": "code",
   "execution_count": null,
   "metadata": {
    "collapsed": true
   },
   "outputs": [],
   "source": []
  }
 ],
 "metadata": {
  "kernelspec": {
   "display_name": "Python 2",
   "language": "python",
   "name": "python2"
  },
  "language_info": {
   "codemirror_mode": {
    "name": "ipython",
    "version": 2
   },
   "file_extension": ".py",
   "mimetype": "text/x-python",
   "name": "python",
   "nbconvert_exporter": "python",
   "pygments_lexer": "ipython2",
   "version": "2.7.5"
  }
 },
 "nbformat": 4,
 "nbformat_minor": 0
}
