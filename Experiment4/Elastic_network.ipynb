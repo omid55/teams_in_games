{
 "cells": [
  {
   "cell_type": "markdown",
   "metadata": {},
   "source": [
    "# Elastic Net"
   ]
  },
  {
   "cell_type": "code",
   "execution_count": 12,
   "metadata": {
    "collapsed": true
   },
   "outputs": [],
   "source": [
    "#Omid55\n",
    "import requests\n",
    "import pandas as pd\n",
    "import pickle as pk\n",
    "import csv\n",
    "import time\n",
    "import numpy as np\n",
    "import random\n",
    "from collections import defaultdict\n",
    "import seaborn as sns\n",
    "import matplotlib.pylab as plt\n",
    "from scipy.sparse import csr_matrix\n",
    "import networkx as nx\n",
    "import glob\n",
    "import networkx\n",
    "import scipy\n",
    "import classification_pipeline as pi\n",
    "from sklearn.linear_model import ElasticNet\n",
    "from sklearn.metrics import r2_score\n",
    "% matplotlib inline"
   ]
  },
  {
   "cell_type": "code",
   "execution_count": 42,
   "metadata": {
    "collapsed": true
   },
   "outputs": [],
   "source": [
    "file_names = ['DATA_2016_Nodes.csv', 'DATA_2016_Networks.csv', 'DATA_2016_Nodes+Networks.csv']"
   ]
  },
  {
   "cell_type": "code",
   "execution_count": 113,
   "metadata": {
    "collapsed": false
   },
   "outputs": [],
   "source": [
    "net_metric_names = ['average_weight', 'std_weight', 'AC', 'clustering', 'shortest_path_length', 'diameter', 'spectrum_v1', 'spectrum_v2', 'spectrum_v3', 'spectrum_v4', 'spectrum_v5']\n",
    "\n",
    "node_names = ['avg_game_count', 'std_game_count', 'avg_win_ratio', 'std_win_ratio', 'avg_same_champion_game_count', \n",
    "             'std_same_champion_game_count', 'avg_same_champion_win_ratio', 'std_same_champion_win_ratio']\n",
    "\n",
    "names = node_names + net_metric_names\n",
    "\n",
    "\n",
    "dataset0_feature_names = ['winner_' + na for na in node_names] + ['loser_' + na for na in node_names]\n",
    "dataset1_feature_names = ['winner_' + na for na in net_metric_names] + ['loser_' + na for na in net_metric_names]\n",
    "dataset2_feature_names = ['winner_' + na for na in names] + ['loser_' + na for na in names]\n",
    "\n",
    "assert len(dataset0_feature_names) == dataset0.shape[1]-1, \"ERROR0\"\n",
    "assert len(dataset1_feature_names) == dataset1.shape[1]-1, \"ERROR1\"\n",
    "assert len(dataset2_feature_names) == dataset2.shape[1]-1, \"ERROR2\""
   ]
  },
  {
   "cell_type": "code",
   "execution_count": 68,
   "metadata": {
    "collapsed": false
   },
   "outputs": [
    {
     "name": "stdout",
     "output_type": "stream",
     "text": [
      "Starting ...\n",
      "Loaded data size:  (577, 17)\n",
      "Swapping  8.0 : 16.0  with 0 : 8.0  ...\n",
      "Dataset size:  (577, 17)\n",
      "Starting ...\n",
      "Loaded data size:  (577, 23)\n",
      "Swapping  11.0 : 22.0  with 0 : 11.0  ...\n",
      "Dataset size:  (577, 23)\n",
      "Starting ...\n",
      "Loaded data size:  (577, 39)\n",
      "Swapping  19.0 : 38.0  with 0 : 19.0  ...\n",
      "Dataset size:  (577, 39)\n"
     ]
    }
   ],
   "source": [
    "dataset0 = pi.init(file_names[0])\n",
    "dataset1 = pi.init(file_names[1])\n",
    "dataset2 = pi.init(file_names[2])"
   ]
  },
  {
   "cell_type": "code",
   "execution_count": 130,
   "metadata": {
    "collapsed": false
   },
   "outputs": [],
   "source": [
    "def apply_enet(dt, dt_feature_names, alpha=0.75, l1_ratio=0.7):\n",
    "    enet = ElasticNet(alpha=alpha, l1_ratio=l1_ratio)\n",
    "    train_size = 0.63*len(dataset0)\n",
    "    # TODO: MAKE IT 10-FOLD AND ADD VALUES OF ACCURACIES ...\n",
    "    X_train = dt.ix[:train_size,:-1]\n",
    "    y_train = dt.ix[:train_size,-1]\n",
    "    X_test = dt.ix[train_size:,:-1]\n",
    "    y_test = dt.ix[train_size:,-1]\n",
    "    \n",
    "    y_pred_enet = enet.fit(X_train, y_train).predict(X_test)\n",
    "    r2_score_enet = r2_score(y_test, y_pred_enet)\n",
    "    print(enet)\n",
    "    print(\"r^2 on test data : %f\\n\" % r2_score_enet)\n",
    "    \n",
    "    selected_list = [x for (y,x) in sorted(zip(abs(enet.coef_), dt.columns), reverse=True) if y!=0]\n",
    "    print([dt_feature_names[int(i)] for i in selected_list])"
   ]
  },
  {
   "cell_type": "code",
   "execution_count": 131,
   "metadata": {
    "collapsed": false
   },
   "outputs": [
    {
     "name": "stdout",
     "output_type": "stream",
     "text": [
      "ALL features: ['winner_avg_game_count', 'winner_std_game_count', 'winner_avg_win_ratio', 'winner_std_win_ratio', 'winner_avg_same_champion_game_count', 'winner_std_same_champion_game_count', 'winner_avg_same_champion_win_ratio', 'winner_std_same_champion_win_ratio', 'loser_avg_game_count', 'loser_std_game_count', 'loser_avg_win_ratio', 'loser_std_win_ratio', 'loser_avg_same_champion_game_count', 'loser_std_same_champion_game_count', 'loser_avg_same_champion_win_ratio', 'loser_std_same_champion_win_ratio'] \n",
      "\n",
      "ElasticNet(alpha=1, copy_X=True, fit_intercept=True, l1_ratio=0.045,\n",
      "      max_iter=1000, normalize=False, positive=False, precompute=False,\n",
      "      random_state=None, selection='cyclic', tol=0.0001, warm_start=False)\n",
      "r^2 on test data : 0.003323\n",
      "\n",
      "['loser_avg_same_champion_game_count', 'winner_std_same_champion_win_ratio', 'loser_avg_game_count', 'loser_avg_same_champion_win_ratio']\n"
     ]
    }
   ],
   "source": [
    "print 'ALL features:', dataset0_feature_names, '\\n'\n",
    "apply_enet(dataset0, dataset0_feature_names, alpha=1, l1_ratio=0.045)"
   ]
  },
  {
   "cell_type": "code",
   "execution_count": 133,
   "metadata": {
    "collapsed": false
   },
   "outputs": [
    {
     "name": "stdout",
     "output_type": "stream",
     "text": [
      "ALL features: ['winner_average_weight', 'winner_std_weight', 'winner_AC', 'winner_clustering', 'winner_shortest_path_length', 'winner_diameter', 'winner_spectrum_v1', 'winner_spectrum_v2', 'winner_spectrum_v3', 'winner_spectrum_v4', 'winner_spectrum_v5', 'loser_average_weight', 'loser_std_weight', 'loser_AC', 'loser_clustering', 'loser_shortest_path_length', 'loser_diameter', 'loser_spectrum_v1', 'loser_spectrum_v2', 'loser_spectrum_v3', 'loser_spectrum_v4', 'loser_spectrum_v5'] \n",
      "\n",
      "ElasticNet(alpha=1, copy_X=True, fit_intercept=True, l1_ratio=0.05,\n",
      "      max_iter=1000, normalize=False, positive=False, precompute=False,\n",
      "      random_state=None, selection='cyclic', tol=0.0001, warm_start=False)\n",
      "r^2 on test data : -0.005825\n",
      "\n",
      "['loser_std_weight', 'loser_spectrum_v5', 'loser_average_weight']\n"
     ]
    }
   ],
   "source": [
    "print 'ALL features:', dataset1_feature_names, '\\n'\n",
    "apply_enet(dataset1, dataset1_feature_names, alpha=1, l1_ratio=0.05)"
   ]
  },
  {
   "cell_type": "code",
   "execution_count": 136,
   "metadata": {
    "collapsed": false
   },
   "outputs": [
    {
     "name": "stdout",
     "output_type": "stream",
     "text": [
      "ALL features: ['winner_avg_game_count', 'winner_std_game_count', 'winner_avg_win_ratio', 'winner_std_win_ratio', 'winner_avg_same_champion_game_count', 'winner_std_same_champion_game_count', 'winner_avg_same_champion_win_ratio', 'winner_std_same_champion_win_ratio', 'winner_average_weight', 'winner_std_weight', 'winner_AC', 'winner_clustering', 'winner_shortest_path_length', 'winner_diameter', 'winner_spectrum_v1', 'winner_spectrum_v2', 'winner_spectrum_v3', 'winner_spectrum_v4', 'winner_spectrum_v5', 'loser_avg_game_count', 'loser_std_game_count', 'loser_avg_win_ratio', 'loser_std_win_ratio', 'loser_avg_same_champion_game_count', 'loser_std_same_champion_game_count', 'loser_avg_same_champion_win_ratio', 'loser_std_same_champion_win_ratio', 'loser_average_weight', 'loser_std_weight', 'loser_AC', 'loser_clustering', 'loser_shortest_path_length', 'loser_diameter', 'loser_spectrum_v1', 'loser_spectrum_v2', 'loser_spectrum_v3', 'loser_spectrum_v4', 'loser_spectrum_v5'] \n",
      "\n",
      "ElasticNet(alpha=1, copy_X=True, fit_intercept=True, l1_ratio=0.04,\n",
      "      max_iter=1000, normalize=False, positive=False, precompute=False,\n",
      "      random_state=None, selection='cyclic', tol=0.0001, warm_start=False)\n",
      "r^2 on test data : -0.005359\n",
      "\n",
      "['loser_std_same_champion_win_ratio', 'loser_avg_same_champion_game_count', 'loser_std_win_ratio', 'loser_avg_win_ratio', 'loser_clustering', 'winner_AC', 'winner_spectrum_v2']\n"
     ]
    }
   ],
   "source": [
    "print 'ALL features:', dataset2_feature_names, '\\n'\n",
    "apply_enet(dataset2, dataset2_feature_names, alpha=1, l1_ratio=0.04)"
   ]
  },
  {
   "cell_type": "code",
   "execution_count": null,
   "metadata": {
    "collapsed": true
   },
   "outputs": [],
   "source": []
  }
 ],
 "metadata": {
  "kernelspec": {
   "display_name": "Python 2",
   "language": "python",
   "name": "python2"
  },
  "language_info": {
   "codemirror_mode": {
    "name": "ipython",
    "version": 2
   },
   "file_extension": ".py",
   "mimetype": "text/x-python",
   "name": "python",
   "nbconvert_exporter": "python",
   "pygments_lexer": "ipython2",
   "version": "2.7.5"
  }
 },
 "nbformat": 4,
 "nbformat_minor": 0
}
