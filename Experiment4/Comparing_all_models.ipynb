{
 "cells": [
  {
   "cell_type": "markdown",
   "metadata": {
    "collapsed": false
   },
   "source": [
    "Comparing clustering-classification, classification and all features with each other"
   ]
  },
  {
   "cell_type": "markdown",
   "metadata": {},
   "source": [
    "# Imports"
   ]
  },
  {
   "cell_type": "code",
   "execution_count": 1,
   "metadata": {
    "collapsed": false
   },
   "outputs": [],
   "source": [
    "#Omid55\n",
    "import requests\n",
    "import pandas as pd\n",
    "import pickle as pk\n",
    "import csv\n",
    "import time\n",
    "import numpy as np\n",
    "import random\n",
    "from collections import defaultdict\n",
    "import seaborn as sns\n",
    "import matplotlib.pylab as plt\n",
    "from scipy.sparse import csr_matrix\n",
    "import networkx as nx\n",
    "import glob\n",
    "import networkx\n",
    "import scipy\n",
    "import classification_pipeline as pi\n",
    "% matplotlib inline"
   ]
  },
  {
   "cell_type": "markdown",
   "metadata": {},
   "source": [
    "# Useful Classes and Functions"
   ]
  },
  {
   "cell_type": "code",
   "execution_count": 2,
   "metadata": {
    "collapsed": true
   },
   "outputs": [],
   "source": [
    "def is_she_has_similar_history_in_stats_and_training(sid):\n",
    "    # if there is at least 50% of training in the stats, we consider her as good\n",
    "    r = len(list(set(summoners_training[sid].champions.keys()) - set(summoners_stats[sid].champions.keys()))) / float(len(summoners_training[sid].champions.keys()))\n",
    "    return r < 0.5"
   ]
  },
  {
   "cell_type": "code",
   "execution_count": 3,
   "metadata": {
    "collapsed": true
   },
   "outputs": [],
   "source": [
    "\"\"\"Brief and useful info Match class\"\"\"\n",
    "class Match:\n",
    "    def __init__(self):\n",
    "        self.summonerIds_championIds_isWinner_tier = []\n",
    "        self.matchCreation = 0\n",
    "        self.matchDuration = 0\n",
    "        self.matchId = 0\n",
    "        self.matchMode = \"\"\n",
    "        self.matchType = \"\"\n",
    "        \n",
    "    def __init__(self, match):\n",
    "        self.summonerIds_championIds_isWinner_tier = get_summonerIds_championIds_isWinner_tier(match)\n",
    "        self.matchCreation = match['matchCreation']\n",
    "        self.matchDuration = match['matchDuration']\n",
    "        self.matchId = match['matchId']\n",
    "        self.matchMode = match['matchMode']\n",
    "        self.matchType = match['matchType']\n",
    "        \n",
    "    def __str__(self):\n",
    "        return 'id:' + str(self.matchId) + ', mode:' + str(self.matchMode) + ', type:' + str(self.matchType) + ', creation:' + str(self.matchCreation) + ', duration:' + str(self.matchDuration) + ', my stats:' + str(self.summonerIds_championIds_isWinner_tier)\n",
    "    "
   ]
  },
  {
   "cell_type": "code",
   "execution_count": 4,
   "metadata": {
    "collapsed": false
   },
   "outputs": [],
   "source": [
    "\"\"\"ChampionResult is a simple class with number of\n",
    "    wins and loses as integer value\"\"\"\n",
    "class ChampionResult:\n",
    "    def __init__(self):\n",
    "        self.wins = 0\n",
    "        self.loses = 0\n",
    "    \n",
    "    def get_win_ratio(self):\n",
    "        #assert self.wins + self.loses != 0, 'There is no matches available...'\n",
    "        if not self.wins + self.loses:\n",
    "            return 0\n",
    "        return self.wins / float(self.wins + self.loses)\n",
    "    \n",
    "    def get_game_count(self):\n",
    "        return self.wins + self.loses\n",
    "        \n",
    "        \n",
    "\"\"\"SummonerChampionStats has a hashtable of champions which\n",
    "    describes how many time summoner won or lost with that\n",
    "    (GameResult as each item)\"\"\"\n",
    "class SummonerChampionStats:\n",
    "    def __init__(self):\n",
    "        self.champions = defaultdict(lambda: ChampionResult())\n",
    "    \n",
    "    def get_game_count(self):\n",
    "        return sum([c.get_game_count() for c in self.champions.values()])\n",
    "    \n",
    "    def get_win_ratio(self):\n",
    "        w = sum([c.wins for c in self.champions.values()])\n",
    "        l = sum([c.loses for c in self.champions.values()])\n",
    "        #assert w + l != 0, 'There is no matches available...'\n",
    "        if not w + l:\n",
    "            return 0\n",
    "        return w / float(w+l)\n",
    "        \n",
    "    def get_same_champion_game_count(self, champId):\n",
    "        return self.champions[champId].get_game_count()\n",
    "        \n",
    "    def get_same_champion_win_ratio(self, champId):\n",
    "        return self.champions[champId].get_win_ratio()\n",
    "        "
   ]
  },
  {
   "cell_type": "code",
   "execution_count": 5,
   "metadata": {
    "collapsed": false
   },
   "outputs": [],
   "source": [
    "# preprocessing summoners from matches in order to have a dictionary of summoners with\n",
    "#    a dictionary of their previous selected champions and GameResult for\n",
    "#       for each selected champion (wins and loses)\n",
    "def preprocess_given_matches(previous_matchIds_for_stats):\n",
    "    summoners_stats = defaultdict(lambda: SummonerChampionStats())\n",
    "    for mid in previous_matchIds_for_stats:\n",
    "        summoner_champ_winner = matches[mid].summonerIds_championIds_isWinner_tier\n",
    "        for s in summoner_champ_winner:\n",
    "            if s[2]:\n",
    "                summoners_stats[s[0]].champions[s[1]].wins += 1\n",
    "            else:\n",
    "                summoners_stats[s[0]].champions[s[1]].loses += 1\n",
    "    return summoners_stats"
   ]
  },
  {
   "cell_type": "markdown",
   "metadata": {},
   "source": [
    "Get the index for a sid in the network, it adds a new node if sid does not exist"
   ]
  },
  {
   "cell_type": "code",
   "execution_count": 6,
   "metadata": {
    "collapsed": true
   },
   "outputs": [],
   "source": [
    "def get_the_index_for_sid(sid):\n",
    "    if sid not in sid_map:\n",
    "        sid_map[sid] = len(sid_map)\n",
    "    return sid_map[sid]\n",
    "\n",
    "# in general format\n",
    "def get_index_for(dictionary, val):\n",
    "    if val not in dictionary:\n",
    "        dictionary[val] = len(dictionary)\n",
    "    return dictionary[val]"
   ]
  },
  {
   "cell_type": "markdown",
   "metadata": {},
   "source": [
    "Get a list of network features for a given adjacency matrix"
   ]
  },
  {
   "cell_type": "code",
   "execution_count": 7,
   "metadata": {
    "collapsed": false
   },
   "outputs": [],
   "source": [
    "net_metric_names = ['AC', 'clustering', 'shortest_path_length', 'diameter', 'spectrum_v1', 'spectrum_v2', 'spectrum_v3', 'spectrum_v4', 'spectrum_v5']\n",
    "\n",
    "def get_network_metrics(A):\n",
    "    #nx.draw(A)\n",
    "    return [nx.algebraic_connectivity(A), nx.average_clustering(A),\n",
    "        nx.average_shortest_path_length(A) if nx.is_connected(A) else -1, \n",
    "            nx.diameter(A) if nx.is_connected(A) else -1] + list(nx.laplacian_spectrum(A))"
   ]
  },
  {
   "cell_type": "markdown",
   "metadata": {},
   "source": [
    "Compute the weight between two nodes in the entire giant network "
   ]
  },
  {
   "cell_type": "code",
   "execution_count": 8,
   "metadata": {
    "collapsed": true
   },
   "outputs": [],
   "source": [
    "def compute_weight_between_two_nodes_in_large_network(weighted_network, weighted_network_graph, n1, n2):\n",
    "    assert type(weighted_network) == scipy.sparse.csr.csr_matrix, 'weighted_network is not a sparse matrix ...'\n",
    "    assert type(weighted_network_graph) == networkx.classes.graph.Graph, 'weighted_network_graph is not a networkx graph ...'\n",
    "    try:\n",
    "        path = nx.shortest_path(weighted_network_graph, n1, n2)\n",
    "    except:\n",
    "        return 1000   # if there is not path and it has been raised nx.NetworkXNoPath then there is a large distance\n",
    "    distance = 0\n",
    "    for i in range(len(path)-1):\n",
    "        distance += 1.0 / weighted_network[path[i], path[i+1]]\n",
    "    return distance"
   ]
  },
  {
   "cell_type": "code",
   "execution_count": 9,
   "metadata": {
    "collapsed": true
   },
   "outputs": [],
   "source": [
    "def my_maximum (A, B):\n",
    "    BisBigger = A-B\n",
    "    BisBigger.data = np.where(BisBigger.data < 0, 1, 0)\n",
    "    return A - A.multiply(BisBigger) + B.multiply(BisBigger)"
   ]
  },
  {
   "cell_type": "code",
   "execution_count": 10,
   "metadata": {
    "collapsed": false
   },
   "outputs": [],
   "source": [
    "def plot_win_loses_distribution(data_type, summoners, sid):\n",
    "    dd = []\n",
    "    for k, v in summoners_stats[sid].champions.items():\n",
    "        dd.append([k, v.wins, 'Wins'])\n",
    "        dd.append([k, v.loses, 'Loses'])\n",
    "    dtt = pd.DataFrame(dd, columns=['Champion ID', 'Count', 'Result'])\n",
    "    fig = sns.barplot(x=\"Champion ID\", y=\"Count\", hue=\"Result\", data=dtt)\n",
    "    fig.set_title('Win/Lose distribution for each champion in the ' + data_type + ' data');\n",
    "    plt.ylabel('Distribution', fontsize=16)\n",
    "    fig.savefig(str(sid)+'.png')\n",
    "    "
   ]
  },
  {
   "cell_type": "markdown",
   "metadata": {},
   "source": [
    "# Loading the whole data"
   ]
  },
  {
   "cell_type": "code",
   "execution_count": 11,
   "metadata": {
    "collapsed": false
   },
   "outputs": [],
   "source": [
    "# # loading all saved matches\n",
    "# matches = {}\n",
    "# for fname in glob.glob(\"MATCHES_till_sid*.pkl\"):\n",
    "#     print(fname)\n",
    "#     with open(fname, 'rb') as f:\n",
    "#         matches_chunk = pk.load(f)    \n",
    "#         matches = dict(matches.items()+matches_chunk.items())   # adding all matches together\n",
    "\n",
    "with open('TOTLA_MATCHES.pkl', 'rb') as f:\n",
    "    matches = pk.load(f)"
   ]
  },
  {
   "cell_type": "code",
   "execution_count": 12,
   "metadata": {
    "collapsed": false
   },
   "outputs": [
    {
     "name": "stdout",
     "output_type": "stream",
     "text": [
      "Length of all matches is 208711\n"
     ]
    }
   ],
   "source": [
    "print 'Length of all matches is', len(matches)"
   ]
  },
  {
   "cell_type": "markdown",
   "metadata": {},
   "source": [
    "# Separating the data to 3 parts: Stats, Training and Test Dataset"
   ]
  },
  {
   "cell_type": "code",
   "execution_count": 13,
   "metadata": {
    "collapsed": false
   },
   "outputs": [
    {
     "name": "stdout",
     "output_type": "stream",
     "text": [
      "Length of matchIds_for_stats is\t\t\t125226 \n",
      "Length of matchIds_for_training_dataset is\t41742 \n",
      "Length of matchIds_for_test_dataset is\t\t41743\n"
     ]
    }
   ],
   "source": [
    "# selecting a sample of matches\n",
    "SAMPLE_IT = False\n",
    "if SAMPLE_IT:\n",
    "    SAMPLE_SIZE = 10000\n",
    "    sampled_matches_ids = [matches.keys()[s] for s in sorted(random.sample(range(len(matches)), SAMPLE_SIZE))]\n",
    "else:  # all the data\n",
    "    sampled_matches_ids = matches.keys()\n",
    "\n",
    "# sorting matches with respect to their match creation date\n",
    "dates = np.zeros(len(sampled_matches_ids))\n",
    "for i, mid in enumerate(sampled_matches_ids):\n",
    "    dates[i] = matches[mid].matchCreation\n",
    "sampled_matches_ids_sorted = [x for (y,x) in sorted(zip(dates, sampled_matches_ids))]\n",
    "#all(dates[i]<=dates[i+1] for i in range(len(dates)-1))  # for checking if this is sorted or no\n",
    "\n",
    "# spliting the data to 70% for stats and 20% for training and 10% for testing \n",
    "stats_len = int(0.6*len(sampled_matches_ids_sorted))\n",
    "training_len = int(0.2*len(sampled_matches_ids_sorted))\n",
    "matchIds_for_stats = sampled_matches_ids_sorted[:stats_len]\n",
    "matchIds_for_training_dataset = sampled_matches_ids_sorted[stats_len:stats_len+training_len]\n",
    "matchIds_for_test_dataset = sampled_matches_ids_sorted[stats_len+training_len:]\n",
    "print 'Length of matchIds_for_stats is\\t\\t\\t', len(matchIds_for_stats), \\\n",
    "    '\\nLength of matchIds_for_training_dataset is\\t', len(matchIds_for_training_dataset), \\\n",
    "    '\\nLength of matchIds_for_test_dataset is\\t\\t', len(matchIds_for_test_dataset)"
   ]
  },
  {
   "cell_type": "markdown",
   "metadata": {},
   "source": [
    "# Building the network of games from stats data"
   ]
  },
  {
   "cell_type": "code",
   "execution_count": 14,
   "metadata": {
    "collapsed": false
   },
   "outputs": [
    {
     "name": "stdout",
     "output_type": "stream",
     "text": [
      "('There are', 573069, 'unique summoners in the stats data.')\n"
     ]
    }
   ],
   "source": [
    "# finding the number of unique summoners\n",
    "all_sids_in_stats = []\n",
    "for mid in matchIds_for_stats:\n",
    "    sc = matches[mid].summonerIds_championIds_isWinner_tier\n",
    "    all_sids_in_stats+=[s[0] for s in sc]\n",
    "N = len(set(all_sids_in_stats))\n",
    "del all_sids_in_stats\n",
    "print('There are', N, 'unique summoners in the stats data.')"
   ]
  },
  {
   "cell_type": "code",
   "execution_count": 15,
   "metadata": {
    "collapsed": false
   },
   "outputs": [
    {
     "name": "stderr",
     "output_type": "stream",
     "text": [
      "/cs/student/omid55/.local/lib/python2.7/site-packages/numpy/core/fromnumeric.py:2645: VisibleDeprecationWarning: `rank` is deprecated; use the `ndim` attribute or function instead. To find the rank of a matrix see `numpy.linalg.matrix_rank`.\n",
      "  VisibleDeprecationWarning)\n"
     ]
    }
   ],
   "source": [
    "sid_map = {}\n",
    "edges = defaultdict(lambda: 0)\n",
    "for mid in matchIds_for_stats:\n",
    "    sc = matches[mid].summonerIds_championIds_isWinner_tier\n",
    "    for i in range(len(sc)):\n",
    "        for j in range(i+1, len(sc)):\n",
    "            if sc[i][2] == sc[j][2]:   # if they were in the same team\n",
    "                key = str(get_the_index_for_sid(sc[i][0])) + ',' + str(get_the_index_for_sid(sc[j][0]))\n",
    "                edges[key] += 1\n",
    "row, col, val = [], [], []\n",
    "for k, v in edges.items():\n",
    "    coordination = k.split(',')\n",
    "    row.append(int(coordination[0]))\n",
    "    col.append(int(coordination[1]))\n",
    "    val.append(v)\n",
    "# since N is so large, we build a sparse matrix to save the entire network in it\n",
    "W = csr_matrix((val, (row, col)), shape=(N,N), dtype=np.int8)\n",
    "del edges, row, col, val"
   ]
  },
  {
   "cell_type": "code",
   "execution_count": 16,
   "metadata": {
    "collapsed": true
   },
   "outputs": [],
   "source": [
    "W = my_maximum(W, np.transpose(W))\n",
    "WG = nx.Graph(W)"
   ]
  },
  {
   "cell_type": "markdown",
   "metadata": {},
   "source": [
    "Preprocessing the summoners in the stats data"
   ]
  },
  {
   "cell_type": "code",
   "execution_count": 17,
   "metadata": {
    "collapsed": true
   },
   "outputs": [],
   "source": [
    "summoners_stats = preprocess_given_matches(matchIds_for_stats)\n",
    "summoners_training = preprocess_given_matches(matchIds_for_training_dataset)"
   ]
  },
  {
   "cell_type": "markdown",
   "metadata": {},
   "source": [
    "See if people in training dataset and stats have similar champion choices (distribution)"
   ]
  },
  {
   "cell_type": "code",
   "execution_count": 18,
   "metadata": {
    "collapsed": false
   },
   "outputs": [
    {
     "data": {
      "image/png": "[encoded data removed]",
      "text/plain": [
       "<matplotlib.figure.Figure at 0x5775e90>"
      ]
     },
     "metadata": {},
     "output_type": "display_data"
    }
   ],
   "source": [
    "good_sids = []\n",
    "for sid in summoners_training.keys():\n",
    "    if is_she_has_similar_history_in_stats_and_training(sid):\n",
    "        good_sids.append(sid)\n",
    "        \n",
    "# Now we only consider those in the test set which are consisted of only good sids in their teams\n",
    "cs = []\n",
    "for mid in matchIds_for_test_dataset:\n",
    "    sids = [m[0] for m in matches[mid].summonerIds_championIds_isWinner_tier]\n",
    "    c = len(np.where(np.array([s in good_sids for s in sids]) == True)[0])\n",
    "    cs.append(c)\n",
    "plt.hist(cs);"
   ]
  },
  {
   "cell_type": "markdown",
   "metadata": {},
   "source": [
    "# RUN FROM HERE"
   ]
  },
  {
   "cell_type": "code",
   "execution_count": 19,
   "metadata": {
    "collapsed": false
   },
   "outputs": [],
   "source": [
    "def make_the_dataset(dataset_fname, experience_features = True, network_features = True):\n",
    "    THRESHOLD = 4\n",
    "    selected_indices = np.where(np.array(cs)>=THRESHOLD)[0]\n",
    "    matchIds_for_test_dataset_selected = [matchIds_for_test_dataset[i] for i in selected_indices]\n",
    "\n",
    "    # building the dataset now:::\n",
    "    # for each match in the dataset\n",
    "    winner_edge_count = []\n",
    "    loser_edge_count = []\n",
    "    winner_weights = []\n",
    "    loser_weights = []\n",
    "    data = []\n",
    "    for mid in matchIds_for_test_dataset_selected:\n",
    "        summoners_not_found_winner = 0\n",
    "        summoners_not_found_loser = 0\n",
    "        winners = []\n",
    "        losers = []\n",
    "\n",
    "        sc = matches[mid].summonerIds_championIds_isWinner_tier\n",
    "        # for team network \n",
    "        w_dict = {}\n",
    "        l_dict = {}\n",
    "        W_winner_team = np.zeros((5,5))\n",
    "        W_loser_team = np.zeros((5,5))\n",
    "        for i in range(len(sc)):\n",
    "            for j in range(i+1, len(sc)):\n",
    "                if sc[i][2] == sc[j][2]:\n",
    "                    if sc[i][0] in sid_map and sc[j][0] in sid_map:\n",
    "                        if sc[i][2]:\n",
    "                            ii = get_index_for(w_dict,i)\n",
    "                            jj = get_index_for(w_dict,j)\n",
    "                            W_winner_team[ii,jj] = compute_weight_between_two_nodes_in_large_network\\\n",
    "                                (W, WG, get_the_index_for_sid(sc[i][0]), get_the_index_for_sid(sc[j][0]))\n",
    "                            W_winner_team[jj,ii] = W_winner_team[ii,jj]\n",
    "                        else:\n",
    "                            ii = get_index_for(l_dict,i)\n",
    "                            jj = get_index_for(l_dict,j)\n",
    "                            W_loser_team[ii,jj] = compute_weight_between_two_nodes_in_large_network\\\n",
    "                                (W, WG, get_the_index_for_sid(sc[i][0]), get_the_index_for_sid(sc[j][0]))\n",
    "                            W_loser_team[jj,ii] = W_loser_team[ii,jj]\n",
    "        # thus we have winner weights, loser weights\n",
    "        #   and their adjacency matrix as W_winner_team, W_loser_team\n",
    "        wg = nx.Graph(W_winner_team)\n",
    "        lg = nx.Graph(W_loser_team)\n",
    "        winner_edge_count.append(np.count_nonzero(W_winner_team)/2)\n",
    "        loser_edge_count.append(np.count_nonzero(W_loser_team)/2)\n",
    "        winner_weights.append(sum(sum(W_winner_team)))\n",
    "        loser_weights.append(sum(sum(W_loser_team)))\n",
    "        \n",
    "        # for each member in each team\n",
    "        for s in sc:\n",
    "            stat = summoners_stats[s[0]]\n",
    "            tmp = [\n",
    "                stat.get_game_count(),\n",
    "                stat.get_win_ratio(),\n",
    "                stat.get_same_champion_game_count(s[1]),\n",
    "                stat.get_same_champion_win_ratio(s[1])\n",
    "            ]\n",
    "            if s[2]:\n",
    "                winners.append(tmp)\n",
    "            else:\n",
    "                losers.append(tmp)\n",
    "\n",
    "        sample = []\n",
    "        if experience_features:\n",
    "            if not winners:\n",
    "                sample += [0, 0]\n",
    "            else:\n",
    "                sample += list(np.average(winners, axis=0)) + \\\n",
    "                    list(np.std(winners, axis=0))\n",
    "\n",
    "        if network_features:\n",
    "            sample += [np.average(sum(W_winner_team)),\n",
    "                np.std(sum(W_winner_team))] + \\\n",
    "                get_network_metrics(wg)\n",
    "        if experience_features:        \n",
    "            if not losers:\n",
    "                sample += [0, 0]\n",
    "            else:\n",
    "                sample += list(np.average(losers, axis=0)) + \\\n",
    "                list(np.std(losers, axis=0))\n",
    "        if network_features:\n",
    "            sample += [np.average(sum(W_loser_team)),\n",
    "                    np.std(sum(W_loser_team))] + \\\n",
    "                    get_network_metrics(lg)\n",
    "        data.append(sample)\n",
    "\n",
    "    print('Data length is', len(data))\n",
    "\n",
    "    # names for the features in the dataset\n",
    "    names = ['avg_game_count', 'std_game_count', 'avg_win_ratio', 'std_win_ratio', 'avg_same_champion_game_count', \n",
    "                 'std_same_champion_game_count', 'avg_same_champion_win_ratio', 'std_same_champion_win_ratio', \n",
    "                             'average_weight', 'std_weight'] + net_metric_names\n",
    "    feature_names = ['winner_' + na for na in names] + ['loser_' + na for na in names]\n",
    "    \n",
    "    dataset = pd.DataFrame(data=data)\n",
    "    #dataset = pd.DataFrame(data=data, columns= feature_names)\n",
    "\n",
    "    dataset.to_csv(dataset_fname)\n",
    "    return winner_edge_count, loser_edge_count, winner_weights, loser_weights"
   ]
  },
  {
   "cell_type": "markdown",
   "metadata": {},
   "source": [
    "# Building 3 different datasets"
   ]
  },
  {
   "cell_type": "code",
   "execution_count": 20,
   "metadata": {
    "collapsed": false
   },
   "outputs": [
    {
     "name": "stdout",
     "output_type": "stream",
     "text": [
      "('Data length is', 577)\n",
      "('Data length is', 577)\n",
      "('Data length is', 577)\n"
     ]
    }
   ],
   "source": [
    "file_names = ['DATA_2016_Nodes.csv', 'DATA_2016_Networks.csv', 'DATA_2016_Nodes+Networks.csv']\n",
    "\n",
    "make_the_dataset(file_names[0], experience_features=True, network_features=False);\n",
    "make_the_dataset(file_names[1], experience_features=False, network_features=True);\n",
    "make_the_dataset(file_names[2], experience_features=True, network_features=True);"
   ]
  },
  {
   "cell_type": "markdown",
   "metadata": {
    "collapsed": true
   },
   "source": [
    "# Comparing all models together"
   ]
  },
  {
   "cell_type": "code",
   "execution_count": 100,
   "metadata": {
    "collapsed": false
   },
   "outputs": [],
   "source": [
    "def compare_multiple_models(runs=30, number_of_clusters=4, linkage='complete', distance='cosine', verbose=False):\n",
    "    # computing all svms\n",
    "    res = []\n",
    "    res_train = []\n",
    "    for fn in file_names:\n",
    "        r = pi.run_multiple_times_svm_with_tunning(fn, \n",
    "                                               runs=runs, \n",
    "                                               number_of_clusters=number_of_clusters, linkage=linkage, distance=distance, \n",
    "                                               verbose=verbose)\n",
    "        res += [r[0]]\n",
    "        res_train += [r[1]]\n",
    "    #plot_bars(res, 'Test Accuracy')\n",
    "    #plt.figure()\n",
    "    #plot_bars(res_train, 'Train Accuracy')\n",
    "    return res, res_train\n",
    "        \n",
    "def plot_bars(res, title_str, apply_ylimit=False):\n",
    "    # building the result dataframe\n",
    "    dt = []\n",
    "    feature_set_names = ['node', 'network', 'node + network']\n",
    "    for j in range(len(res)):\n",
    "        for i in range(len(res[j].classification_accuracies)):\n",
    "            dt.append([res[j].classification_accuracies[i], 'Classification', feature_set_names[j]])\n",
    "            dt.append([res[j].clustering_classification_accuracies[i], 'Clustering then Classification', feature_set_names[j]])\n",
    "    RS = pd.DataFrame(data=dt, columns=['Accuracy', 'Method', 'Feature Set'])\n",
    "\n",
    "    # plotting the barplot\n",
    "    sns.set(rc={\"figure.figsize\": (12, 12)})\n",
    "    ax = sns.barplot(x=\"Feature Set\", y=\"Accuracy\", hue=\"Method\", data=RS)\n",
    "    if apply_ylimit:\n",
    "        plt.ylim(50, 60);\n",
    "    plt.title(title_str)\n",
    "    return plt"
   ]
  },
  {
   "cell_type": "markdown",
   "metadata": {},
   "source": [
    "# Run for different clustering and classification models"
   ]
  },
  {
   "cell_type": "code",
   "execution_count": 101,
   "metadata": {
    "collapsed": false
   },
   "outputs": [
    {
     "name": "stdout",
     "output_type": "stream",
     "text": [
      "Starting ...\n",
      "Loaded data size:  (577, 17)\n",
      "Swapping  8.0 : 16.0  with 0 : 8.0  ...\n",
      "Dataset size:  (577, 17)\n",
      "* * * * * * * * * * * * * * * * * * * * * * * * * * * * * * * * * * * * * * * * * * * * * * * * * * * * * * * * * * * * * * * * * * * * * * * * * * * * * * * * * * * * * * * * * * * * * * * * * * * * * * * * * * * * * * * * * * * * * * * * * * * * * * * * * * * * * * * * * * * * * * * * * * * * * * Starting ...\n",
      "Loaded data size:  (577, 23)\n",
      "Swapping  11.0 : 22.0  with 0 : 11.0  ...\n",
      "Dataset size:  (577, 23)\n",
      "* * * * * * * * * * * * * * * * * * * * * * * * * * * * * * * * * * * * * * * * * * * * * * * * * * * * * * * * * * * * * * * * * * * * * * * * * * * * * * * * * * * * * * * * * * * * * * * * * * * * * * * * * * * * * * * * * * * * * * * * * * * * * * * * * * * * * * * * * * * * * * * * * * * * * * Starting ...\n",
      "Loaded data size:  (577, 39)\n",
      "Swapping  19.0 : 38.0  with 0 : 19.0  ...\n",
      "Dataset size:  (577, 39)\n",
      "* * * * * * * * * * * * * * * * * * * * * * * * * * * * * * * * * * * * * * * * * * * * * * * * * * * * * * * * * * * * * * * * * * * * * * * * * * * * * * * * * * * * * * * * * * * * * * * * * * * * * * * * * * * * * * * * * * * * * * * * * * * * * * * * * * * * * * * * * * * * * * * * * * * * * * "
     ]
    }
   ],
   "source": [
    "pi = reload(pi)\n",
    "res4, res_train4 = compare_multiple_models(runs=30, number_of_clusters=4, linkage='complete', distance='cosine', verbose=False)"
   ]
  },
  {
   "cell_type": "code",
   "execution_count": 105,
   "metadata": {
    "collapsed": false
   },
   "outputs": [
    {
     "data": {
      "image/png": "[encoded data removed]",
      "text/plain": [
       "<matplotlib.figure.Figure at 0xfbd55e50>"
      ]
     },
     "metadata": {},
     "output_type": "display_data"
    }
   ],
   "source": [
    "plot_bars(res4, 'Test Accuracy', apply_ylimit=False)\n",
    "plt.ylim(50, 62);"
   ]
  },
  {
   "cell_type": "code",
   "execution_count": 108,
   "metadata": {
    "collapsed": false
   },
   "outputs": [
    {
     "data": {
      "image/png": "[encoded data removed]",
      "text/plain": [
       "<matplotlib.figure.Figure at 0xfcae1750>"
      ]
     },
     "metadata": {},
     "output_type": "display_data"
    }
   ],
   "source": [
    "plot_bars(res_train4, 'Train Accuracy', apply_ylimit=False)\n",
    "plt.ylim(50, 72);"
   ]
  }
 ],
 "metadata": {
  "kernelspec": {
   "display_name": "Python 2",
   "language": "python",
   "name": "python2"
  },
  "language_info": {
   "codemirror_mode": {
    "name": "ipython",
    "version": 2
   },
   "file_extension": ".py",
   "mimetype": "text/x-python",
   "name": "python",
   "nbconvert_exporter": "python",
   "pygments_lexer": "ipython2",
   "version": "2.7.5"
  }
 },
 "nbformat": 4,
 "nbformat_minor": 0
}
