{
 "cells": [
  {
   "cell_type": "code",
   "execution_count": null,
   "metadata": {
    "collapsed": false
   },
   "outputs": [],
   "source": [
    "#Omid55\n",
    "import requests\n",
    "import pandas as pd\n",
    "import pickle as pk\n",
    "import csv\n",
    "import time\n",
    "import numpy as np\n",
    "import random\n",
    "from collections import defaultdict\n",
    "import seaborn as sns\n",
    "import matplotlib.pylab as plt\n",
    "from scipy.sparse import csr_matrix\n",
    "import networkx as nx\n",
    "import glob\n",
    "import networkx\n",
    "import scipy\n",
    "import classification_pipeline as pi\n",
    "from __future__ import print_function\n",
    "% matplotlib inline"
   ]
  },
  {
   "cell_type": "code",
   "execution_count": null,
   "metadata": {
    "collapsed": true
   },
   "outputs": [],
   "source": [
    "\"\"\"Brief and useful info Match class\"\"\"\n",
    "class Match:\n",
    "    def __init__(self):\n",
    "        self.summonerIds_championIds_isWinner_tier = []\n",
    "        self.matchCreation = 0\n",
    "        self.matchDuration = 0\n",
    "        self.matchId = 0\n",
    "        self.matchMode = \"\"\n",
    "        self.matchType = \"\"\n",
    "        \n",
    "    def __init__(self, match):\n",
    "        self.summonerIds_championIds_isWinner_tier = get_summonerIds_championIds_isWinner_tier(match)\n",
    "        self.matchCreation = match['matchCreation']\n",
    "        self.matchDuration = match['matchDuration']\n",
    "        self.matchId = match['matchId']\n",
    "        self.matchMode = match['matchMode']\n",
    "        self.matchType = match['matchType']\n",
    "        \n",
    "    def __str__(self):\n",
    "        return 'id:' + str(self.matchId) + ', mode:' + str(self.matchMode) + ', type:' + str(self.matchType) + ', creation:' + str(self.matchCreation) + ', duration:' + str(self.matchDuration) + ', my stats:' + str(self.summonerIds_championIds_isWinner_tier)\n",
    "    "
   ]
  },
  {
   "cell_type": "code",
   "execution_count": null,
   "metadata": {
    "collapsed": true
   },
   "outputs": [],
   "source": [
    "class MatchResult:\n",
    "    def __init__(self):\n",
    "        self.matchId = 0\n",
    "        self.won = False\n",
    "    def __init__(self, matchId, won):\n",
    "        self.matchId = matchId\n",
    "        self.won = won"
   ]
  },
  {
   "cell_type": "code",
   "execution_count": null,
   "metadata": {
    "collapsed": true
   },
   "outputs": [],
   "source": [
    "\"\"\"ChampionResult is a simple class with number of\n",
    "    wins and loses as integer value\"\"\"\n",
    "class ChampionResult:\n",
    "    def __init__(self):\n",
    "        self.wins = 0\n",
    "        self.loses = 0\n",
    "    \n",
    "    def get_win_ratio(self):\n",
    "        #assert self.wins + self.loses != 0, 'There is no matches available...'\n",
    "        if not self.wins + self.loses:\n",
    "            return 0\n",
    "        return self.wins / float(self.wins + self.loses)\n",
    "    \n",
    "    def get_game_count(self):\n",
    "        return self.wins + self.loses\n",
    "        \n",
    "        \n",
    "\"\"\"SummonerChampionStats has a hashtable of champions which\n",
    "    describes how many time summoner won or lost with that\n",
    "    (GameResult as each item)\"\"\"\n",
    "class SummonerChampionStats:\n",
    "    def __init__(self):\n",
    "        self.champions = defaultdict(lambda: ChampionResult())\n",
    "    \n",
    "    def get_game_count(self):\n",
    "        return sum([c.get_game_count() for c in self.champions.values()])\n",
    "    \n",
    "    def get_win_ratio(self):\n",
    "        w = sum([c.wins for c in self.champions.values()])\n",
    "        l = sum([c.loses for c in self.champions.values()])\n",
    "        #assert w + l != 0, 'There is no matches available...'\n",
    "        if not w + l:\n",
    "            return 0\n",
    "        return w / float(w+l)\n",
    "        \n",
    "    def get_same_champion_game_count(self, champId):\n",
    "        return self.champions[champId].get_game_count()\n",
    "        \n",
    "    def get_same_champion_win_ratio(self, champId):\n",
    "        return self.champions[champId].get_win_ratio()\n",
    "        "
   ]
  },
  {
   "cell_type": "code",
   "execution_count": null,
   "metadata": {
    "collapsed": false
   },
   "outputs": [],
   "source": [
    "# build a key for each match from the summoner Ids:\n",
    "#   basically first we sort their sids and then put \n",
    "#   their ids together with commas\n",
    "def get_key_of_sids_for_the_given_match(match):\n",
    "    winner_sids = []\n",
    "    loser_sids = []\n",
    "    for player in match.summonerIds_championIds_isWinner_tier:\n",
    "        if player[2]: \n",
    "            winner_sids.append(player[0])\n",
    "        else:\n",
    "            loser_sids.append(player[0])\n",
    "    winner_sids = sorted(winner_sids)\n",
    "    winner_key = str(winner_sids[0])\n",
    "    for s in winner_sids[1:]:\n",
    "        winner_key = winner_key + ',' + str(s)\n",
    "    loser_sids = sorted(loser_sids)\n",
    "    loser_key = str(loser_sids[0])\n",
    "    for s in loser_sids[1:]:\n",
    "        loser_key = loser_key + ',' + str(s)\n",
    "    return winner_key, loser_key"
   ]
  },
  {
   "cell_type": "markdown",
   "metadata": {},
   "source": [
    "# Loading"
   ]
  },
  {
   "cell_type": "code",
   "execution_count": null,
   "metadata": {
    "collapsed": false
   },
   "outputs": [],
   "source": [
    "# loading all saved matches\n",
    "matches = {}\n",
    "for fname in glob.glob(\"MATCHES_till_sid*.pkl\"):\n",
    "    print(fname)\n",
    "    with open(fname, 'rb') as f:\n",
    "        matches_chunk = pk.load(f)\n",
    "        # it also removes identical matches (with the same matchId) and store them as one match\n",
    "        matches = dict(matches.items()+matches_chunk.items())   # adding all matches together\n",
    "print('Length of all matches is', len(matches))"
   ]
  },
  {
   "cell_type": "markdown",
   "metadata": {},
   "source": [
    "maximum number (sid) in the data"
   ]
  },
  {
   "cell_type": "code",
   "execution_count": null,
   "metadata": {
    "collapsed": false
   },
   "outputs": [],
   "source": [
    "sids = []\n",
    "for match in matches.values():\n",
    "    sids+=[m[0] for m in match.summonerIds_championIds_isWinner_tier]\n",
    "print(max(sids))"
   ]
  },
  {
   "cell_type": "code",
   "execution_count": null,
   "metadata": {
    "collapsed": false
   },
   "outputs": [],
   "source": [
    "plt.hist(sids)"
   ]
  },
  {
   "cell_type": "markdown",
   "metadata": {},
   "source": [
    "looking at all games that a team plays (all same players)"
   ]
  },
  {
   "cell_type": "code",
   "execution_count": null,
   "metadata": {
    "collapsed": false
   },
   "outputs": [],
   "source": [
    "teams = defaultdict(list)\n",
    "for k, mat in matches.items():\n",
    "    w, l = get_key_of_sids_for_the_given_match(mat)\n",
    "    teams[w].append( MatchResult(mat.matchId, True) )\n",
    "    teams[l].append( MatchResult(mat.matchId, False) )"
   ]
  },
  {
   "cell_type": "markdown",
   "metadata": {},
   "source": [
    "removing those teams which play fewer than a certain threshold (MIN_NUMBER_OF_GAMES_TOGHETHER)"
   ]
  },
  {
   "cell_type": "code",
   "execution_count": null,
   "metadata": {
    "collapsed": false
   },
   "outputs": [],
   "source": [
    "MIN_NUMBER_OF_GAMES_TOGHETHER = 10\n",
    "to_be_deleted = []\n",
    "for k in teams.keys():\n",
    "    if len(teams[k]) < MIN_NUMBER_OF_GAMES_TOGHETHER:\n",
    "        to_be_deleted.append(k)\n",
    "print('All teams#: ', len(teams))\n",
    "for k in to_be_deleted:\n",
    "    del(teams[k])\n",
    "print('Now teams#: ', len(teams))"
   ]
  },
  {
   "cell_type": "code",
   "execution_count": null,
   "metadata": {
    "collapsed": false
   },
   "outputs": [],
   "source": [
    "# sorting matches based on their time of match creation\n",
    "for k in teams.keys():\n",
    "    c = []\n",
    "    for kk in range(len(teams[k])):\n",
    "        c.append(matches[teams[k][kk].matchId].matchCreation)\n",
    "    teams[k] = [x for (y, x) in sorted(zip(c, teams[k]))]"
   ]
  },
  {
   "cell_type": "markdown",
   "metadata": {},
   "source": [
    "the distribution of number of games in the selected teams"
   ]
  },
  {
   "cell_type": "code",
   "execution_count": null,
   "metadata": {
    "collapsed": false
   },
   "outputs": [],
   "source": [
    "c = []\n",
    "for k in teams.keys():\n",
    "    c.append(len(teams[k]))\n",
    "plt.hist(c)"
   ]
  },
  {
   "cell_type": "code",
   "execution_count": null,
   "metadata": {
    "collapsed": false
   },
   "outputs": [],
   "source": [
    "diff = []\n",
    "for k in teams.keys():\n",
    "    s = []\n",
    "    for game_result in teams[k]:\n",
    "        if game_result.won:\n",
    "            s.append(1)\n",
    "        else:\n",
    "            s.append(0)\n",
    "    diff.append(sum(s[len(s)/2:]) - sum(s[:len(s)/2]))\n",
    "diff = np.array(diff)"
   ]
  },
  {
   "cell_type": "code",
   "execution_count": null,
   "metadata": {
    "collapsed": false
   },
   "outputs": [],
   "source": [
    "plt.hist(diff)"
   ]
  },
  {
   "cell_type": "code",
   "execution_count": null,
   "metadata": {
    "collapsed": false
   },
   "outputs": [],
   "source": [
    "len(np.where(diff>0)[0])"
   ]
  },
  {
   "cell_type": "code",
   "execution_count": null,
   "metadata": {
    "collapsed": false
   },
   "outputs": [],
   "source": [
    "len(np.where(diff<0)[0])"
   ]
  },
  {
   "cell_type": "code",
   "execution_count": null,
   "metadata": {
    "collapsed": false
   },
   "outputs": [],
   "source": [
    "len(np.where(diff==0)[0])"
   ]
  },
  {
   "cell_type": "markdown",
   "metadata": {},
   "source": [
    "# Getting more information about matches"
   ]
  },
  {
   "cell_type": "code",
   "execution_count": null,
   "metadata": {
    "collapsed": false
   },
   "outputs": [],
   "source": [
    "import download_data\n",
    "reload(download_data)\n",
    "api = download_data.get_the_api(key_file_name='MyKey6.key')"
   ]
  },
  {
   "cell_type": "code",
   "execution_count": null,
   "metadata": {
    "collapsed": false
   },
   "outputs": [],
   "source": [
    "for team, team_matches in teams.items():\n",
    "    for match_result in team_matches:\n",
    "        match = api._get_match(match_result.matchId)\n",
    "        print(match)\n",
    "        break\n",
    "    break"
   ]
  },
  {
   "cell_type": "code",
   "execution_count": null,
   "metadata": {
    "collapsed": false
   },
   "outputs": [],
   "source": [
    "match.keys()"
   ]
  },
  {
   "cell_type": "code",
   "execution_count": null,
   "metadata": {
    "collapsed": false
   },
   "outputs": [],
   "source": [
    "type(match)"
   ]
  },
  {
   "cell_type": "code",
   "execution_count": null,
   "metadata": {
    "collapsed": false
   },
   "outputs": [],
   "source": [
    "match['participants'][0]['stats']"
   ]
  },
  {
   "cell_type": "code",
   "execution_count": null,
   "metadata": {
    "collapsed": true
   },
   "outputs": [],
   "source": []
  }
 ],
 "metadata": {
  "kernelspec": {
   "display_name": "Python 2",
   "language": "python",
   "name": "python2"
  },
  "language_info": {
   "codemirror_mode": {
    "name": "ipython",
    "version": 2
   },
   "file_extension": ".py",
   "mimetype": "text/x-python",
   "name": "python",
   "nbconvert_exporter": "python",
   "pygments_lexer": "ipython2",
   "version": "2.7.5"
  }
 },
 "nbformat": 4,
 "nbformat_minor": 0
}
