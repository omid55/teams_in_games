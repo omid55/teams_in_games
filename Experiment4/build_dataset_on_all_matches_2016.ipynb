{
 "cells": [
  {
   "cell_type": "code",
   "execution_count": 1,
   "metadata": {
    "collapsed": false
   },
   "outputs": [
    {
     "data": {
      "text/plain": [
       "'Splitting a bunch of saved games into 2 parts:\\n1- Data for computing stats\\n2- Dataset to train model and predict in 10-fold CV\\nIn fact, Stats is for previous data and that is why first we have to sort matches\\nand then choose an appropriate portion as stats and the rest for training and testing\\n'"
      ]
     },
     "execution_count": 1,
     "metadata": {},
     "output_type": "execute_result"
    }
   ],
   "source": [
    "\"\"\"Splitting a bunch of saved games into 2 parts:\n",
    "1- Data for computing stats\n",
    "2- Dataset to train model and predict in 10-fold CV\n",
    "In fact, Stats is for previous data and that is why first we have to sort matches\n",
    "and then choose an appropriate portion as stats and the rest for training and testing\n",
    "\"\"\""
   ]
  },
  {
   "cell_type": "markdown",
   "metadata": {},
   "source": [
    "# Imports"
   ]
  },
  {
   "cell_type": "code",
   "execution_count": 95,
   "metadata": {
    "collapsed": true
   },
   "outputs": [],
   "source": [
    "#Omid55\n",
    "import requests\n",
    "import pandas as pd\n",
    "import pickle as pk\n",
    "import csv\n",
    "import time\n",
    "import numpy as np\n",
    "import random\n",
    "from collections import defaultdict\n",
    "import seaborn as sns\n",
    "import matplotlib.pylab as plt\n",
    "import scipy\n",
    "import networkx\n",
    "from scipy.sparse import csr_matrix\n",
    "import networkx as nx\n",
    "import glob\n",
    "% matplotlib inline"
   ]
  },
  {
   "cell_type": "markdown",
   "metadata": {},
   "source": [
    "# Useful Classes and Functions"
   ]
  },
  {
   "cell_type": "code",
   "execution_count": 163,
   "metadata": {
    "collapsed": true
   },
   "outputs": [],
   "source": [
    "def my_maximum (A, B):\n",
    "    BisBigger = A-B\n",
    "    BisBigger.data = np.where(BisBigger.data < 0, 1, 0)\n",
    "    return A - A.multiply(BisBigger) + B.multiply(BisBigger)"
   ]
  },
  {
   "cell_type": "code",
   "execution_count": 3,
   "metadata": {
    "collapsed": true
   },
   "outputs": [],
   "source": [
    "\"\"\"Brief and useful info Match class\"\"\"\n",
    "class Match:\n",
    "    def __init__(self):\n",
    "        self.summonerIds_championIds_isWinner_tier = []\n",
    "        self.matchCreation = 0\n",
    "        self.matchDuration = 0\n",
    "        self.matchId = 0\n",
    "        self.matchMode = \"\"\n",
    "        self.matchType = \"\"\n",
    "        \n",
    "    def __init__(self, match):\n",
    "        self.summonerIds_championIds_isWinner_tier = get_summonerIds_championIds_isWinner_tier(match)\n",
    "        self.matchCreation = match['matchCreation']\n",
    "        self.matchDuration = match['matchDuration']\n",
    "        self.matchId = match['matchId']\n",
    "        self.matchMode = match['matchMode']\n",
    "        self.matchType = match['matchType']\n",
    "        \n",
    "    def __str__(self):\n",
    "        return 'id:' + str(self.matchId) + ', mode:' + str(self.matchMode) + ', type:' + str(self.matchType) + ', creation:' + str(self.matchCreation) + ', duration:' + str(self.matchDuration) + ', my stats:' + str(self.summonerIds_championIds_isWinner_tier)\n",
    "    "
   ]
  },
  {
   "cell_type": "code",
   "execution_count": 4,
   "metadata": {
    "collapsed": false
   },
   "outputs": [],
   "source": [
    "\"\"\"ChampionResult is a simple class with number of\n",
    "    wins and loses as integer value\"\"\"\n",
    "class ChampionResult:\n",
    "    def __init__(self):\n",
    "        self.wins = 0\n",
    "        self.loses = 0\n",
    "    \n",
    "    def get_win_ratio(self):\n",
    "        #assert self.wins + self.loses != 0, 'There is no matches available...'\n",
    "        if not self.wins + self.loses:\n",
    "            return 0\n",
    "        return self.wins / float(self.wins + self.loses)\n",
    "    \n",
    "    def get_game_count(self):\n",
    "        return self.wins + self.loses\n",
    "        \n",
    "        \n",
    "\"\"\"SummonerChampionStats has a hashtable of champions which\n",
    "    describes how many time summoner won or lost with that\n",
    "    (GameResult as each item)\"\"\"\n",
    "class SummonerChampionStats:\n",
    "    def __init__(self):\n",
    "        self.champions = defaultdict(lambda: ChampionResult())\n",
    "    \n",
    "    def get_game_count(self):\n",
    "        return sum([c.get_game_count() for c in self.champions.values()])\n",
    "    \n",
    "    def get_win_ratio(self):\n",
    "        w = sum([c.wins for c in self.champions.values()])\n",
    "        l = sum([c.loses for c in self.champions.values()])\n",
    "        #assert w + l != 0, 'There is no matches available...'\n",
    "        if not w + l:\n",
    "            return 0\n",
    "        return w / float(w+l)\n",
    "        \n",
    "    def get_same_champion_game_count(self, champId):\n",
    "        return self.champions[champId].get_game_count()\n",
    "        \n",
    "    def get_same_champion_win_ratio(self, champId):\n",
    "        return self.champions[champId].get_win_ratio()\n",
    "        "
   ]
  },
  {
   "cell_type": "code",
   "execution_count": 5,
   "metadata": {
    "collapsed": false
   },
   "outputs": [],
   "source": [
    "# preprocessing summoners from matches in order to have a dictionary of summoners with\n",
    "#    a dictionary of their previous selected champions and GameResult for\n",
    "#       for each selected champion (wins and loses)\n",
    "def preprocess_given_matches(previous_matchIds_for_stats):\n",
    "    summoners_stats = defaultdict(lambda: SummonerChampionStats())\n",
    "    for mid in previous_matchIds_for_stats:\n",
    "        summoner_champ_winner = matches[mid].summonerIds_championIds_isWinner_tier\n",
    "        for s in summoner_champ_winner:\n",
    "            if s[2]:\n",
    "                summoners_stats[s[0]].champions[s[1]].wins += 1\n",
    "            else:\n",
    "                summoners_stats[s[0]].champions[s[1]].loses += 1\n",
    "    return summoners_stats"
   ]
  },
  {
   "cell_type": "markdown",
   "metadata": {},
   "source": [
    "Get the index for a sid in the network, it adds a new node if sid does not exist"
   ]
  },
  {
   "cell_type": "code",
   "execution_count": 6,
   "metadata": {
    "collapsed": true
   },
   "outputs": [],
   "source": [
    "def get_the_index_for_sid(sid):\n",
    "    if sid not in sid_map:\n",
    "        sid_map[sid] = len(sid_map)\n",
    "    return sid_map[sid]\n",
    "\n",
    "# in general format\n",
    "def get_index_for(dictionary, val):\n",
    "    if val not in dictionary:\n",
    "        dictionary[val] = len(dictionary)\n",
    "    return dictionary[val]"
   ]
  },
  {
   "cell_type": "markdown",
   "metadata": {},
   "source": [
    "Get a list of network features for a given adjacency matrix"
   ]
  },
  {
   "cell_type": "code",
   "execution_count": 7,
   "metadata": {
    "collapsed": false
   },
   "outputs": [],
   "source": [
    "net_metric_names = ['AC', 'clustering', 'shortest_path_length', 'diameter', 'spectrum_v1', 'spectrum_v2', 'spectrum_v3', 'spectrum_v4', 'spectrum_v5']\n",
    "\n",
    "def get_network_metrics(A):\n",
    "    #nx.draw(A)\n",
    "    return [nx.algebraic_connectivity(A), nx.average_clustering(A),\n",
    "        nx.average_shortest_path_length(A) if nx.is_connected(A) else -1, \n",
    "            nx.diameter(A) if nx.is_connected(A) else -1] + list(nx.laplacian_spectrum(A))"
   ]
  },
  {
   "cell_type": "markdown",
   "metadata": {},
   "source": [
    "Compute the weight between two nodes in the entire giant network "
   ]
  },
  {
   "cell_type": "code",
   "execution_count": 184,
   "metadata": {
    "collapsed": true
   },
   "outputs": [],
   "source": [
    "def compute_weight_between_two_nodes_in_large_network(weighted_network, weighted_network_graph, n1, n2):\n",
    "    assert type(weighted_network) == scipy.sparse.csr.csr_matrix, 'weighted_network is not a sparse matrix ...'\n",
    "    assert type(weighted_network_graph) == networkx.classes.graph.Graph, 'weighted_network_graph is not a networkx graph ...'\n",
    "    try:\n",
    "        path = nx.shortest_path(weighted_network_graph, n1, n2)\n",
    "    except:\n",
    "        return 1000   # if there is not path and it has been raised nx.NetworkXNoPath then there is a large distance\n",
    "    distance = 0\n",
    "    for i in range(len(path)-1):\n",
    "        distance += 1.0 / weighted_network[path[i], path[i+1]]\n",
    "    return distance"
   ]
  },
  {
   "cell_type": "markdown",
   "metadata": {},
   "source": [
    "# Start runing the script"
   ]
  },
  {
   "cell_type": "code",
   "execution_count": 8,
   "metadata": {
    "collapsed": false
   },
   "outputs": [
    {
     "name": "stdout",
     "output_type": "stream",
     "text": [
      "MATCHES_till_sid512106.pkl\n",
      "MATCHES_till_sid503154.pkl\n",
      "MATCHES_till_sid35050.pkl\n",
      "MATCHES_till_sid31287.pkl\n",
      "MATCHES_till_sid4698.pkl\n",
      "MATCHES_till_sid33108.pkl\n",
      "MATCHES_till_sid515669.pkl\n",
      "MATCHES_till_sid504948.pkl\n",
      "MATCHES_till_sid5502.pkl\n",
      "MATCHES_till_sid37119.pkl\n",
      "MATCHES_till_sid1039.pkl\n",
      "MATCHES_till_sid6755.pkl\n",
      "MATCHES_till_sid10139.pkl\n",
      "MATCHES_till_sid8499.pkl\n",
      "MATCHES_till_sid3410.pkl\n",
      "MATCHES_till_sid1900.pkl\n",
      "MATCHES_till_sid509003.pkl\n",
      "MATCHES_till_sid7780.pkl\n",
      "MATCHES_till_sid28766.pkl\n",
      "MATCHES_till_sid514117.pkl\n",
      "MATCHES_till_sid603363.pkl\n"
     ]
    }
   ],
   "source": [
    "# loading all saved matches\n",
    "matches = {}\n",
    "for fname in glob.glob(\"MATCHES_till_sid*.pkl\"):\n",
    "    print(fname)\n",
    "    with open(fname, 'rb') as f:\n",
    "        matches_chunk = pk.load(f)    \n",
    "        matches = dict(matches.items()+matches_chunk.items())   # adding all matches together"
   ]
  },
  {
   "cell_type": "code",
   "execution_count": 9,
   "metadata": {
    "collapsed": false
   },
   "outputs": [
    {
     "name": "stdout",
     "output_type": "stream",
     "text": [
      "Length of all matches is 208711\n"
     ]
    }
   ],
   "source": [
    "print 'Length of all matches is', len(matches)"
   ]
  },
  {
   "cell_type": "markdown",
   "metadata": {},
   "source": [
    "# Run after done loading and cleanning the data"
   ]
  },
  {
   "cell_type": "markdown",
   "metadata": {},
   "source": [
    "Splitting the data into 2 sets"
   ]
  },
  {
   "cell_type": "code",
   "execution_count": 10,
   "metadata": {
    "collapsed": false
   },
   "outputs": [
    {
     "name": "stdout",
     "output_type": "stream",
     "text": [
      "Length of matchIds_for_stats is 146097 \n",
      "Length of matchIds_for_dataset is 62614\n"
     ]
    }
   ],
   "source": [
    "# selecting a sample of matches\n",
    "SAMPLE_IT = False\n",
    "if SAMPLE_IT:\n",
    "    SAMPLE_SIZE = 10000\n",
    "    sampled_matches_ids = [matches.keys()[s] for s in sorted(random.sample(range(len(matches)), SAMPLE_SIZE))]\n",
    "else:  # all the data\n",
    "    sampled_matches_ids = matches.keys()\n",
    "\n",
    "# sorting matches with respect to their match creation date\n",
    "dates = np.zeros(len(sampled_matches_ids))\n",
    "for i, mid in enumerate(sampled_matches_ids):\n",
    "    dates[i] = matches[mid].matchCreation\n",
    "sampled_matches_ids_sorted = [x for (y,x) in sorted(zip(dates, sampled_matches_ids))]\n",
    "#all(dates[i]<=dates[i+1] for i in range(len(dates)-1))  # for checking if this is sorted or no\n",
    "\n",
    "# spliting the data to 70% for stats and 30% for dataset (train and test for 10-fold CV)\n",
    "stats_len = int(0.7*len(sampled_matches_ids_sorted))\n",
    "matchIds_for_stats = sampled_matches_ids_sorted[:stats_len]\n",
    "matchIds_for_dataset = sampled_matches_ids_sorted[stats_len:]\n",
    "print 'Length of matchIds_for_stats is', len(matchIds_for_stats), '\\nLength of matchIds_for_dataset is', len(matchIds_for_dataset)"
   ]
  },
  {
   "cell_type": "markdown",
   "metadata": {},
   "source": [
    "# Building the network of games from stats data"
   ]
  },
  {
   "cell_type": "code",
   "execution_count": 11,
   "metadata": {
    "collapsed": false
   },
   "outputs": [
    {
     "name": "stdout",
     "output_type": "stream",
     "text": [
      "There are 638706 unique summoners in the stats data.\n"
     ]
    }
   ],
   "source": [
    "# finding the number of unique summoners\n",
    "all_sids_in_stats = []\n",
    "for mid in matchIds_for_stats:\n",
    "    sc = matches[mid].summonerIds_championIds_isWinner_tier\n",
    "    all_sids_in_stats+=[s[0] for s in sc]\n",
    "N = len(set(all_sids_in_stats))\n",
    "del all_sids_in_stats\n",
    "print 'There are', N, 'unique summoners in the stats data.'"
   ]
  },
  {
   "cell_type": "code",
   "execution_count": 12,
   "metadata": {
    "collapsed": false
   },
   "outputs": [
    {
     "name": "stderr",
     "output_type": "stream",
     "text": [
      "/cs/student/omid55/.local/lib/python2.7/site-packages/numpy/core/fromnumeric.py:2645: VisibleDeprecationWarning: `rank` is deprecated; use the `ndim` attribute or function instead. To find the rank of a matrix see `numpy.linalg.matrix_rank`.\n",
      "  VisibleDeprecationWarning)\n"
     ]
    }
   ],
   "source": [
    "sid_map = {}\n",
    "edges = defaultdict(lambda: 0)\n",
    "for mid in matchIds_for_stats:\n",
    "    sc = matches[mid].summonerIds_championIds_isWinner_tier\n",
    "    for i in range(len(sc)):\n",
    "        for j in range(i+1, len(sc)):\n",
    "            if sc[i][2] == sc[j][2]:   # if they were in the same team\n",
    "                key = str(get_the_index_for_sid(sc[i][0])) + ',' + str(get_the_index_for_sid(sc[j][0]))\n",
    "                edges[key] += 1\n",
    "row, col, val = [], [], []\n",
    "for k, v in edges.items():\n",
    "    coordination = k.split(',')\n",
    "    row.append(int(coordination[0]))\n",
    "    col.append(int(coordination[1]))\n",
    "    val.append(v)\n",
    "# since N is so large, we build a sparse matrix to save the entire network in it\n",
    "W = csr_matrix((val, (row, col)), shape=(N,N), dtype=np.int8)\n",
    "del edges, row, col, val"
   ]
  },
  {
   "cell_type": "code",
   "execution_count": 161,
   "metadata": {
    "collapsed": false
   },
   "outputs": [],
   "source": [
    "W = my_maximum(W, np.transpose(W))"
   ]
  },
  {
   "cell_type": "code",
   "execution_count": 162,
   "metadata": {
    "collapsed": false
   },
   "outputs": [],
   "source": [
    "WG = nx.Graph(W)"
   ]
  },
  {
   "cell_type": "markdown",
   "metadata": {},
   "source": [
    "This part may take a long time to run"
   ]
  },
  {
   "cell_type": "code",
   "execution_count": 14,
   "metadata": {
    "collapsed": false
   },
   "outputs": [],
   "source": [
    "# # degree distribution of the network\n",
    "# plt.hist(sum(W).toarray())\n",
    "# plt.title('Degree distribution in the entire network');"
   ]
  },
  {
   "cell_type": "markdown",
   "metadata": {},
   "source": [
    "# Building the dataset from the second part (dataset)"
   ]
  },
  {
   "cell_type": "markdown",
   "metadata": {},
   "source": [
    "Building the dataset"
   ]
  },
  {
   "cell_type": "code",
   "execution_count": 185,
   "metadata": {
    "collapsed": false
   },
   "outputs": [
    {
     "name": "stdout",
     "output_type": "stream",
     "text": [
      "Data length is 17339\n"
     ]
    },
    {
     "data": {
      "image/png": "[encoded data removed]",
      "text/plain": [
       "<matplotlib.figure.Figure at 0xa4ecf450>"
      ]
     },
     "metadata": {},
     "output_type": "display_data"
    }
   ],
   "source": [
    "small_dataset = True\n",
    "\n",
    "# preproccessing the stats part of data\n",
    "summoners_stats = preprocess_given_matches(matchIds_for_stats)\n",
    "\n",
    "# in each match how many of summoners have been seen in the stats before\n",
    "c = np.zeros(len(matchIds_for_dataset))\n",
    "for i, mid in enumerate(matchIds_for_dataset):\n",
    "    for s in matches[mid].summonerIds_championIds_isWinner_tier:\n",
    "        if s[0] in summoners_stats:\n",
    "            c[i] += 1\n",
    "plt.hist(c)\n",
    "plt.title('Distribution of number of members per match that we have stats about (match of 10 members)');\n",
    "\n",
    "\n",
    "# Actually building the dataset now:::\n",
    "# for each match in the dataset\n",
    "data = []\n",
    "MIN_COUNT_MEMBER = 4  # minimum number of team members that we have information about\n",
    "for mid in matchIds_for_dataset:\n",
    "    # ------------------------------------------------------------------\n",
    "    # check if we have enough information about this match of not. In fact if\n",
    "    #   we have fewer than MIN_COUNT_MEMBER number of people with info, we should\n",
    "    #   get rid of that match\n",
    "    w = 0\n",
    "    l = 0\n",
    "    for s in matches[mid].summonerIds_championIds_isWinner_tier:\n",
    "        if s[0] in summoners_stats:\n",
    "            if s[2]:\n",
    "                w += 1\n",
    "            else:\n",
    "                l += 1\n",
    "    if w < MIN_COUNT_MEMBER or l < MIN_COUNT_MEMBER:\n",
    "        continue\n",
    "    # ------------------------------------------------------------------\n",
    "    \n",
    "    summoners_not_found_winner = 0\n",
    "    summoners_not_found_loser = 0\n",
    "    winners = []\n",
    "    losers = []\n",
    "    \n",
    "    sc = matches[mid].summonerIds_championIds_isWinner_tier\n",
    "    \n",
    "    # for team network \n",
    "    w_dict = {}\n",
    "    l_dict = {}\n",
    "    W_winner_team = np.zeros((5,5))\n",
    "    W_loser_team = np.zeros((5,5))\n",
    "    for i in range(len(sc)):\n",
    "        for j in range(i+1, len(sc)):\n",
    "            if sc[i][2] == sc[j][2]:\n",
    "                if sc[i][0] in sid_map and sc[j][0] in sid_map:\n",
    "                    if sc[i][2]:\n",
    "                        ii = get_index_for(w_dict,i)\n",
    "                        jj = get_index_for(w_dict,j)\n",
    "                        W_winner_team[ii,jj] = compute_weight_between_two_nodes_in_large_network\\\n",
    "                            (W, WG, get_the_index_for_sid(sc[i][0]), get_the_index_for_sid(sc[j][0]))\n",
    "                        W_winner_team[jj,ii] = W_winner_team[ii,jj]\n",
    "                    else:\n",
    "                        ii = get_index_for(l_dict,i)\n",
    "                        jj = get_index_for(l_dict,j)\n",
    "                        W_loser_team[ii,jj] = compute_weight_between_two_nodes_in_large_network\\\n",
    "                            (W, WG, get_the_index_for_sid(sc[i][0]), get_the_index_for_sid(sc[j][0]))\n",
    "                        W_loser_team[jj,ii] = W_loser_team[ii,jj]\n",
    "    # thus we have winner weights, loser weights\n",
    "    #   and their adjacency matrix as W_winner_team, W_loser_team\n",
    "    \n",
    "    wg = nx.Graph(W_winner_team)\n",
    "    lg = nx.Graph(W_loser_team)\n",
    "    \n",
    "    # for each member in each team\n",
    "    for s in sc:\n",
    "        stat = summoners_stats[s[0]]\n",
    "        tmp = [\n",
    "            stat.get_game_count(),\n",
    "            stat.get_win_ratio(),\n",
    "            stat.get_same_champion_game_count(s[1]),\n",
    "            stat.get_same_champion_win_ratio(s[1])\n",
    "        ]\n",
    "        if s[2]:\n",
    "            winners.append(tmp)\n",
    "        else:\n",
    "            losers.append(tmp)\n",
    "       \n",
    "    if small_dataset:\n",
    "        sample = list(np.average(winners, axis=0)) + \\\n",
    "            list(np.std(winners, axis=0)) + \\\n",
    "            list(np.average(losers, axis=0)) + \\\n",
    "            list(np.std(losers, axis=0))\n",
    "    else:\n",
    "        sample = list(np.average(winners, axis=0)) + \\\n",
    "            list(np.std(winners, axis=0)) + \\\n",
    "            [np.average(sum(W_winner_team)),\n",
    "            np.std(sum(W_winner_team))] + \\\n",
    "            get_network_metrics(wg) + \\\n",
    "            list(np.average(losers, axis=0)) + \\\n",
    "            list(np.std(losers, axis=0)) + \\\n",
    "            [np.average(sum(W_loser_team)),\n",
    "            np.std(sum(W_loser_team))] +\\\n",
    "            get_network_metrics(lg)\n",
    "               \n",
    "    data.append(sample)\n",
    "\n",
    "print 'Data length is', len(data)\n",
    "\n",
    "# names for the features in the dataset\n",
    "names = ['avg_game_count', 'avg_win_ratio', 'avg_same_champion_game_count', 'avg_same_champion_win_ratio', \n",
    "                     'std_game_count', 'std_win_ratio', 'std_same_champion_game_count', 'std_same_champion_win_ratio', \n",
    "                         'average_weight', 'std_weight'] + net_metric_names\n",
    "feature_names = ['winner_' + na for na in names] + ['loser_' + na for na in names]"
   ]
  },
  {
   "cell_type": "code",
   "execution_count": 28,
   "metadata": {
    "collapsed": false
   },
   "outputs": [],
   "source": [
    "if small_dataset:\n",
    "    dataset = pd.DataFrame(data=data, columns=['winner_avg_game_count', 'winner_avg_win_ratio', 'winner_avg_same_champion_game_count', 'winner_avg_same_champion_win_ratio', \n",
    "                                               'winner_std_game_count', 'winner_std_win_ratio', 'winner_std_same_champion_game_count', 'winner_std_same_champion_win_ratio', \n",
    "                                               'loser_avg_game_count', 'loser_avg_win_ratio', 'loser_avg_same_champion_game_count', 'loser_avg_same_champion_win_ratio', \n",
    "                                               'loser_std_game_count', 'loser_std_win_ratio', 'loser_std_same_champion_game_count', 'loser_std_same_champion_win_ratio' \n",
    "                                               ])\n",
    "else:\n",
    "    dataset = pd.DataFrame(data=data, columns= feature_names)\n",
    "\n",
    "dataset.to_csv('Classification2016_Dataset.csv')"
   ]
  },
  {
   "cell_type": "code",
   "execution_count": 29,
   "metadata": {
    "collapsed": false
   },
   "outputs": [
    {
     "data": {
      "text/plain": [
       "(17339, 16)"
      ]
     },
     "execution_count": 29,
     "metadata": {},
     "output_type": "execute_result"
    }
   ],
   "source": [
    "dataset.shape"
   ]
  },
  {
   "cell_type": "code",
   "execution_count": 30,
   "metadata": {
    "collapsed": false
   },
   "outputs": [
    {
     "data": {
      "text/html": [
       "<div>\n",
       "<table border=\"1\" class=\"dataframe\">\n",
       "  <thead>\n",
       "    <tr style=\"text-align: right;\">\n",
       "      <th></th>\n",
       "      <th>winner_avg_game_count</th>\n",
       "      <th>winner_avg_win_ratio</th>\n",
       "      <th>winner_avg_same_champion_game_count</th>\n",
       "      <th>winner_avg_same_champion_win_ratio</th>\n",
       "      <th>winner_std_game_count</th>\n",
       "      <th>winner_std_win_ratio</th>\n",
       "      <th>winner_std_same_champion_game_count</th>\n",
       "      <th>winner_std_same_champion_win_ratio</th>\n",
       "      <th>loser_avg_game_count</th>\n",
       "      <th>loser_avg_win_ratio</th>\n",
       "      <th>loser_avg_same_champion_game_count</th>\n",
       "      <th>loser_avg_same_champion_win_ratio</th>\n",
       "      <th>loser_std_game_count</th>\n",
       "      <th>loser_std_win_ratio</th>\n",
       "      <th>loser_std_same_champion_game_count</th>\n",
       "      <th>loser_std_same_champion_win_ratio</th>\n",
       "    </tr>\n",
       "  </thead>\n",
       "  <tbody>\n",
       "    <tr>\n",
       "      <th>0</th>\n",
       "      <td>2.8</td>\n",
       "      <td>0.396667</td>\n",
       "      <td>0.2</td>\n",
       "      <td>0.20000</td>\n",
       "      <td>1.600000</td>\n",
       "      <td>0.330723</td>\n",
       "      <td>0.400000</td>\n",
       "      <td>0.400000</td>\n",
       "      <td>65.4</td>\n",
       "      <td>0.604621</td>\n",
       "      <td>2.4</td>\n",
       "      <td>0.145455</td>\n",
       "      <td>97.641385</td>\n",
       "      <td>0.373021</td>\n",
       "      <td>4.317407</td>\n",
       "      <td>0.290909</td>\n",
       "    </tr>\n",
       "    <tr>\n",
       "      <th>1</th>\n",
       "      <td>84.8</td>\n",
       "      <td>0.432853</td>\n",
       "      <td>4.2</td>\n",
       "      <td>0.12381</td>\n",
       "      <td>165.602415</td>\n",
       "      <td>0.326502</td>\n",
       "      <td>8.400000</td>\n",
       "      <td>0.247619</td>\n",
       "      <td>1.6</td>\n",
       "      <td>0.100000</td>\n",
       "      <td>0.2</td>\n",
       "      <td>0.000000</td>\n",
       "      <td>0.489898</td>\n",
       "      <td>0.200000</td>\n",
       "      <td>0.400000</td>\n",
       "      <td>0.000000</td>\n",
       "    </tr>\n",
       "    <tr>\n",
       "      <th>2</th>\n",
       "      <td>191.0</td>\n",
       "      <td>0.635654</td>\n",
       "      <td>15.4</td>\n",
       "      <td>0.27500</td>\n",
       "      <td>357.155988</td>\n",
       "      <td>0.203928</td>\n",
       "      <td>28.323842</td>\n",
       "      <td>0.235112</td>\n",
       "      <td>9.2</td>\n",
       "      <td>0.662471</td>\n",
       "      <td>0.0</td>\n",
       "      <td>0.000000</td>\n",
       "      <td>9.108238</td>\n",
       "      <td>0.228489</td>\n",
       "      <td>0.000000</td>\n",
       "      <td>0.000000</td>\n",
       "    </tr>\n",
       "    <tr>\n",
       "      <th>3</th>\n",
       "      <td>2.0</td>\n",
       "      <td>0.266667</td>\n",
       "      <td>0.6</td>\n",
       "      <td>0.30000</td>\n",
       "      <td>1.095445</td>\n",
       "      <td>0.326599</td>\n",
       "      <td>0.800000</td>\n",
       "      <td>0.400000</td>\n",
       "      <td>64.8</td>\n",
       "      <td>0.713057</td>\n",
       "      <td>17.2</td>\n",
       "      <td>0.242949</td>\n",
       "      <td>97.043083</td>\n",
       "      <td>0.235038</td>\n",
       "      <td>30.557487</td>\n",
       "      <td>0.297759</td>\n",
       "    </tr>\n",
       "    <tr>\n",
       "      <th>4</th>\n",
       "      <td>1.4</td>\n",
       "      <td>0.533333</td>\n",
       "      <td>0.0</td>\n",
       "      <td>0.00000</td>\n",
       "      <td>1.019804</td>\n",
       "      <td>0.452155</td>\n",
       "      <td>0.000000</td>\n",
       "      <td>0.000000</td>\n",
       "      <td>18.6</td>\n",
       "      <td>0.604088</td>\n",
       "      <td>1.8</td>\n",
       "      <td>0.320000</td>\n",
       "      <td>16.752313</td>\n",
       "      <td>0.329222</td>\n",
       "      <td>2.227106</td>\n",
       "      <td>0.411825</td>\n",
       "    </tr>\n",
       "  </tbody>\n",
       "</table>\n",
       "</div>"
      ],
      "text/plain": [
       "   winner_avg_game_count  winner_avg_win_ratio  \\\n",
       "0                    2.8              0.396667   \n",
       "1                   84.8              0.432853   \n",
       "2                  191.0              0.635654   \n",
       "3                    2.0              0.266667   \n",
       "4                    1.4              0.533333   \n",
       "\n",
       "   winner_avg_same_champion_game_count  winner_avg_same_champion_win_ratio  \\\n",
       "0                                  0.2                             0.20000   \n",
       "1                                  4.2                             0.12381   \n",
       "2                                 15.4                             0.27500   \n",
       "3                                  0.6                             0.30000   \n",
       "4                                  0.0                             0.00000   \n",
       "\n",
       "   winner_std_game_count  winner_std_win_ratio  \\\n",
       "0               1.600000              0.330723   \n",
       "1             165.602415              0.326502   \n",
       "2             357.155988              0.203928   \n",
       "3               1.095445              0.326599   \n",
       "4               1.019804              0.452155   \n",
       "\n",
       "   winner_std_same_champion_game_count  winner_std_same_champion_win_ratio  \\\n",
       "0                             0.400000                            0.400000   \n",
       "1                             8.400000                            0.247619   \n",
       "2                            28.323842                            0.235112   \n",
       "3                             0.800000                            0.400000   \n",
       "4                             0.000000                            0.000000   \n",
       "\n",
       "   loser_avg_game_count  loser_avg_win_ratio  \\\n",
       "0                  65.4             0.604621   \n",
       "1                   1.6             0.100000   \n",
       "2                   9.2             0.662471   \n",
       "3                  64.8             0.713057   \n",
       "4                  18.6             0.604088   \n",
       "\n",
       "   loser_avg_same_champion_game_count  loser_avg_same_champion_win_ratio  \\\n",
       "0                                 2.4                           0.145455   \n",
       "1                                 0.2                           0.000000   \n",
       "2                                 0.0                           0.000000   \n",
       "3                                17.2                           0.242949   \n",
       "4                                 1.8                           0.320000   \n",
       "\n",
       "   loser_std_game_count  loser_std_win_ratio  \\\n",
       "0             97.641385             0.373021   \n",
       "1              0.489898             0.200000   \n",
       "2              9.108238             0.228489   \n",
       "3             97.043083             0.235038   \n",
       "4             16.752313             0.329222   \n",
       "\n",
       "   loser_std_same_champion_game_count  loser_std_same_champion_win_ratio  \n",
       "0                            4.317407                           0.290909  \n",
       "1                            0.400000                           0.000000  \n",
       "2                            0.000000                           0.000000  \n",
       "3                           30.557487                           0.297759  \n",
       "4                            2.227106                           0.411825  "
      ]
     },
     "execution_count": 30,
     "metadata": {},
     "output_type": "execute_result"
    }
   ],
   "source": [
    "dataset.head()"
   ]
  },
  {
   "cell_type": "code",
   "execution_count": 38,
   "metadata": {
    "collapsed": false,
    "scrolled": true
   },
   "outputs": [
    {
     "data": {
      "image/png": "[encoded data removed]",
      "text/plain": [
       "<matplotlib.figure.Figure at 0x7a949d90>"
      ]
     },
     "metadata": {},
     "output_type": "display_data"
    }
   ],
   "source": [
    "plt.hist(dataset['winner_avg_same_champion_win_ratio'] - dataset['loser_avg_same_champion_win_ratio'], bins=100);"
   ]
  },
  {
   "cell_type": "code",
   "execution_count": 44,
   "metadata": {
    "collapsed": false
   },
   "outputs": [
    {
     "data": {
      "image/png": "[encoded data removed]",
      "text/plain": [
       "<matplotlib.figure.Figure at 0x7aa107d0>"
      ]
     },
     "metadata": {},
     "output_type": "display_data"
    }
   ],
   "source": [
    "plt.hist(dataset['winner_std_same_champion_win_ratio'] - dataset['loser_std_same_champion_win_ratio'], bins=100);"
   ]
  },
  {
   "cell_type": "code",
   "execution_count": null,
   "metadata": {
    "collapsed": true
   },
   "outputs": [],
   "source": [
    "plt.hist(dataset['winner_std_same_champion_win_ratio'] - dataset['loser_std_same_champion_win_ratio'], bins=100);"
   ]
  },
  {
   "cell_type": "code",
   "execution_count": 47,
   "metadata": {
    "collapsed": false
   },
   "outputs": [
    {
     "name": "stdout",
     "output_type": "stream",
     "text": [
      "7726\n",
      "2423\n",
      "7190\n"
     ]
    }
   ],
   "source": [
    "print len(np.where(dataset['winner_std_same_champion_win_ratio'] - dataset['loser_std_same_champion_win_ratio']>0)[0])\n",
    "print len(np.where(dataset['winner_std_same_champion_win_ratio'] - dataset['loser_std_same_champion_win_ratio']==0)[0])\n",
    "print len(np.where(dataset['winner_std_same_champion_win_ratio'] - dataset['loser_std_same_champion_win_ratio']<0)[0])"
   ]
  },
  {
   "cell_type": "code",
   "execution_count": 43,
   "metadata": {
    "collapsed": false
   },
   "outputs": [
    {
     "ename": "ValueError",
     "evalue": "The truth value of an array with more than one element is ambiguous. Use a.any() or a.all()",
     "output_type": "error",
     "traceback": [
      "\u001b[1;31m---------------------------------------------------------------------------\u001b[0m",
      "\u001b[1;31mValueError\u001b[0m                                Traceback (most recent call last)",
      "\u001b[1;32m<ipython-input-43-576c0c65ffd6>\u001b[0m in \u001b[0;36m<module>\u001b[1;34m()\u001b[0m\n\u001b[1;32m----> 1\u001b[1;33m \u001b[0mdt\u001b[0m \u001b[1;33m=\u001b[0m \u001b[0mdataset\u001b[0m\u001b[1;33m.\u001b[0m\u001b[0mix\u001b[0m\u001b[1;33m[\u001b[0m\u001b[0mnp\u001b[0m\u001b[1;33m.\u001b[0m\u001b[0mwhere\u001b[0m\u001b[1;33m(\u001b[0m\u001b[0mdataset\u001b[0m\u001b[1;33m[\u001b[0m\u001b[1;34m'winner_avg_same_champion_win_ratio'\u001b[0m\u001b[1;33m]\u001b[0m \u001b[1;33m-\u001b[0m \u001b[0mdataset\u001b[0m\u001b[1;33m[\u001b[0m\u001b[1;34m'loser_avg_same_champion_win_ratio'\u001b[0m\u001b[1;33m]\u001b[0m\u001b[1;33m>\u001b[0m\u001b[1;33m-\u001b[0m\u001b[1;36m0.2\u001b[0m\u001b[1;33m)\u001b[0m\u001b[1;33m[\u001b[0m\u001b[1;36m0\u001b[0m\u001b[1;33m]\u001b[0m \u001b[1;32mand\u001b[0m \u001b[0mnp\u001b[0m\u001b[1;33m.\u001b[0m\u001b[0mwhere\u001b[0m\u001b[1;33m(\u001b[0m\u001b[0mdataset\u001b[0m\u001b[1;33m[\u001b[0m\u001b[1;34m'winner_avg_same_champion_win_ratio'\u001b[0m\u001b[1;33m]\u001b[0m \u001b[1;33m-\u001b[0m \u001b[0mdataset\u001b[0m\u001b[1;33m[\u001b[0m\u001b[1;34m'loser_avg_same_champion_win_ratio'\u001b[0m\u001b[1;33m]\u001b[0m\u001b[1;33m<\u001b[0m\u001b[1;36m0.2\u001b[0m\u001b[1;33m)\u001b[0m\u001b[1;33m[\u001b[0m\u001b[1;36m0\u001b[0m\u001b[1;33m]\u001b[0m\u001b[1;33m]\u001b[0m\u001b[1;33m\u001b[0m\u001b[0m\n\u001b[0m\u001b[0;32m      2\u001b[0m \u001b[1;32mprint\u001b[0m\u001b[1;33m(\u001b[0m\u001b[0mlen\u001b[0m\u001b[1;33m(\u001b[0m\u001b[0mdt\u001b[0m\u001b[1;33m)\u001b[0m\u001b[1;33m)\u001b[0m\u001b[1;33m\u001b[0m\u001b[0m\n\u001b[0;32m      3\u001b[0m \u001b[0mdt\u001b[0m\u001b[1;33m.\u001b[0m\u001b[0mto_csv\u001b[0m\u001b[1;33m(\u001b[0m\u001b[1;34m'Classification2016_Dataset_Selected.csv'\u001b[0m\u001b[1;33m)\u001b[0m\u001b[1;33m\u001b[0m\u001b[0m\n",
      "\u001b[1;31mValueError\u001b[0m: The truth value of an array with more than one element is ambiguous. Use a.any() or a.all()"
     ]
    }
   ],
   "source": [
    "dt = dataset.ix[np.where(dataset['winner_avg_same_champion_win_ratio'] - dataset['loser_avg_same_champion_win_ratio']>-0.2)[0] and np.where(dataset['winner_avg_same_champion_win_ratio'] - dataset['loser_avg_same_champion_win_ratio']<0.2)[0]]\n",
    "print(len(dt))\n",
    "dt.to_csv('Classification2016_Dataset_Selected.csv')"
   ]
  },
  {
   "cell_type": "code",
   "execution_count": 34,
   "metadata": {
    "collapsed": true
   },
   "outputs": [],
   "source": [
    "# np.where(dataset['winner_avg_same_champion_win_ratio'] - dataset['loser_avg_same_champion_win_ratio']>0)"
   ]
  },
  {
   "cell_type": "markdown",
   "metadata": {
    "collapsed": true
   },
   "source": [
    "# CLASSIFICATION"
   ]
  },
  {
   "cell_type": "code",
   "execution_count": 35,
   "metadata": {
    "collapsed": false
   },
   "outputs": [
    {
     "name": "stdout",
     "output_type": "stream",
     "text": [
      "Starting ...\n",
      "Loaded data size:  (14479, 17)\n",
      "Swapping  8.0 : 16.0  with 0 : 8.0  ...\n",
      "Dataset size:  (10000, 17)\n",
      "                                classifier  test acc  train acc\n",
      "0                                      KNN     60.31      70.81\n",
      "1          Quadratic Discriminant Analysis     61.49      61.97\n",
      "2                            Decision Tree     61.43      63.72\n",
      "3             Linear Discriminant Analysis     62.84      63.05\n",
      "4                      SVM with RBF kernel     62.53      66.45\n",
      "5                              Naive Bayes     61.67      61.59\n",
      "6                               Linear SVM     62.81      63.12\n",
      "7                            Random Forest     61.46     100.00\n",
      "8   Stochastic Gradient Descent Classifier     59.45      59.36\n",
      "9                                 AdaBoost     62.33      63.78\n",
      "10                     Logistic Regression     62.88      63.12\n",
      "11                         Dummy (Uniform)     50.16      49.63\n"
     ]
    }
   ],
   "source": [
    "import classification_pipeline as pi\n",
    "pi = reload(pi)\n",
    "pi.run('Classification2016_Dataset_Selected.csv')"
   ]
  },
  {
   "cell_type": "code",
   "execution_count": null,
   "metadata": {
    "collapsed": true
   },
   "outputs": [],
   "source": []
  }
 ],
 "metadata": {
  "kernelspec": {
   "display_name": "Python 2",
   "language": "python",
   "name": "python2"
  },
  "language_info": {
   "codemirror_mode": {
    "name": "ipython",
    "version": 2
   },
   "file_extension": ".py",
   "mimetype": "text/x-python",
   "name": "python",
   "nbconvert_exporter": "python",
   "pygments_lexer": "ipython2",
   "version": "2.7.5"
  }
 },
 "nbformat": 4,
 "nbformat_minor": 0
}
