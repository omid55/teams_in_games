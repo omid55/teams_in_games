{
 "cells": [
  {
   "cell_type": "markdown",
   "metadata": {},
   "source": [
    "Imports"
   ]
  },
  {
   "cell_type": "code",
   "execution_count": 1,
   "metadata": {
    "collapsed": true
   },
   "outputs": [],
   "source": [
    "#Omid55\n",
    "import requests\n",
    "import pandas as pd\n",
    "import pickle as pk\n",
    "import csv\n",
    "import time\n",
    "import numpy as np\n",
    "\n",
    "import seaborn as sns\n",
    "import matplotlib.pylab as plt\n",
    "% matplotlib inline"
   ]
  },
  {
   "cell_type": "code",
   "execution_count": 2,
   "metadata": {
    "collapsed": false
   },
   "outputs": [],
   "source": [
    "URL = {\n",
    "    'BASE': 'https://{proxy}.api.pvp.net/api/lol/{region}/{rest}',\n",
    "    'STATIC_BASE': 'https://global.api.pvp.net/api/lol/static-data/{region}/v1.2/{rest}',\n",
    "    \n",
    "    'MATCHLIST_URL': 'v2.2/matchlist/by-summoner/{summonerId}?seasons=SEASON{season}',\n",
    "    'MATCH_URL': 'v2.2/match/{matchId}',\n",
    "    'CHAMPION_URL': 'champion/{id}?champData=all',\n",
    "    'SUMMONER_URL': 'v1.4/summoner/{summonerId}',\n",
    "    #'SUMMONER_WINS_LOSSES_URL': 'v2.5/league/by-summoner/{summonerId}'  # NOT TRUE (VERY LARGE NUMBERS)\n",
    "    'SUMMONER_WINS_LOSSES_PER_CHAMPION_URL': 'v1.3/stats/by-summoner/{summonerId}/ranked?season=SEASON{season}'\n",
    "    \n",
    "    # /api/lol/{region}/v1.3/stats/by-summoner/{summonerId}/ranked: this is for getting the experience \n",
    "    #  of player (summonerId) with different champions and also ALL EXPERIENCE one person has\n",
    "    \n",
    "    # /api/lol/{region}/v1.3/game/by-summoner/{summonerId}/recent: games that one summoner plays \n",
    "    #  with other people\n",
    "}\n",
    "\n",
    "REGIONS = {\n",
    "    'north america': 'na',\n",
    "    'europe west': 'euw'\n",
    "}"
   ]
  },
  {
   "cell_type": "code",
   "execution_count": 3,
   "metadata": {
    "collapsed": true
   },
   "outputs": [],
   "source": [
    "class Match(object):\n",
    "    \n",
    "    def __init__(self):\n",
    "        self.winners = []\n",
    "        self.losers = []\n",
    "        self.duration = -1\n",
    "        "
   ]
  },
  {
   "cell_type": "code",
   "execution_count": 4,
   "metadata": {
    "collapsed": false
   },
   "outputs": [],
   "source": [
    "class RiotAPI(object):\n",
    "    \n",
    "    def __init__(self, api_key, region=REGIONS['north america']):\n",
    "        self.api_key = api_key\n",
    "        self.region = region\n",
    "        self.champions = {}\n",
    "#         self.champions_allinfo = {}\n",
    "#         self.champions_allinfo_saved = False\n",
    "        self.summoner_wins_losses = {}\n",
    "        \n",
    "    def _request(self, base, rest, params={}):\n",
    "        #key = base + ',' + rest + ',' + str(params)\n",
    "        #if key not in self.requests:\n",
    "        args = {'api_key': self.api_key}\n",
    "        args.update(params)\n",
    "        response = requests.get(\n",
    "            URL[base].format(\n",
    "                rest=rest,\n",
    "                proxy=self.region,\n",
    "                region=self.region,\n",
    "            ),\n",
    "            params=args\n",
    "        )\n",
    "        #print(response.request.url)\n",
    "        time.sleep(1.2)\n",
    "        return response.json()\n",
    "            #self.requests[key] = response.json()\n",
    "        #return self.requests[key]\n",
    "        \n",
    "    \n",
    "    def _base_request(self, rest, params={}):\n",
    "        return self._request('BASE', rest, params)\n",
    "        \n",
    "    def _static_request(self, rest, params={}):\n",
    "        return self._request('STATIC_BASE', rest, params)\n",
    "    \n",
    "    # functions\n",
    "    def get_summoner_level(self, sid):\n",
    "        rest = URL['SUMMONER_URL'].format(\n",
    "            summonerId=sid\n",
    "        )\n",
    "        return self._base_request(rest)\n",
    "    \n",
    "    def _get_list_of_match_ids(self, sid, season):\n",
    "        rest = URL['MATCHLIST_URL'].format(\n",
    "            summonerId=sid,\n",
    "            season=season\n",
    "        )\n",
    "        result = self._base_request(rest)\n",
    "        if 'matches' in result:\n",
    "            for match in result['matches']:\n",
    "                yield match['matchId']\n",
    "                \n",
    "    def _get_match(self, mid):\n",
    "        rest = URL['MATCH_URL'].format(\n",
    "            matchId=mid\n",
    "        )\n",
    "        result = self._base_request(rest)\n",
    "        return result\n",
    "        \n",
    "    def get_champion_all_info(self, championId):\n",
    "        rest = URL['CHAMPION_URL'].format(\n",
    "            id=championId\n",
    "        )\n",
    "        return self._static_request(rest)\n",
    "    \n",
    "    def get_summoner_wins_losses(self, sid, season):\n",
    "#         rest = URL['SUMMONER_WINS_LOSSES_URL'].format(\n",
    "#             summonerId=sid\n",
    "#         )\n",
    "#         result = self._base_request(rest)\n",
    "#         wins_losses = np.zeros(2)\n",
    "#         for en in result[str(sid)][0]['entries']:\n",
    "#             wins_losses += np.array([en['wins'], en['losses']])\n",
    "#         return wins_losses\n",
    "\n",
    "        # We can also use matchlist too ...\n",
    "        if sid not in self.summoner_wins_losses:\n",
    "            res = {}\n",
    "            rest = URL['SUMMONER_WINS_LOSSES_PER_CHAMPION_URL'].format(\n",
    "                summonerId=sid,\n",
    "                season=season\n",
    "            )\n",
    "            result = self._base_request(rest)\n",
    "            if 'champions' in result:\n",
    "                for ch in result['champions']:\n",
    "                    if ch['id']:\n",
    "                        res[ch['id']] = [ch['stats']['totalSessionsWon'], ch['stats']['totalSessionsLost']]\n",
    "            self.summoner_wins_losses[sid] = res\n",
    "        return self.summoner_wins_losses[sid]\n",
    "        \n",
    "    \n",
    "#     def get_champion_index(self, championId):\n",
    "#         if championId not in self.champions:\n",
    "#             myid = len(self.champions)\n",
    "#             self.champions_allinfo[myid] = self.get_champion_all_info(championId)\n",
    "#             if not self.champions_allinfo_saved and len(self.champions_allinfo) == 132:\n",
    "#                 with open('DATAChampionsAllInfo.pkl', 'wb') as output:\n",
    "#                     pk.dump(self.champions_allinfo, output)\n",
    "#                     self.champions_allinfo_saved = True\n",
    "#             self.champions[championId] = myid\n",
    "#         return self.champions[championId]\n",
    "    \n",
    "    def get_matches_champions_and_summonerIds_before_game(self, season, just_Ids=True):\n",
    "        #for sid in range(1,1000000):    #for sid in range(1000000,5000000):\n",
    "        with open('summonerId_list.pkl', 'rb') as f:\n",
    "            summoners = pk.load(f)\n",
    "        for sid in summoners:\n",
    "            matchids = self._get_list_of_match_ids(sid, season)\n",
    "            for matchid in matchids:\n",
    "                match = self._get_match(matchid)\n",
    "                if 'participants' in match:\n",
    "                    losers = []\n",
    "                    winners = []\n",
    "                    winners_sid = []\n",
    "                    losers_sid = []\n",
    "                    \n",
    "                    for member in match['participants']:\n",
    "                        suId = [pi['player']['summonerId'] for pi in match['participantIdentities'] if pi['participantId']==member['participantId']]#[0]\n",
    "                        if member['stats']['winner']:\n",
    "                            winners_sid += suId\n",
    "                            \n",
    "                            if just_Ids:\n",
    "                                winners += [member['championId']]\n",
    "                            else:\n",
    "                                winners += (self.get_champion_capabilities(member['championId']))\n",
    "                        else:\n",
    "                            losers_sid += suId\n",
    "                            \n",
    "                            if just_Ids:\n",
    "                                losers += [member['championId']]\n",
    "                            else:\n",
    "                                losers += (self.get_champion_capabilities(member['championId']))\n",
    "                    data = {'matchId': match['matchId'], 'duration': match['matchDuration'], 'champions': winners + losers, 'summoners': winners_sid + losers_sid}\n",
    "                    yield data\n",
    "                    \n",
    "                    \n",
    "                    \n",
    "with open('../MyKey2.key', 'r') as key_file:\n",
    "    KEY = key_file.readline().strip()\n",
    "api = RiotAPI(KEY)"
   ]
  },
  {
   "cell_type": "markdown",
   "metadata": {},
   "source": [
    "# Run the script"
   ]
  },
  {
   "cell_type": "code",
   "execution_count": 5,
   "metadata": {
    "collapsed": false
   },
   "outputs": [
    {
     "name": "stdout",
     "output_type": "stream",
     "text": [
      "1000\n"
     ]
    }
   ],
   "source": [
    "LIMIT = 1100\n",
    "champions_data = []\n",
    "summoners_data = []\n",
    "dt = api.get_matches_champions_and_summonerIds_before_game(season=2016)\n",
    "\n",
    "data = []\n",
    "for d in dt:\n",
    "    data.append(d)\n",
    "    if not len(data) % 1000:\n",
    "        print((len(data)))\n",
    "    if len(data) > LIMIT:\n",
    "        break"
   ]
  },
  {
   "cell_type": "code",
   "execution_count": 6,
   "metadata": {
    "collapsed": false
   },
   "outputs": [],
   "source": [
    "# unique people\n",
    "tmp = []\n",
    "for d in data[:100]:\n",
    "    tmp += d['summoners']\n",
    "people = set(tmp)"
   ]
  },
  {
   "cell_type": "code",
   "execution_count": 7,
   "metadata": {
    "collapsed": false
   },
   "outputs": [
    {
     "data": {
      "text/plain": [
       "875"
      ]
     },
     "execution_count": 7,
     "metadata": {},
     "output_type": "execute_result"
    }
   ],
   "source": [
    "len(people)"
   ]
  },
  {
   "cell_type": "code",
   "execution_count": 8,
   "metadata": {
    "collapsed": true
   },
   "outputs": [],
   "source": [
    "sid2indx = {}\n",
    "def get_index_of_summonerId(sid):\n",
    "    if sid not in sid2indx:\n",
    "        sid2indx[sid] = len(sid2indx)\n",
    "    return sid2indx[sid]"
   ]
  },
  {
   "cell_type": "code",
   "execution_count": 20,
   "metadata": {
    "collapsed": false
   },
   "outputs": [
    {
     "ename": "KeyboardInterrupt",
     "evalue": "",
     "output_type": "error",
     "traceback": [
      "\u001b[1;31m---------------------------------------------------------------------------\u001b[0m",
      "\u001b[1;31mKeyboardInterrupt\u001b[0m                         Traceback (most recent call last)",
      "\u001b[1;32m<ipython-input-20-53cdbb5c964e>\u001b[0m in \u001b[0;36m<module>\u001b[1;34m()\u001b[0m\n\u001b[0;32m      8\u001b[0m     \u001b[0mmatchids\u001b[0m \u001b[1;33m=\u001b[0m \u001b[0mapi\u001b[0m\u001b[1;33m.\u001b[0m\u001b[0m_get_list_of_match_ids\u001b[0m\u001b[1;33m(\u001b[0m\u001b[0msid\u001b[0m\u001b[1;33m,\u001b[0m \u001b[0mseason\u001b[0m\u001b[1;33m=\u001b[0m\u001b[1;36m2015\u001b[0m\u001b[1;33m)\u001b[0m\u001b[1;33m\u001b[0m\u001b[0m\n\u001b[0;32m      9\u001b[0m     \u001b[1;32mfor\u001b[0m \u001b[0mmatchid\u001b[0m \u001b[1;32min\u001b[0m \u001b[0mmatchids\u001b[0m\u001b[1;33m:\u001b[0m\u001b[1;33m\u001b[0m\u001b[0m\n\u001b[1;32m---> 10\u001b[1;33m         \u001b[0mmatch\u001b[0m \u001b[1;33m=\u001b[0m \u001b[0mapi\u001b[0m\u001b[1;33m.\u001b[0m\u001b[0m_get_match\u001b[0m\u001b[1;33m(\u001b[0m\u001b[0mmatchid\u001b[0m\u001b[1;33m)\u001b[0m\u001b[1;33m\u001b[0m\u001b[0m\n\u001b[0m\u001b[0;32m     11\u001b[0m         \u001b[1;32mif\u001b[0m \u001b[1;34m'participants'\u001b[0m \u001b[1;32min\u001b[0m \u001b[0mmatch\u001b[0m\u001b[1;33m:\u001b[0m\u001b[1;33m\u001b[0m\u001b[0m\n\u001b[0;32m     12\u001b[0m             \u001b[0msid_index\u001b[0m \u001b[1;33m=\u001b[0m \u001b[0mget_index_of_summonerId\u001b[0m\u001b[1;33m(\u001b[0m\u001b[0msid\u001b[0m\u001b[1;33m)\u001b[0m\u001b[1;33m\u001b[0m\u001b[0m\n",
      "\u001b[1;32m<ipython-input-4-50b1dfbcbc30>\u001b[0m in \u001b[0;36m_get_match\u001b[1;34m(self, mid)\u001b[0m\n\u001b[0;32m     56\u001b[0m             \u001b[0mmatchId\u001b[0m\u001b[1;33m=\u001b[0m\u001b[0mmid\u001b[0m\u001b[1;33m\u001b[0m\u001b[0m\n\u001b[0;32m     57\u001b[0m         )\n\u001b[1;32m---> 58\u001b[1;33m         \u001b[0mresult\u001b[0m \u001b[1;33m=\u001b[0m \u001b[0mself\u001b[0m\u001b[1;33m.\u001b[0m\u001b[0m_base_request\u001b[0m\u001b[1;33m(\u001b[0m\u001b[0mrest\u001b[0m\u001b[1;33m)\u001b[0m\u001b[1;33m\u001b[0m\u001b[0m\n\u001b[0m\u001b[0;32m     59\u001b[0m         \u001b[1;32mreturn\u001b[0m \u001b[0mresult\u001b[0m\u001b[1;33m\u001b[0m\u001b[0m\n\u001b[0;32m     60\u001b[0m \u001b[1;33m\u001b[0m\u001b[0m\n",
      "\u001b[1;32m<ipython-input-4-50b1dfbcbc30>\u001b[0m in \u001b[0;36m_base_request\u001b[1;34m(self, rest, params)\u001b[0m\n\u001b[0;32m     30\u001b[0m \u001b[1;33m\u001b[0m\u001b[0m\n\u001b[0;32m     31\u001b[0m     \u001b[1;32mdef\u001b[0m \u001b[0m_base_request\u001b[0m\u001b[1;33m(\u001b[0m\u001b[0mself\u001b[0m\u001b[1;33m,\u001b[0m \u001b[0mrest\u001b[0m\u001b[1;33m,\u001b[0m \u001b[0mparams\u001b[0m\u001b[1;33m=\u001b[0m\u001b[1;33m{\u001b[0m\u001b[1;33m}\u001b[0m\u001b[1;33m)\u001b[0m\u001b[1;33m:\u001b[0m\u001b[1;33m\u001b[0m\u001b[0m\n\u001b[1;32m---> 32\u001b[1;33m         \u001b[1;32mreturn\u001b[0m \u001b[0mself\u001b[0m\u001b[1;33m.\u001b[0m\u001b[0m_request\u001b[0m\u001b[1;33m(\u001b[0m\u001b[1;34m'BASE'\u001b[0m\u001b[1;33m,\u001b[0m \u001b[0mrest\u001b[0m\u001b[1;33m,\u001b[0m \u001b[0mparams\u001b[0m\u001b[1;33m)\u001b[0m\u001b[1;33m\u001b[0m\u001b[0m\n\u001b[0m\u001b[0;32m     33\u001b[0m \u001b[1;33m\u001b[0m\u001b[0m\n\u001b[0;32m     34\u001b[0m     \u001b[1;32mdef\u001b[0m \u001b[0m_static_request\u001b[0m\u001b[1;33m(\u001b[0m\u001b[0mself\u001b[0m\u001b[1;33m,\u001b[0m \u001b[0mrest\u001b[0m\u001b[1;33m,\u001b[0m \u001b[0mparams\u001b[0m\u001b[1;33m=\u001b[0m\u001b[1;33m{\u001b[0m\u001b[1;33m}\u001b[0m\u001b[1;33m)\u001b[0m\u001b[1;33m:\u001b[0m\u001b[1;33m\u001b[0m\u001b[0m\n",
      "\u001b[1;32m<ipython-input-4-50b1dfbcbc30>\u001b[0m in \u001b[0;36m_request\u001b[1;34m(self, base, rest, params)\u001b[0m\n\u001b[0;32m     23\u001b[0m         )\n\u001b[0;32m     24\u001b[0m         \u001b[1;31m#print(response.request.url)\u001b[0m\u001b[1;33m\u001b[0m\u001b[1;33m\u001b[0m\u001b[0m\n\u001b[1;32m---> 25\u001b[1;33m         \u001b[0mtime\u001b[0m\u001b[1;33m.\u001b[0m\u001b[0msleep\u001b[0m\u001b[1;33m(\u001b[0m\u001b[1;36m1.2\u001b[0m\u001b[1;33m)\u001b[0m\u001b[1;33m\u001b[0m\u001b[0m\n\u001b[0m\u001b[0;32m     26\u001b[0m         \u001b[1;32mreturn\u001b[0m \u001b[0mresponse\u001b[0m\u001b[1;33m.\u001b[0m\u001b[0mjson\u001b[0m\u001b[1;33m(\u001b[0m\u001b[1;33m)\u001b[0m\u001b[1;33m\u001b[0m\u001b[0m\n\u001b[0;32m     27\u001b[0m             \u001b[1;31m#self.requests[key] = response.json()\u001b[0m\u001b[1;33m\u001b[0m\u001b[1;33m\u001b[0m\u001b[0m\n",
      "\u001b[1;31mKeyboardInterrupt\u001b[0m: "
     ]
    }
   ],
   "source": [
    "W = np.zeros((len(people),len(people)))\n",
    "L = np.zeros((len(people),len(people)))\n",
    "c = 0\n",
    "for sid in list(people)[:200]:\n",
    "    c += 1\n",
    "    if c % 10 == 0:\n",
    "        print(c)\n",
    "    matchids = api._get_list_of_match_ids(sid, season=2015)\n",
    "    for matchid in matchids:\n",
    "        match = api._get_match(matchid)\n",
    "        if 'participants' in match:\n",
    "            sid_index = get_index_of_summonerId(sid)\n",
    "            for member in match['participants']:\n",
    "                suId = [pi['player']['summonerId'] for pi in match['participantIdentities'] if pi['participantId']==member['participantId']][0]\n",
    "                if suId != sid and suId in people:\n",
    "                    suId_index = get_index_of_summonerId(suId)\n",
    "                    if member['stats']['winner']:\n",
    "                        W[sid_index, suId_index] += 1\n",
    "                    else:\n",
    "                        L[sid_index, suId_index] += 1\n",
    "W = np.maximum(W, np.matrix.transpose(W))\n",
    "L = np.maximum(L, np.matrix.transpose(L))\n",
    "print('Done.')"
   ]
  },
  {
   "cell_type": "code",
   "execution_count": null,
   "metadata": {
    "collapsed": true
   },
   "outputs": [],
   "source": []
  }
 ],
 "metadata": {
  "kernelspec": {
   "display_name": "Python 3",
   "language": "python",
   "name": "python3"
  },
  "language_info": {
   "codemirror_mode": {
    "name": "ipython",
    "version": 3
   },
   "file_extension": ".py",
   "mimetype": "text/x-python",
   "name": "python",
   "nbconvert_exporter": "python",
   "pygments_lexer": "ipython3",
   "version": "3.4.3"
  }
 },
 "nbformat": 4,
 "nbformat_minor": 0
}
