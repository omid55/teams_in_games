{
 "cells": [
  {
   "cell_type": "markdown",
   "metadata": {},
   "source": [
    "Imports"
   ]
  },
  {
   "cell_type": "code",
   "execution_count": 13,
   "metadata": {
    "collapsed": false
   },
   "outputs": [],
   "source": [
    "#Omid55\n",
    "import requests\n",
    "import pandas as pd\n",
    "import pickle as pk\n",
    "import csv\n",
    "import time\n",
    "import numpy as np\n",
    "import random\n",
    "from scipy.stats import pearsonr as corr\n",
    "\n",
    "import seaborn as sns\n",
    "import matplotlib.pylab as plt\n",
    "% matplotlib inline"
   ]
  },
  {
   "cell_type": "code",
   "execution_count": 3,
   "metadata": {
    "collapsed": false
   },
   "outputs": [],
   "source": [
    "URL = {\n",
    "    'BASE': 'https://{proxy}.api.pvp.net/api/lol/{region}/{rest}',\n",
    "    'STATIC_BASE': 'https://global.api.pvp.net/api/lol/static-data/{region}/v1.2/{rest}',\n",
    "    \n",
    "    'MATCHLIST_URL': 'v2.2/matchlist/by-summoner/{summonerId}?seasons=SEASON{season}',\n",
    "    'MATCH_URL': 'v2.2/match/{matchId}',\n",
    "    'CHAMPION_URL': 'champion/{id}?champData=all',\n",
    "    'SUMMONER_URL': 'v1.4/summoner/{summonerId}',\n",
    "    #'SUMMONER_WINS_LOSSES_URL': 'v2.5/league/by-summoner/{summonerId}'  # NOT TRUE (VERY LARGE NUMBERS)\n",
    "    'SUMMONER_WINS_LOSSES_PER_CHAMPION_URL': 'v1.3/stats/by-summoner/{summonerId}/ranked?season=SEASON{season}'\n",
    "    \n",
    "    # /api/lol/{region}/v1.3/stats/by-summoner/{summonerId}/ranked: this is for getting the experience \n",
    "    #  of player (summonerId) with different champions and also ALL EXPERIENCE one person has\n",
    "    \n",
    "    # /api/lol/{region}/v1.3/game/by-summoner/{summonerId}/recent: games that one summoner plays \n",
    "    #  with other people\n",
    "}\n",
    "\n",
    "REGIONS = {\n",
    "    'north america': 'na',\n",
    "    'europe west': 'euw'\n",
    "}"
   ]
  },
  {
   "cell_type": "code",
   "execution_count": 4,
   "metadata": {
    "collapsed": true
   },
   "outputs": [],
   "source": [
    "class Match(object):\n",
    "    \n",
    "    def __init__(self):\n",
    "        self.winners = []\n",
    "        self.losers = []\n",
    "        self.duration = -1\n",
    "        "
   ]
  },
  {
   "cell_type": "code",
   "execution_count": 68,
   "metadata": {
    "collapsed": false
   },
   "outputs": [],
   "source": [
    "class RiotAPI(object):\n",
    "    \n",
    "    def __init__(self, api_key, region=REGIONS['north america']):\n",
    "        self.api_key = api_key\n",
    "        self.region = region\n",
    "        self.champions = {}\n",
    "#         self.champions_allinfo = {}\n",
    "#         self.champions_allinfo_saved = False\n",
    "        self.summoner_wins_losses = {}\n",
    "        \n",
    "    def _request(self, base, rest, params={}):\n",
    "        args = {'api_key': self.api_key}\n",
    "        args.update(params)\n",
    "        response = requests.get(\n",
    "            URL[base].format(\n",
    "                rest=rest,\n",
    "                proxy=self.region,\n",
    "                region=self.region,\n",
    "            ),\n",
    "            params=args\n",
    "        )\n",
    "        #print(response.request.url)\n",
    "        time.sleep(1.2)\n",
    "        return response.json()\n",
    "    \n",
    "    def _base_request(self, rest, params={}):\n",
    "        return self._request('BASE', rest, params)\n",
    "        \n",
    "    def _static_request(self, rest, params={}):\n",
    "        return self._request('STATIC_BASE', rest, params)\n",
    "    \n",
    "    # functions\n",
    "    def get_summoner_level(self, sid):\n",
    "        rest = URL['SUMMONER_URL'].format(\n",
    "            summonerId=sid\n",
    "        )\n",
    "        return self._base_request(rest)\n",
    "    \n",
    "    def _get_list_of_match_ids(self, sid, season):\n",
    "        rest = URL['MATCHLIST_URL'].format(\n",
    "            summonerId=sid,\n",
    "            season=season\n",
    "        )\n",
    "        result = self._base_request(rest)\n",
    "        if 'matches' in result:\n",
    "            for match in result['matches']:\n",
    "                yield match['matchId']\n",
    "                \n",
    "    def _get_match(self, mid):\n",
    "        rest = URL['MATCH_URL'].format(\n",
    "            matchId=mid\n",
    "        )\n",
    "        result = self._base_request(rest)\n",
    "        return result\n",
    "        \n",
    "    def get_champion_all_info(self, championId):\n",
    "        rest = URL['CHAMPION_URL'].format(\n",
    "            id=championId\n",
    "        )\n",
    "        return self._static_request(rest)\n",
    "    \n",
    "#     def get_champion_index(self, championId):\n",
    "#         if championId not in self.champions:\n",
    "#             myid = len(self.champions)\n",
    "#             self.champions_allinfo[myid] = self.get_champion_all_info(championId)\n",
    "#             if not self.champions_allinfo_saved and len(self.champions_allinfo) == 132:\n",
    "#                 with open('DATAChampionsAllInfo.pkl', 'wb') as output:\n",
    "#                     pk.dump(self.champions_allinfo, output)\n",
    "#                     self.champions_allinfo_saved = True\n",
    "#             self.champions[championId] = myid\n",
    "#         return self.champions[championId]\n",
    "    \n",
    "    def get_matches_champions_and_summonerIds_before_game(self, season, just_Ids=True):\n",
    "        #for sid in range(1,1000000):    #for sid in range(1000000,5000000):\n",
    "        with open('summonerId_list.pkl', 'rb') as f:\n",
    "            all_summoners = pk.load(f)\n",
    "        summoners = [ all_summoners[i] for i in sorted(random.sample(range(len(all_summoners)), 1000)) ]\n",
    "        for sid in summoners:\n",
    "            matchids = self._get_list_of_match_ids(sid, season)\n",
    "            for matchid in matchids:\n",
    "                match = self._get_match(matchid)\n",
    "                if 'participants' in match:\n",
    "                    losers = []\n",
    "                    winners = []\n",
    "                    winners_sid = []\n",
    "                    losers_sid = []\n",
    "                    \n",
    "                    for member in match['participants']:\n",
    "                        suId = [pi['player']['summonerId'] for pi in match['participantIdentities'] if pi['participantId']==member['participantId']][0]\n",
    "                        if member['stats']['winner']:\n",
    "                            winners_sid.append(suId)\n",
    "                            \n",
    "                            if just_Ids:\n",
    "                                winners += [member['championId']]\n",
    "                            else:\n",
    "                                winners += (self.get_champion_capabilities(member['championId']))\n",
    "                        else:\n",
    "                            losers_sid.append(suId)\n",
    "                            \n",
    "                            if just_Ids:\n",
    "                                losers += [member['championId']]\n",
    "                            else:\n",
    "                                losers += (self.get_champion_capabilities(member['championId']))\n",
    "                    data = {'matchId': match['matchId'], 'duration': match['matchDuration'], 'champions': winners + losers, 'summoners': winners_sid + losers_sid}\n",
    "                    yield data\n",
    "                    \n",
    "    # --------------------------------------------------------------------------------------\n",
    "    def get_summoner_wins_losses(self, sid, season):\n",
    "        key = str(sid)+','+str(season)\n",
    "        if key not in self.summoner_wins_losses:\n",
    "            res = {}\n",
    "            rest = URL['SUMMONER_WINS_LOSSES_PER_CHAMPION_URL'].format(\n",
    "                summonerId=sid,\n",
    "                season=season\n",
    "            )\n",
    "            result = self._base_request(rest)\n",
    "            if 'champions' in result:\n",
    "                for ch in result['champions']:\n",
    "                    if ch['id']:\n",
    "                        res[ch['id']] = [ch['stats']['totalSessionsWon'], ch['stats']['totalSessionsLost']]\n",
    "            self.summoner_wins_losses[key] = res\n",
    "        return self.summoner_wins_losses[key]\n",
    "        \n",
    "    def get_win_stats(self, team_summoners, team_champs, season):\n",
    "\n",
    "    # --------------------------------------------------------------------------------------\n",
    "    \n",
    "    def get_matches_champions_and_summonerIds_before_game_for_those_summoners_have_similar_stats_2_seasons(self, season, just_Ids=True):\n",
    "        with open('summonerId_list.pkl', 'rb') as f:\n",
    "            all_summoners = pk.load(f)\n",
    "        for sid in all_summoners:\n",
    "        #for sid in range(1,1000000000):\n",
    "            matchids = self._get_list_of_match_ids(sid, season)\n",
    "            for matchid in matchids:\n",
    "                nodata = 0\n",
    "                match = self._get_match(matchid)\n",
    "                if 'participants' in match:\n",
    "                    losers = []\n",
    "                    winners = []\n",
    "                    winners_sid = []\n",
    "                    losers_sid = []\n",
    "                    \n",
    "                    for member in match['participants']:\n",
    "                        suId = [pi['player']['summonerId'] for pi in match['participantIdentities'] if pi['participantId']==member['participantId']][0]\n",
    "                        if not self.does_she_have_similar_history_in_two_seasons(suId, season-1, season):\n",
    "                            nodata += 1\n",
    "                            if nodata >= 2:\n",
    "                                break\n",
    "                            \n",
    "                        if member['stats']['winner']:\n",
    "                            winners_sid.append(suId)\n",
    "\n",
    "                            if just_Ids:\n",
    "                                winners += [member['championId']]\n",
    "                            else:\n",
    "                                winners += (self.get_champion_capabilities(member['championId']))\n",
    "                        else:\n",
    "                            losers_sid.append(suId)\n",
    "\n",
    "                            if just_Ids:\n",
    "                                losers += [member['championId']]\n",
    "                            else:\n",
    "                                losers += (self.get_champion_capabilities(member['championId']))\n",
    "                    if nodata >= 2:\n",
    "                        continue\n",
    "                    data = {'matchId': match['matchId'], 'duration': match['matchDuration'], 'champions': winners + losers, 'summoners': winners_sid + losers_sid}\n",
    "                    yield data\n",
    "                    \n",
    "    def does_she_have_similar_history_in_two_seasons(self, sid, season1, season2):\n",
    "        h1 = self.get_summoner_wins_losses(sid, season1)\n",
    "        h2 = self.get_summoner_wins_losses(sid, season2)\n",
    "        c1 = len(set(list(h1.keys()) + list(h1.keys())))\n",
    "        return c1 !=0 and len(list(set(h1.keys()) & set(h2.keys()))) / float(c1) >= 0.8\n",
    "#         h1 = self.get_summoner_wins_losses(sid, season1)\n",
    "#         h2 = self.get_summoner_wins_losses(sid, season2)\n",
    "#         wr1 = []\n",
    "#         wr2 = []\n",
    "#         for k in list(set(h1.keys()) & set(h2.keys())):\n",
    "#             wr1.append(h1[k][0]/float(h1[k][0]+h1[k][1]))\n",
    "#             wr2.append(h2[k][0]/float(h2[k][0]+h2[k][1]))\n",
    "#         if len(wr1)<3 or len(wr2)<3:\n",
    "#             return False\n",
    "#         c = corr(wr1, wr2)\n",
    "#         return c[1]<1 and c[0]>0.3\n",
    "        \n",
    "        \n",
    "with open('../MyKey1.key', 'r') as key_file:\n",
    "    KEY = key_file.readline().strip()\n",
    "api = RiotAPI(KEY)"
   ]
  },
  {
   "cell_type": "markdown",
   "metadata": {},
   "source": [
    "# Run the script"
   ]
  },
  {
   "cell_type": "code",
   "execution_count": 69,
   "metadata": {
    "collapsed": false
   },
   "outputs": [
    {
     "ename": "KeyboardInterrupt",
     "evalue": "",
     "output_type": "error",
     "traceback": [
      "\u001b[1;31m---------------------------------------------------------------------------\u001b[0m",
      "\u001b[1;31mKeyboardInterrupt\u001b[0m                         Traceback (most recent call last)",
      "\u001b[1;32m<ipython-input-69-a2107295d3b8>\u001b[0m in \u001b[0;36m<module>\u001b[1;34m()\u001b[0m\n\u001b[0;32m      3\u001b[0m \u001b[1;33m\u001b[0m\u001b[0m\n\u001b[0;32m      4\u001b[0m \u001b[0mdata\u001b[0m \u001b[1;33m=\u001b[0m \u001b[1;33m[\u001b[0m\u001b[1;33m]\u001b[0m\u001b[1;33m\u001b[0m\u001b[0m\n\u001b[1;32m----> 5\u001b[1;33m \u001b[1;32mfor\u001b[0m \u001b[0md\u001b[0m \u001b[1;32min\u001b[0m \u001b[0mdt\u001b[0m\u001b[1;33m:\u001b[0m\u001b[1;33m\u001b[0m\u001b[0m\n\u001b[0m\u001b[0;32m      6\u001b[0m     \u001b[0mdata\u001b[0m\u001b[1;33m.\u001b[0m\u001b[0mappend\u001b[0m\u001b[1;33m(\u001b[0m\u001b[0md\u001b[0m\u001b[1;33m)\u001b[0m\u001b[1;33m\u001b[0m\u001b[0m\n\u001b[0;32m      7\u001b[0m     \u001b[1;32mif\u001b[0m \u001b[1;32mnot\u001b[0m \u001b[0mlen\u001b[0m\u001b[1;33m(\u001b[0m\u001b[0mdata\u001b[0m\u001b[1;33m)\u001b[0m \u001b[1;33m%\u001b[0m \u001b[1;36m10\u001b[0m\u001b[1;33m:\u001b[0m\u001b[1;33m\u001b[0m\u001b[0m\n",
      "\u001b[1;32m<ipython-input-68-727dce17cdb4>\u001b[0m in \u001b[0;36mget_matches_champions_and_summonerIds_before_game_for_those_summoners_have_similar_stats_2_seasons\u001b[1;34m(self, season, just_Ids)\u001b[0m\n\u001b[0;32m    160\u001b[0m             \u001b[1;32mfor\u001b[0m \u001b[0mmatchid\u001b[0m \u001b[1;32min\u001b[0m \u001b[0mmatchids\u001b[0m\u001b[1;33m:\u001b[0m\u001b[1;33m\u001b[0m\u001b[0m\n\u001b[0;32m    161\u001b[0m                 \u001b[0mnodata\u001b[0m \u001b[1;33m=\u001b[0m \u001b[1;36m0\u001b[0m\u001b[1;33m\u001b[0m\u001b[0m\n\u001b[1;32m--> 162\u001b[1;33m                 \u001b[0mmatch\u001b[0m \u001b[1;33m=\u001b[0m \u001b[0mself\u001b[0m\u001b[1;33m.\u001b[0m\u001b[0m_get_match\u001b[0m\u001b[1;33m(\u001b[0m\u001b[0mmatchid\u001b[0m\u001b[1;33m)\u001b[0m\u001b[1;33m\u001b[0m\u001b[0m\n\u001b[0m\u001b[0;32m    163\u001b[0m                 \u001b[1;32mif\u001b[0m \u001b[1;34m'participants'\u001b[0m \u001b[1;32min\u001b[0m \u001b[0mmatch\u001b[0m\u001b[1;33m:\u001b[0m\u001b[1;33m\u001b[0m\u001b[0m\n\u001b[0;32m    164\u001b[0m                     \u001b[0mlosers\u001b[0m \u001b[1;33m=\u001b[0m \u001b[1;33m[\u001b[0m\u001b[1;33m]\u001b[0m\u001b[1;33m\u001b[0m\u001b[0m\n",
      "\u001b[1;32m<ipython-input-68-727dce17cdb4>\u001b[0m in \u001b[0;36m_get_match\u001b[1;34m(self, mid)\u001b[0m\n\u001b[0;32m     51\u001b[0m             \u001b[0mmatchId\u001b[0m\u001b[1;33m=\u001b[0m\u001b[0mmid\u001b[0m\u001b[1;33m\u001b[0m\u001b[0m\n\u001b[0;32m     52\u001b[0m         )\n\u001b[1;32m---> 53\u001b[1;33m         \u001b[0mresult\u001b[0m \u001b[1;33m=\u001b[0m \u001b[0mself\u001b[0m\u001b[1;33m.\u001b[0m\u001b[0m_base_request\u001b[0m\u001b[1;33m(\u001b[0m\u001b[0mrest\u001b[0m\u001b[1;33m)\u001b[0m\u001b[1;33m\u001b[0m\u001b[0m\n\u001b[0m\u001b[0;32m     54\u001b[0m         \u001b[1;32mreturn\u001b[0m \u001b[0mresult\u001b[0m\u001b[1;33m\u001b[0m\u001b[0m\n\u001b[0;32m     55\u001b[0m \u001b[1;33m\u001b[0m\u001b[0m\n",
      "\u001b[1;32m<ipython-input-68-727dce17cdb4>\u001b[0m in \u001b[0;36m_base_request\u001b[1;34m(self, rest, params)\u001b[0m\n\u001b[0;32m     25\u001b[0m \u001b[1;33m\u001b[0m\u001b[0m\n\u001b[0;32m     26\u001b[0m     \u001b[1;32mdef\u001b[0m \u001b[0m_base_request\u001b[0m\u001b[1;33m(\u001b[0m\u001b[0mself\u001b[0m\u001b[1;33m,\u001b[0m \u001b[0mrest\u001b[0m\u001b[1;33m,\u001b[0m \u001b[0mparams\u001b[0m\u001b[1;33m=\u001b[0m\u001b[1;33m{\u001b[0m\u001b[1;33m}\u001b[0m\u001b[1;33m)\u001b[0m\u001b[1;33m:\u001b[0m\u001b[1;33m\u001b[0m\u001b[0m\n\u001b[1;32m---> 27\u001b[1;33m         \u001b[1;32mreturn\u001b[0m \u001b[0mself\u001b[0m\u001b[1;33m.\u001b[0m\u001b[0m_request\u001b[0m\u001b[1;33m(\u001b[0m\u001b[1;34m'BASE'\u001b[0m\u001b[1;33m,\u001b[0m \u001b[0mrest\u001b[0m\u001b[1;33m,\u001b[0m \u001b[0mparams\u001b[0m\u001b[1;33m)\u001b[0m\u001b[1;33m\u001b[0m\u001b[0m\n\u001b[0m\u001b[0;32m     28\u001b[0m \u001b[1;33m\u001b[0m\u001b[0m\n\u001b[0;32m     29\u001b[0m     \u001b[1;32mdef\u001b[0m \u001b[0m_static_request\u001b[0m\u001b[1;33m(\u001b[0m\u001b[0mself\u001b[0m\u001b[1;33m,\u001b[0m \u001b[0mrest\u001b[0m\u001b[1;33m,\u001b[0m \u001b[0mparams\u001b[0m\u001b[1;33m=\u001b[0m\u001b[1;33m{\u001b[0m\u001b[1;33m}\u001b[0m\u001b[1;33m)\u001b[0m\u001b[1;33m:\u001b[0m\u001b[1;33m\u001b[0m\u001b[0m\n",
      "\u001b[1;32m<ipython-input-68-727dce17cdb4>\u001b[0m in \u001b[0;36m_request\u001b[1;34m(self, base, rest, params)\u001b[0m\n\u001b[0;32m     21\u001b[0m         )\n\u001b[0;32m     22\u001b[0m         \u001b[1;31m#print(response.request.url)\u001b[0m\u001b[1;33m\u001b[0m\u001b[1;33m\u001b[0m\u001b[0m\n\u001b[1;32m---> 23\u001b[1;33m         \u001b[0mtime\u001b[0m\u001b[1;33m.\u001b[0m\u001b[0msleep\u001b[0m\u001b[1;33m(\u001b[0m\u001b[1;36m1.2\u001b[0m\u001b[1;33m)\u001b[0m\u001b[1;33m\u001b[0m\u001b[0m\n\u001b[0m\u001b[0;32m     24\u001b[0m         \u001b[1;32mreturn\u001b[0m \u001b[0mresponse\u001b[0m\u001b[1;33m.\u001b[0m\u001b[0mjson\u001b[0m\u001b[1;33m(\u001b[0m\u001b[1;33m)\u001b[0m\u001b[1;33m\u001b[0m\u001b[0m\n\u001b[0;32m     25\u001b[0m \u001b[1;33m\u001b[0m\u001b[0m\n",
      "\u001b[1;31mKeyboardInterrupt\u001b[0m: "
     ]
    }
   ],
   "source": [
    "LIMIT = 1400\n",
    "dt = api.get_matches_champions_and_summonerIds_before_game_for_those_summoners_have_similar_stats_2_seasons(season=2016)\n",
    "\n",
    "data = []\n",
    "for d in dt:\n",
    "    data.append(d)\n",
    "    if not len(data) % 10:\n",
    "        print(len(data))\n",
    "    if len(data) > LIMIT:\n",
    "        break\n",
    "        "
   ]
  },
  {
   "cell_type": "code",
   "execution_count": 37,
   "metadata": {
    "collapsed": false
   },
   "outputs": [
    {
     "name": "stdout",
     "output_type": "stream",
     "text": [
      "1070 samples are saving...\n",
      "Done.\n"
     ]
    }
   ],
   "source": [
    "print(len(data), 'samples are saving...')\n",
    "with open('ReallyGoodSummonersDataChampionProficiencyPlaynet.pkl', 'wb') as dfile:\n",
    "    pk.dump(data, dfile)\n",
    "print('Done.')"
   ]
  },
  {
   "cell_type": "code",
   "execution_count": 71,
   "metadata": {
    "collapsed": false
   },
   "outputs": [
    {
     "data": {
      "text/plain": [
       "(array([   9.,   38.,  141.,  264.,    0.,  286.,  214.,   89.,   24.,    5.]),\n",
       " array([ 0. ,  0.8,  1.6,  2.4,  3.2,  4. ,  4.8,  5.6,  6.4,  7.2,  8. ]),\n",
       " <a list of 10 Patch objects>)"
      ]
     },
     "execution_count": 71,
     "metadata": {},
     "output_type": "execute_result"
    },
    {
     "data": {
      "image/png": "[encoded data removed]",
      "text/plain": [
       "<matplotlib.figure.Figure at 0x7f1ff30047f0>"
      ]
     },
     "metadata": {},
     "output_type": "display_data"
    }
   ],
   "source": [
    "goods = []\n",
    "for d in data:\n",
    "    good = 0\n",
    "    for i in range(10):\n",
    "        if len(d['champions'])==10 and api.does_she_have_similar_history_in_two_seasons(d['summoners'][i], 2015, 2016):\n",
    "            good += 1\n",
    "    goods.append(good)\n",
    "plt.hist(goods)"
   ]
  },
  {
   "cell_type": "code",
   "execution_count": null,
   "metadata": {
    "collapsed": true
   },
   "outputs": [],
   "source": []
  },
  {
   "cell_type": "code",
   "execution_count": 51,
   "metadata": {
    "collapsed": false,
    "scrolled": true
   },
   "outputs": [
    {
     "name": "stdout",
     "output_type": "stream",
     "text": [
      "10\n",
      "20\n",
      "30\n",
      "40\n",
      "50\n",
      "60\n",
      "70\n",
      "80\n",
      "90\n",
      "100\n",
      "110\n",
      "120\n",
      "130\n",
      "140\n",
      "150\n",
      "160\n",
      "170\n",
      "180\n",
      "190\n",
      "200\n",
      "210\n",
      "220\n",
      "230\n",
      "240\n",
      "250\n",
      "260\n",
      "270\n",
      "280\n",
      "290\n",
      "300\n",
      "310\n",
      "320\n",
      "330\n",
      "340\n",
      "350\n",
      "360\n",
      "370\n",
      "380\n",
      "390\n",
      "400\n",
      "410\n",
      "420\n",
      "430\n",
      "440\n",
      "450\n",
      "460\n",
      "470\n",
      "480\n",
      "490\n",
      "500\n",
      "510\n",
      "520\n",
      "530\n",
      "540\n",
      "550\n",
      "560\n",
      "570\n",
      "580\n",
      "590\n",
      "600\n",
      "610\n",
      "620\n",
      "630\n",
      "640\n",
      "650\n",
      "660\n",
      "670\n",
      "680\n",
      "690\n",
      "700\n",
      "710\n",
      "720\n",
      "730\n",
      "740\n",
      "750\n",
      "760\n",
      "770\n",
      "780\n",
      "790\n",
      "800\n",
      "810\n",
      "820\n",
      "830\n",
      "840\n",
      "850\n",
      "860\n",
      "870\n",
      "880\n",
      "890\n",
      "900\n",
      "910\n",
      "920\n",
      "930\n",
      "940\n",
      "950\n",
      "960\n",
      "970\n",
      "980\n",
      "990\n"
     ]
    },
    {
     "name": "stderr",
     "output_type": "stream",
     "text": [
      "/usr/local/lib/python3.4/dist-packages/numpy/core/_methods.py:59: RuntimeWarning: Mean of empty slice.\n",
      "  warnings.warn(\"Mean of empty slice.\", RuntimeWarning)\n",
      "/usr/local/lib/python3.4/dist-packages/numpy/core/_methods.py:82: RuntimeWarning: Degrees of freedom <= 0 for slice\n",
      "  warnings.warn(\"Degrees of freedom <= 0 for slice\", RuntimeWarning)\n"
     ]
    }
   ],
   "source": [
    "dt = []\n",
    "#sampl_data = [data[i] for i in sorted(random.sample(range(len(data)), 1500))]\n",
    "for d in data:\n",
    "    if len(d['champions'])==10:\n",
    "        winner = api.get_win_stats(d['summoners'][:5], d['champions'][:5], 2015)\n",
    "        if not winner:\n",
    "            continue\n",
    "        loser = api.get_win_stats(d['summoners'][5:], d['champions'][5:], 2015)\n",
    "        if not loser:\n",
    "            continue\n",
    "        dt.append(winner + loser)\n",
    "        if len(dt) % 10 == 0:\n",
    "            print(len(dt))\n",
    "dataset = pd.DataFrame(data=dt, columns=['winner_avg_game_count', 'winner_std_game_count', 'winner_avg_win_ratio', 'winner_std_win_ratio', 'winner_avg_same_champion_game_count', 'winner_std_same_champion_game_count', 'winner_avg_same_champion_win_ratio', 'winner_std_same_champion_win_ratio', 'loser_avg_game_count', 'loser_std_game_count', 'loser_avg_win_ratio', 'loser_std_win_ratio', 'loser_avg_same_champion_game_count', 'loser_std_same_champion_game_count', 'loser_avg_same_champion_win_ratio', 'loser_std_same_champion_win_ratio'])\n",
    "\n",
    "dataset.to_csv('ReallyGoodStat2015_for_Classification2016_Dataset.csv')"
   ]
  },
  {
   "cell_type": "code",
   "execution_count": null,
   "metadata": {
    "collapsed": true
   },
   "outputs": [],
   "source": []
  },
  {
   "cell_type": "markdown",
   "metadata": {},
   "source": [
    "# Filtering summoners using history of games in 2015 and 2016 stats"
   ]
  },
  {
   "cell_type": "code",
   "execution_count": null,
   "metadata": {
    "collapsed": true
   },
   "outputs": [],
   "source": [
    "def plot_distribution_of_correlation(summoner_ids):\n",
    "    r = []\n",
    "    p = []\n",
    "    for sid in summoner_ids:\n",
    "        h1 = api.get_summoner_wins_losses(sid, 2015)\n",
    "        h2 = api.get_summoner_wins_losses(sid, 2016)\n",
    "        wr1 = []\n",
    "        wr2 = []\n",
    "        for k in list(set(h1.keys()) & set(h2.keys())):\n",
    "            wr1.append(h1[k][0]/float(h1[k][0]+h1[k][1]))\n",
    "            wr2.append(h2[k][0]/float(h2[k][0]+h2[k][1]))\n",
    "    #         wr1.append(h1[k][0]+h1[k][1])\n",
    "    #         wr2.append(h2[k][0]+h2[k][1])\n",
    "        c = corr(wr1, wr2)\n",
    "        r.append(c[0])\n",
    "        p.append(c[1])\n",
    "    plt.hist(np.array(r)[np.where(np.array(p)<0.05)])"
   ]
  },
  {
   "cell_type": "markdown",
   "metadata": {},
   "source": [
    "Selecting summoners based on 80% of conflicting champion choice"
   ]
  },
  {
   "cell_type": "code",
   "execution_count": null,
   "metadata": {
    "collapsed": false
   },
   "outputs": [],
   "source": [
    "with open('summonerId_list.pkl', 'rb') as dfile:\n",
    "    summoners = pk.load(dfile)\n",
    "good_sids = []\n",
    "for sid in summoners:\n",
    "    h1 = api.get_summoner_wins_losses(sid, 2015)\n",
    "    h2 = api.get_summoner_wins_losses(sid, 2016)\n",
    "    c1 = len(set(list(h1.keys()) + list(h1.keys())))\n",
    "    if c1 !=0 and len(list(set(h1.keys()) & set(h2.keys()))) / c1 < 0.8:\n",
    "        continue\n",
    "    good_sids.append(sid)\n",
    "print(len(good_sids))\n",
    "plot_distribution_of_correlation(good_sids)"
   ]
  },
  {
   "cell_type": "markdown",
   "metadata": {},
   "source": [
    "Selecting summoners based on positive (larger than 0.3) of 2015 and 2016 win ratio"
   ]
  },
  {
   "cell_type": "code",
   "execution_count": null,
   "metadata": {
    "collapsed": true
   },
   "outputs": [],
   "source": [
    "with open('summonerId_list.pkl', 'rb') as dfile:\n",
    "    summoners = pk.load(dfile)\n",
    "gggood_sids = []\n",
    "for sid in summoners:\n",
    "    h1 = api.get_summoner_wins_losses(sid, 2015)\n",
    "    h2 = api.get_summoner_wins_losses(sid, 2016)\n",
    "    wr1 = []\n",
    "    wr2 = []\n",
    "    for k in list(set(h1.keys()) & set(h2.keys())):\n",
    "        wr1.append(h1[k][0]/float(h1[k][0]+h1[k][1]))\n",
    "        wr2.append(h2[k][0]/float(h2[k][0]+h2[k][1]))\n",
    "    if len(wr1)<3 or len(wr2)<3:\n",
    "        continue\n",
    "    c = corr(wr1, wr2)\n",
    "    if c[1]<1 and c[0]>0.3:\n",
    "        gggood_sids.append(sid)\n",
    "print(len(gggood_sids))\n",
    "plot_distribution_of_correlation(gggood_sids)"
   ]
  },
  {
   "cell_type": "code",
   "execution_count": null,
   "metadata": {
    "collapsed": true
   },
   "outputs": [],
   "source": []
  },
  {
   "cell_type": "code",
   "execution_count": null,
   "metadata": {
    "collapsed": true
   },
   "outputs": [],
   "source": []
  }
 ],
 "metadata": {
  "kernelspec": {
   "display_name": "Python 3",
   "language": "python",
   "name": "python3"
  },
  "language_info": {
   "codemirror_mode": {
    "name": "ipython",
    "version": 3
   },
   "file_extension": ".py",
   "mimetype": "text/x-python",
   "name": "python",
   "nbconvert_exporter": "python",
   "pygments_lexer": "ipython3",
   "version": "3.4.3"
  }
 },
 "nbformat": 4,
 "nbformat_minor": 0
}
