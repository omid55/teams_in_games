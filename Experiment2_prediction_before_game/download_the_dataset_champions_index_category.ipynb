{
 "cells": [
  {
   "cell_type": "markdown",
   "metadata": {},
   "source": [
    "Imports"
   ]
  },
  {
   "cell_type": "code",
   "execution_count": 1,
   "metadata": {
    "collapsed": true
   },
   "outputs": [],
   "source": [
    "#Omid55\n",
    "import requests\n",
    "import pandas as pd\n",
    "import pickle as pk\n",
    "import csv\n",
    "import time\n",
    "import numpy as np"
   ]
  },
  {
   "cell_type": "code",
   "execution_count": 2,
   "metadata": {
    "collapsed": false
   },
   "outputs": [],
   "source": [
    "URL = {\n",
    "    'BASE': 'https://{proxy}.api.pvp.net/api/lol/{region}/v2.2/{rest}',\n",
    "    'STATIC_BASE': 'https://global.api.pvp.net/api/lol/static-data/{region}/v1.2/{rest}',\n",
    "    'MATCHLIST_URL': 'matchlist/by-summoner/{summonerId}',\n",
    "    'MATCH_URL': 'match/{matchId}',\n",
    "    'CHAMPION_URL': 'champion/{id}?champData=all'\n",
    "}\n",
    "\n",
    "REGIONS = {\n",
    "    'north america': 'na',\n",
    "    'europe west': 'euw'\n",
    "}"
   ]
  },
  {
   "cell_type": "code",
   "execution_count": 3,
   "metadata": {
    "collapsed": true
   },
   "outputs": [],
   "source": [
    "class Match(object):\n",
    "    \n",
    "    def __init__(self):\n",
    "        self.winners = []\n",
    "        self.losers = []\n",
    "        self.duration = -1\n",
    "        "
   ]
  },
  {
   "cell_type": "code",
   "execution_count": 4,
   "metadata": {
    "collapsed": false
   },
   "outputs": [],
   "source": [
    "class RiotAPI(object):\n",
    "    \n",
    "    def __init__(self, api_key, region=REGIONS['north america']):\n",
    "        self.api_key = api_key\n",
    "        self.region = region\n",
    "        self.champions = {}\n",
    "        self.champions_allinfo = {}\n",
    "        self.champions_allinfo_saved = False\n",
    "        \n",
    "    def _request(self, base, rest, params={}):\n",
    "        args = {'api_key': self.api_key}\n",
    "        args.update(params)\n",
    "        response = requests.get(\n",
    "            URL[base].format(\n",
    "                rest=rest,\n",
    "                proxy=self.region,\n",
    "                region=self.region,\n",
    "            ),\n",
    "            params=args\n",
    "        )\n",
    "        time.sleep(1.2)\n",
    "        return response.json()\n",
    "    \n",
    "    def _base_request(self, rest, params={}):\n",
    "        return self._request('BASE', rest, params)\n",
    "        \n",
    "    def _static_request(self, rest, params={}):\n",
    "        return self._request('STATIC_BASE', rest, params)\n",
    "    \n",
    "    # my functions\n",
    "    def _get_list_of_match_ids(self, sid):\n",
    "        rest = URL['MATCHLIST_URL'].format(\n",
    "            summonerId=sid\n",
    "        )\n",
    "        result = self._base_request(rest)\n",
    "        if 'matches' in result:\n",
    "            for match in result['matches']:\n",
    "                yield match['matchId']\n",
    "                \n",
    "    def _get_match(self, mid):\n",
    "        rest = URL['MATCH_URL'].format(\n",
    "            matchId=mid\n",
    "        )\n",
    "        result = self._base_request(rest)\n",
    "        return result\n",
    "        \n",
    "    def get_champion_all_info(self, championId):\n",
    "        rest = URL['CHAMPION_URL'].format(\n",
    "            id=championId\n",
    "        )\n",
    "        result = self._static_request(rest)\n",
    "        return result\n",
    "        \n",
    "    def get_champion_index(self, championId):\n",
    "        if championId not in self.champions:\n",
    "            myid = len(self.champions)\n",
    "            self.champions_allinfo[myid] = self.get_champion_all_info(championId)\n",
    "            if not self.champions_allinfo_saved and len(self.champions_allinfo) == 132:\n",
    "                with open('ChampionsAllInfo.pkl', 'wb') as output:\n",
    "                    pk.dump(self.champions_allinfo, output)\n",
    "                    self.champions_allinfo_saved = True\n",
    "            self.champions[championId] = myid\n",
    "        return self.champions[championId]\n",
    "    \n",
    "    def get_matches_champions_before_game(self, just_indices=True):\n",
    "        #for sid in range(1,1000000):    #for sid in range(1000000,5000000):\n",
    "        with open('summonerId_list.pkl', 'rb') as f:\n",
    "            summnoners = pk.load(f)\n",
    "        for sid in summnoners:\n",
    "            matchids = self._get_list_of_match_ids(sid)\n",
    "            for matchid in matchids:\n",
    "                match = self._get_match(matchid)\n",
    "                if 'participants' in match:\n",
    "                    losers = []\n",
    "                    winners = []\n",
    "                    duration = match['matchDuration']\n",
    "                    for member in match['participants']:\n",
    "                        if member['stats']['winner']:\n",
    "                            if just_indices:\n",
    "                                winners += [self.get_champion_index(member['championId'])]\n",
    "                            else:\n",
    "                                winners += (self.get_champion_capabilities(member['championId']))\n",
    "                        else:\n",
    "                            if just_indices:\n",
    "                                losers += [self.get_champion_index(member['championId'])]\n",
    "                            else:\n",
    "                                losers += (self.get_champion_capabilities(member['championId']))\n",
    "                    yield winners + losers + [duration]\n",
    "                    \n",
    "                    \n",
    "with open('../MyKey2.key', 'r') as key_file:\n",
    "    KEY = key_file.readline().strip()\n",
    "api = RiotAPI(KEY)"
   ]
  },
  {
   "cell_type": "markdown",
   "metadata": {},
   "source": [
    "# Choose which type of data you want and run the according snippet"
   ]
  },
  {
   "cell_type": "markdown",
   "metadata": {},
   "source": [
    "Getting the data about champions' capabilities before the game (for prediction)"
   ]
  },
  {
   "cell_type": "code",
   "execution_count": null,
   "metadata": {
    "collapsed": false
   },
   "outputs": [],
   "source": [
    "MEMORY_LIMIT = 10\n",
    "data = []\n",
    "with open('dataset_champion_capabilities.csv', 'w') as fp:\n",
    "    a = csv.writer(fp, delimiter=',')\n",
    "    dt = api.get_matches_champions_before_game(just_indices=False)\n",
    "    for d in dt:\n",
    "        data.append(d)\n",
    "        if len(data) > MEMORY_LIMIT:\n",
    "            a.writerows(data)\n",
    "            data.clear()\n",
    "    a.writerows(data)"
   ]
  },
  {
   "cell_type": "markdown",
   "metadata": {
    "collapsed": true
   },
   "source": [
    "Getting the data about champions' indices before the game (for prediction)"
   ]
  },
  {
   "cell_type": "code",
   "execution_count": 5,
   "metadata": {
    "collapsed": false
   },
   "outputs": [],
   "source": [
    "MEMORY_LIMIT = 100\n",
    "data = []\n",
    "c = 0\n",
    "with open('DatasetChampionIndices.csv', 'w') as fp:\n",
    "    a = csv.writer(fp, delimiter=',')\n",
    "    dt = api.get_matches_champions_before_game()\n",
    "    for d in dt:\n",
    "        data.append(d)\n",
    "        c += 1\n",
    "        if len(data) > MEMORY_LIMIT:\n",
    "            a.writerows(data)\n",
    "            data.clear()\n",
    "        if c >= 20001:\n",
    "            break\n",
    "    a.writerows(data)"
   ]
  },
  {
   "cell_type": "code",
   "execution_count": null,
   "metadata": {
    "collapsed": true
   },
   "outputs": [],
   "source": []
  }
 ],
 "metadata": {
  "kernelspec": {
   "display_name": "Python 3",
   "language": "python",
   "name": "python3"
  },
  "language_info": {
   "codemirror_mode": {
    "name": "ipython",
    "version": 3
   },
   "file_extension": ".py",
   "mimetype": "text/x-python",
   "name": "python",
   "nbconvert_exporter": "python",
   "pygments_lexer": "ipython3",
   "version": "3.4.3"
  }
 },
 "nbformat": 4,
 "nbformat_minor": 0
}
