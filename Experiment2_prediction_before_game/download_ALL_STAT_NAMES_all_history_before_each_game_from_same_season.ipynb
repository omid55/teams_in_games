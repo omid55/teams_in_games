{
 "cells": [
  {
   "cell_type": "code",
   "execution_count": 1,
   "metadata": {
    "collapsed": true
   },
   "outputs": [],
   "source": [
    "#Omid55\n",
    "import requests\n",
    "import pandas as pd\n",
    "import pickle as pk\n",
    "import csv\n",
    "import time\n",
    "import numpy as np\n",
    "import random\n",
    "\n",
    "import seaborn as sns\n",
    "import matplotlib.pylab as plt\n",
    "% matplotlib inline"
   ]
  },
  {
   "cell_type": "code",
   "execution_count": 2,
   "metadata": {
    "collapsed": true
   },
   "outputs": [],
   "source": [
    "URL = {\n",
    "    'BASE': 'https://{proxy}.api.pvp.net/api/lol/{region}/{rest}',\n",
    "    'STATIC_BASE': 'https://global.api.pvp.net/api/lol/static-data/{region}/v1.2/{rest}',\n",
    "    \n",
    "    'MATCHLIST_URL': 'v2.2/matchlist/by-summoner/{summonerId}?seasons=SEASON{season}',\n",
    "    'MATCHLIST_URL_WITH_DATE': 'v2.2/matchlist/by-summoner/{summonerId}?seasons=SEASON{season}&endTime={date}',\n",
    "    'MATCH_URL': 'v2.2/match/{matchId}',\n",
    "    'CHAMPION_URL': 'champion/{id}?champData=all',\n",
    "    'SUMMONER_URL': 'v1.4/summoner/{summonerId}',\n",
    "    'SUMMONER_WINS_LOSSES_PER_CHAMPION_URL': 'v1.3/stats/by-summoner/{summonerId}/ranked?season=SEASON{season}'\n",
    "}\n",
    "\n",
    "REGIONS = {\n",
    "    'north america': 'na',\n",
    "    'europe west': 'euw'\n",
    "}"
   ]
  },
  {
   "cell_type": "code",
   "execution_count": 3,
   "metadata": {
    "collapsed": true
   },
   "outputs": [],
   "source": [
    "class Match(object):\n",
    "    \n",
    "    def __init__(self):\n",
    "        self.winners = []\n",
    "        self.losers = []\n",
    "        self.duration = -1\n",
    "        "
   ]
  },
  {
   "cell_type": "code",
   "execution_count": 81,
   "metadata": {
    "collapsed": false
   },
   "outputs": [],
   "source": [
    "class RiotAPI(object):\n",
    "    \n",
    "    def __init__(self, api_key, region=REGIONS['north america']):\n",
    "        self.api_key = api_key\n",
    "        self.region = region\n",
    "        self.champions = {}\n",
    "#         self.champions_allinfo = {}\n",
    "#         self.champions_allinfo_saved = False\n",
    "        self.summoner_wins_losses = {}\n",
    "        \n",
    "    def _request(self, base, rest, params={}):\n",
    "        while True:\n",
    "            args = {'api_key': self.api_key}\n",
    "            args.update(params)\n",
    "            response = requests.get(\n",
    "                URL[base].format(\n",
    "                    rest=rest,\n",
    "                    proxy=self.region,\n",
    "                    region=self.region,\n",
    "                ),\n",
    "                params=args\n",
    "            )\n",
    "            #print(response.request.url)\n",
    "            #time.sleep(1.2)\n",
    "            res = response.json()\n",
    "            if 'status' in res and 'status_code' in res['status'] and res['status']['status_code'] == 429:\n",
    "                time.sleep(1.2)\n",
    "            else:\n",
    "                break\n",
    "        return response.json()\n",
    "    \n",
    "    def _base_request(self, rest, params={}):\n",
    "        return self._request('BASE', rest, params)\n",
    "        \n",
    "    def _static_request(self, rest, params={}):\n",
    "        return self._request('STATIC_BASE', rest, params)\n",
    "    \n",
    "    # functions   \n",
    "    def _get_list_of_match_ids(self, sid, season, before_this_date=None):\n",
    "        if not before_this_date:\n",
    "            rest = URL['MATCHLIST_URL'].format(\n",
    "                summonerId=sid,\n",
    "                season=season\n",
    "            )\n",
    "            result = self._base_request(rest)\n",
    "        else:\n",
    "            rest = URL['MATCHLIST_URL_WITH_DATE'].format(\n",
    "                summonerId=sid,\n",
    "                season=season,\n",
    "                date=before_this_date-1\n",
    "            )\n",
    "            result = self._base_request(rest)\n",
    "        if 'matches' in result:\n",
    "            for match in result['matches']:\n",
    "                yield match['matchId']\n",
    "                \n",
    "    def _get_match(self, mid):\n",
    "        rest = URL['MATCH_URL'].format(\n",
    "            matchId=mid\n",
    "        )\n",
    "        result = self._base_request(rest)\n",
    "        return result\n",
    "        \n",
    "    # --------------------------------------------------------------------------------------\n",
    "    def get_all_history_in_season_before_given_date(self, sid, selected_champion_id, season, endTime):\n",
    "        stat_names = ['champLevel', 'kills', 'doubleKills', 'tripleKills', 'quadraKills', 'pentaKills', 'unrealKills', \n",
    "                     'largestKillingSpree', 'deaths', 'assists', 'totalDamageDealt', 'totalDamageDealtToChampions', \n",
    "                      'totalDamageTaken', 'largestCriticalStrike', 'totalHeal', 'minionsKilled', 'neutralMinionsKilled',\n",
    "                      'neutralMinionsKilledTeamJungle', 'neutralMinionsKilledEnemyJungle', 'goldEarned', 'goldSpent',\n",
    "                      'combatPlayerScore', 'objectivePlayerScore','totalPlayerScore', 'totalScoreRank', 'magicDamageDealtToChampions',\n",
    "                      'physicalDamageDealtToChampions', 'trueDamageDealtToChampions', 'visionWardsBoughtInGame',\n",
    "                      'sightWardsBoughtInGame', 'magicDamageDealt', 'physicalDamageDealt', 'trueDamageDealt', 'magicDamageTaken',\n",
    "                      'physicalDamageTaken', 'trueDamageTaken', 'inhibitorKills', 'towerKills', 'wardsPlaced', 'wardsKilled',\n",
    "                      'largestMultiKill', 'killingSprees', 'totalUnitsHealed', 'totalTimeCrowdControlDealt'\n",
    "                     ]\n",
    "    \n",
    "    def get_all_history_in_same_season_before_this_date(self, sid, selected_champion_id, season, before_this_date):\n",
    "        same_champ_win = 0\n",
    "        same_champ_lose = 0\n",
    "        win = 0\n",
    "        lose = 0\n",
    "        gold_win=0\n",
    "        deaths_win=0\n",
    "        kills_win=0\n",
    "        assists_win=0\n",
    "        champLevel_win=0\n",
    "        physicalDamageDealt_win=0\n",
    "        trueDamageDealt_win=0\n",
    "        towerKills_win=0\n",
    "        minionsKilled_win=0\n",
    "        totalHeal_win=0\n",
    "        unrealKills_win=0\n",
    "        pentaKills_win=0                             \n",
    "        magicDamageDealt_win=0\n",
    "        wardsKilled_win=0\n",
    "        largestCriticalStrike_win=0\n",
    "        doubleKills_win=0\n",
    "        tripleKills_win=0\n",
    "        magicDamageDealtToChampions_win=0\n",
    "        totalTimeCrowdControlDealt_win=0\n",
    "        physicalDamageTaken_win=0\n",
    "        largestKillingSpree_win=0\n",
    "        inhibitorKills_win=0\n",
    "        physicalDamageDealtToChampions_win=0                                  \n",
    "        quadraKills_win=0\n",
    "        goldSpent_win=0\n",
    "        wardsPlaced_win=0\n",
    "        killingSprees_win=0\n",
    "        totalUnitsHealed_win=0\n",
    "        totalPlayerScore_win=0\n",
    "        magicDamageTaken_win=0\n",
    "        largestMultiKill_win=0\n",
    "        combatPlayerScore_win=0\n",
    "        combatPlayerScore_win=0\n",
    "        gold_lose=0\n",
    "        deaths_lose=0\n",
    "        kills_lose=0\n",
    "        assists_lose=0\n",
    "        champLevel_lose=0\n",
    "        physicalDamageDealt_lose=0\n",
    "        trueDamageDealt_lose=0\n",
    "        towerKills_lose=0\n",
    "        minionsKilled_lose=0\n",
    "        totalHeal_lose=0\n",
    "        unrealKills_lose=0\n",
    "        pentaKills_lose=0                             \n",
    "        magicDamageDealt_lose=0\n",
    "        wardsKilled_lose=0\n",
    "        largestCriticalStrike_lose=0\n",
    "        doubleKills_lose=0\n",
    "        tripleKills_lose=0\n",
    "        magicDamageDealtToChampions_lose=0\n",
    "        totalTimeCrowdControlDealt_lose=0\n",
    "        physicalDamageTaken_lose=0\n",
    "        largestKillingSpree_lose=0\n",
    "        inhibitorKills_lose=0\n",
    "        physicalDamageDealtToChampions_lose=0                                  \n",
    "        quadraKills_lose=0\n",
    "        goldSpent_lose=0\n",
    "        wardsPlaced_lose=0\n",
    "        killingSprees_lose=0\n",
    "        totalUnitsHealed_lose=0\n",
    "        totalPlayerScore_lose=0\n",
    "        magicDamageTaken_lose=0\n",
    "        largestMultiKill_lose=0\n",
    "        combatPlayerScore_lose=0\n",
    "        combatPlayerScore_lose=0\n",
    "        \n",
    "        for matchid in list(self._get_list_of_match_ids(sid, season, before_this_date)):\n",
    "            match = self._get_match(matchid)\n",
    "            if 'participants' in match:\n",
    "                for pi in match['participantIdentities']:\n",
    "                    if pi['player']['summonerId'] == sid:\n",
    "                        for pa in match['participants']:\n",
    "                            if pa['participantId'] == pi['participantId']:\n",
    "                                if pa['teamId'] == 100:\n",
    "                                    win += 1\n",
    "                                    gold_win+=pa['stats']['goldEarned']\n",
    "                                    deaths_win+=pa['stats']['deaths']\n",
    "                                    kills_win+=pa['stats']['kills']\n",
    "                                    assists_win+=pa['stats']['assists']\n",
    "                                    champLevel_win+=pa['stats']['champLevel']\n",
    "                                    physicalDamageDealt_win+=pa['stats']['physicalDamageDealt']\n",
    "                                    trueDamageDealt_win+=pa['stats']['trueDamageDealt']\n",
    "                                    towerKills_win+=pa['stats']['towerKills']\n",
    "                                    minionsKilled_win+=pa['stats']['minionsKilled']\n",
    "                                    totalHeal_win+=pa['stats']['totalHeal']\n",
    "                                    unrealKills_win+=pa['stats']['unrealKills']\n",
    "                                    pentaKills_win+=pa['stats']['pentaKills']                                    \n",
    "                                    magicDamageDealt_win+=pa['stats']['magicDamageDealt']\n",
    "                                    wardsKilled_win+=pa['stats']['wardsKilled']\n",
    "                                    largestCriticalStrike_win+=pa['stats']['largestCriticalStrike']\n",
    "                                    doubleKills_win+=pa['stats']['doubleKills']\n",
    "                                    tripleKills_win+=pa['stats']['tripleKills']\n",
    "                                    magicDamageDealtToChampions_win+=pa['stats']['magicDamageDealtToChampions']\n",
    "                                    totalTimeCrowdControlDealt_win+=pa['stats']['totalTimeCrowdControlDealt']\n",
    "                                    physicalDamageTaken_win+=pa['stats']['physicalDamageTaken']\n",
    "                                    largestKillingSpree_win+=pa['stats']['largestKillingSpree']\n",
    "                                    inhibitorKills_win+=pa['stats']['inhibitorKills']\n",
    "                                    physicalDamageDealtToChampions_win+=pa['stats']['physicalDamageDealtToChampions']                                    \n",
    "                                    quadraKills_win+=pa['stats']['quadraKills']\n",
    "                                    goldSpent_win+=pa['stats']['goldSpent']\n",
    "                                    wardsPlaced_win+=pa['stats']['wardsPlaced']\n",
    "                                    killingSprees_win+=pa['stats']['killingSprees']\n",
    "                                    totalUnitsHealed_win+=pa['stats']['totalUnitsHealed']\n",
    "                                    totalPlayerScore_win+=pa['stats']['totalPlayerScore']\n",
    "                                    magicDamageTaken_win+=pa['stats']['magicDamageTaken']\n",
    "                                    largestMultiKill_win+=pa['stats']['largestMultiKill']\n",
    "                                    combatPlayerScore_win+=pa['stats']['neutralMinionsKilled']\n",
    "                                    combatPlayerScore_win+=pa['stats']['combatPlayerScore']\n",
    "                                    \n",
    "                                    if pa['championId'] == selected_champion_id:\n",
    "                                        same_champ_win += 1\n",
    "                                else:\n",
    "                                    lose += 1\n",
    "                                    gold_lose+=pa['stats']['goldEarned']\n",
    "                                    deaths_lose+=pa['stats']['deaths']\n",
    "                                    kills_lose+=pa['stats']['kills']\n",
    "                                    assists_lose+=pa['stats']['assists']\n",
    "                                    champLevel_lose+=pa['stats']['champLevel']\n",
    "                                    physicalDamageDealt_lose+=pa['stats']['physicalDamageDealt']\n",
    "                                    trueDamageDealt_lose+=pa['stats']['trueDamageDealt']\n",
    "                                    towerKills_lose+=pa['stats']['towerKills']\n",
    "                                    minionsKilled_lose+=pa['stats']['minionsKilled']\n",
    "                                    totalHeal_lose+=pa['stats']['totalHeal']\n",
    "                                    unrealKills_lose+=pa['stats']['unrealKills']\n",
    "                                    pentaKills_lose+=pa['stats']['pentaKills']                                    \n",
    "                                    magicDamageDealt_lose+=pa['stats']['magicDamageDealt']\n",
    "                                    wardsKilled_lose+=pa['stats']['wardsKilled']\n",
    "                                    largestCriticalStrike_lose+=pa['stats']['largestCriticalStrike']\n",
    "                                    doubleKills_lose+=pa['stats']['doubleKills']\n",
    "                                    tripleKills_lose+=pa['stats']['tripleKills']\n",
    "                                    magicDamageDealtToChampions_lose+=pa['stats']['magicDamageDealtToChampions']\n",
    "                                    totalTimeCrowdControlDealt_lose+=pa['stats']['totalTimeCrowdControlDealt']\n",
    "                                    physicalDamageTaken_lose+=pa['stats']['physicalDamageTaken']\n",
    "                                    largestKillingSpree_lose+=pa['stats']['largestKillingSpree']\n",
    "                                    inhibitorKills_lose+=pa['stats']['inhibitorKills']\n",
    "                                    physicalDamageDealtToChampions_lose+=pa['stats']['physicalDamageDealtToChampions']                                    \n",
    "                                    quadraKills_lose+=pa['stats']['quadraKills']\n",
    "                                    goldSpent_lose+=pa['stats']['goldSpent']\n",
    "                                    wardsPlaced_lose+=pa['stats']['wardsPlaced']\n",
    "                                    killingSprees_lose+=pa['stats']['killingSprees']\n",
    "                                    totalUnitsHealed_lose+=pa['stats']['totalUnitsHealed']\n",
    "                                    totalPlayerScore_lose+=pa['stats']['totalPlayerScore']\n",
    "                                    magicDamageTaken_lose+=pa['stats']['magicDamageTaken']\n",
    "                                    largestMultiKill_lose+=pa['stats']['largestMultiKill']\n",
    "                                    combatPlayerScore_lose+=pa['stats']['neutralMinionsKilled']\n",
    "                                    combatPlayerScore_lose+=pa['stats']['combatPlayerScore']\n",
    "                                    if pa['championId'] == selected_champion_id:\n",
    "                                        same_champ_lose += 1\n",
    "                                #break    \n",
    "        if win+lose==0:\n",
    "            print(sid, selected_champion_id, season, before_this_date)\n",
    "            return {}\n",
    "        if same_champ_win+same_champ_lose:\n",
    "            r = same_champ_win / float(same_champ_win+same_champ_lose)\n",
    "        else:\n",
    "            r = 0\n",
    "        res={\n",
    "            'win_ratio': win / float(win+lose),\n",
    "            'games_count': win+lose,\n",
    "            'same_champ_win_ratio': r,\n",
    "            'same_champ_games_count': same_champ_win+same_champ_lose,\n",
    "            'unrealKills_lose': unrealKills_lose,\n",
    "            'pentaKills_lose': pentaKills_lose,\n",
    "            'magicDamageDealt_lose': magicDamageDealt_lose,\n",
    "            'wardsKilled_lose': wardsKilled_lose,\n",
    "            'largestCriticalStrike_lose': largestCriticalStrike_lose,\n",
    "            'doubleKills_lose': doubleKills_lose,\n",
    "            'tripleKills_lose': tripleKills_lose,\n",
    "            'magicDamageDealtToChampions_lose': magicDamageDealtToChampions_lose,\n",
    "            'totalTimeCrowdControlDealt_lose': totalTimeCrowdControlDealt_lose,\n",
    "            'physicalDamageTaken_lose': physicalDamageTaken_lose,\n",
    "            'largestKillingSpree_lose': largestKillingSpree_lose,\n",
    "            'inhibitorKills_lose': inhibitorKills_lose,\n",
    "            'physicalDamageDealtToChampions_lose': physicalDamageDealtToChampions_lose,\n",
    "            'quadraKills_lose': quadraKills_lose,\n",
    "            'goldSpent_lose': goldSpent_lose,\n",
    "            'wardsPlaced_lose': wardsPlaced_lose,\n",
    "            'killingSprees_lose': killingSprees_lose,\n",
    "            'totalUnitsHealed_lose': totalUnitsHealed_lose,\n",
    "            'totalPlayerScore_lose': totalPlayerScore_lose,\n",
    "            'magicDamageTaken_lose': magicDamageTaken_lose,\n",
    "            'largestMultiKill_lose': largestMultiKill_lose,\n",
    "            'combatPlayerScore_lose': combatPlayerScore_lose,\n",
    "            'combatPlayerScore_lose': combatPlayerScore_lose,\n",
    "            'gold_lose': gold_lose,\n",
    "            'deaths_lose': deaths_lose,\n",
    "            'kills_lose': kills_lose,\n",
    "            'assists_lose': assists_lose,\n",
    "            'champLevel_lose': champLevel_lose,\n",
    "            'physicalDamageDealt_lose': physicalDamageDealt_lose,\n",
    "            'trueDamageDealt_lose': trueDamageDealt_lose,\n",
    "            'towerKills_lose': towerKills_lose,\n",
    "            'minionsKilled_lose': minionsKilled_lose,\n",
    "            'totalHeal_lose': totalHeal_lose,\n",
    "            'gold_win': gold_win,\n",
    "            'deaths_win': deaths_win,\n",
    "            'kills_win': kills_win,\n",
    "            'assists_win': assists_win,\n",
    "            'champLevel_win': champLevel_win,\n",
    "            'physicalDamageDealt_win': physicalDamageDealt_win,\n",
    "            'trueDamageDealt_win': trueDamageDealt_win,\n",
    "            'towerKills_win': towerKills_win,\n",
    "            'minionsKilled_win': minionsKilled_win,\n",
    "            'totalHeal_win': totalHeal_win,\n",
    "            'unrealKills_win': unrealKills_win,\n",
    "            'pentaKills_win': pentaKills_win,\n",
    "            'magicDamageDealt_win': magicDamageDealt_win,\n",
    "            'wardsKilled_win': wardsKilled_win,\n",
    "            'largestCriticalStrike_win': largestCriticalStrike_win,\n",
    "            'doubleKills_win': doubleKills_win,\n",
    "            'tripleKills_win': tripleKills_win,\n",
    "            'magicDamageDealtToChampions_win': magicDamageDealtToChampions_win,\n",
    "            'totalTimeCrowdControlDealt_win': totalTimeCrowdControlDealt_win,\n",
    "            'physicalDamageTaken_win': physicalDamageTaken_win,\n",
    "            'largestKillingSpree_win': largestKillingSpree_win,\n",
    "            'inhibitorKills_win': inhibitorKills_win,\n",
    "            'physicalDamageDealtToChampions_win': physicalDamageDealtToChampions_win,\n",
    "            'quadraKills_win': quadraKills_win,\n",
    "            'goldSpent_win': goldSpent_win,\n",
    "            'wardsPlaced_win': wardsPlaced_win,\n",
    "            'killingSprees_win': killingSprees_win,\n",
    "            'totalUnitsHealed_win': totalUnitsHealed_win,\n",
    "            'totalPlayerScore_win': totalPlayerScore_win,\n",
    "            'magicDamageTaken_win': magicDamageTaken_win,\n",
    "            'largestMultiKill_win': largestMultiKill_win,\n",
    "            'combatPlayerScore_win': combatPlayerScore_win,\n",
    "            'combatPlayerScore_win': combatPlayerScore_win\n",
    "            }\n",
    "        return res\n",
    "        ## << TO DO >>\n",
    "        # how many times he/she plays with the other sids in the selected match before this date ...\n",
    "\n",
    "    # --------------------------------------------------------------------------------------\n",
    "    \n",
    "    def get_matches_champions_and_summonerIds_before_game(self, season):\n",
    "        with open('summonerId_list.pkl', 'rb') as f:\n",
    "            all_summoners = pk.load(f)\n",
    "        summoners = [ all_summoners[i] for i in sorted(random.sample(range(len(all_summoners)), 3000)) ]\n",
    "        for sid in summoners:\n",
    "            matchids = self._get_list_of_match_ids(sid, season)\n",
    "            for matchid in matchids:\n",
    "                match = self._get_match(matchid)\n",
    "                if 'participants' in match:\n",
    "                    losers = []\n",
    "                    winners = []\n",
    "                    winners_sid = []\n",
    "                    losers_sid = []\n",
    "                    for member in match['participants']:\n",
    "                        suId = [pi['player']['summonerId'] for pi in match['participantIdentities'] if pi['participantId']==member['participantId']][0]       \n",
    "                        selected_champion_id = member['championId']\n",
    "                        if member['stats']['winner']:\n",
    "                            winners_sid.append(suId)\n",
    "                            winners.append(self.get_all_history_in_same_season_before_this_date(suId, selected_champion_id, season, match['matchCreation']))\n",
    "                        else:\n",
    "                            losers_sid.append(suId)\n",
    "                            losers.append(self.get_all_history_in_same_season_before_this_date(suId, selected_champion_id, season, match['matchCreation']))\n",
    "                    stats = {}\n",
    "                    return winners, losers\n",
    "                # << TO DO >> CHECK IF WINNER OR LOSER IS {}\n",
    "                \n",
    "#                     for k in winners[0].keys():\n",
    "#                         a = []\n",
    "#                         for w in winners:\n",
    "#                             a.append(w[k])\n",
    "#                         stats['winner_'+k+'_mean'] = np.average(a)\n",
    "#                         stats['winner_'+k+'_std'] = np.std(a)\n",
    "#                         a = []\n",
    "#                         for l in losers:\n",
    "#                             a.append(l[k])\n",
    "#                         stats['loser_'+k+'_mean'] = np.average(a)\n",
    "#                         stats['loser_'+k+'_std'] = np.std(a)\n",
    "#                     data = {'matchId': match['matchId'], 'duration': match['matchDuration'], 'stats': stats, 'summoners': winners_sid + losers_sid}\n",
    "#                     yield data\n",
    "    \n",
    "        \n",
    "                    \n",
    "with open('../MyKey4.key', 'r') as key_file:\n",
    "    KEY = key_file.readline().strip()\n",
    "api = RiotAPI(KEY)"
   ]
  },
  {
   "cell_type": "code",
   "execution_count": 82,
   "metadata": {
    "collapsed": false
   },
   "outputs": [],
   "source": [
    "#g = api.get_all_history_in_same_season_before_this_date(5, 1, 2016, 1453951950351)"
   ]
  },
  {
   "cell_type": "code",
   "execution_count": null,
   "metadata": {
    "collapsed": false
   },
   "outputs": [],
   "source": [
    "SID = 46422404\n",
    "for matchid in api._get_list_of_match_ids(SID, 2016, 1467349723067):\n",
    "    match = api._get_match(matchid)\n",
    "    if 'participants' in match:\n",
    "        for pi in match['participantIdentities']:\n",
    "            if pi['player']['summonerId'] == SID:\n",
    "                for pa in match['participants']:\n",
    "                    if pa['participantId'] == pi['participantId']:\n",
    "                        if pa['teamId'] == 100:\n",
    "                            print('WINNER')\n",
    "                        else:\n",
    "                            print('LOSER')"
   ]
  },
  {
   "cell_type": "code",
   "execution_count": 83,
   "metadata": {
    "collapsed": false
   },
   "outputs": [
    {
     "ename": "KeyboardInterrupt",
     "evalue": "",
     "output_type": "error",
     "traceback": [
      "\u001b[1;31m---------------------------------------------------------------------------\u001b[0m",
      "\u001b[1;31mKeyboardInterrupt\u001b[0m                         Traceback (most recent call last)",
      "\u001b[1;32m<ipython-input-83-47645978689b>\u001b[0m in \u001b[0;36m<module>\u001b[1;34m()\u001b[0m\n\u001b[1;32m----> 1\u001b[1;33m \u001b[0mWINER\u001b[0m\u001b[1;33m,\u001b[0m\u001b[0mLOSER\u001b[0m \u001b[1;33m=\u001b[0m \u001b[0mapi\u001b[0m\u001b[1;33m.\u001b[0m\u001b[0mget_matches_champions_and_summonerIds_before_game\u001b[0m\u001b[1;33m(\u001b[0m\u001b[0mseason\u001b[0m\u001b[1;33m=\u001b[0m\u001b[1;36m2016\u001b[0m\u001b[1;33m)\u001b[0m\u001b[1;33m\u001b[0m\u001b[0m\n\u001b[0m",
      "\u001b[1;32m<ipython-input-81-1bf785751170>\u001b[0m in \u001b[0;36mget_matches_champions_and_summonerIds_before_game\u001b[1;34m(self, season)\u001b[0m\n\u001b[0;32m    333\u001b[0m                         \u001b[1;32mif\u001b[0m \u001b[0mmember\u001b[0m\u001b[1;33m[\u001b[0m\u001b[1;34m'stats'\u001b[0m\u001b[1;33m]\u001b[0m\u001b[1;33m[\u001b[0m\u001b[1;34m'winner'\u001b[0m\u001b[1;33m]\u001b[0m\u001b[1;33m:\u001b[0m\u001b[1;33m\u001b[0m\u001b[0m\n\u001b[0;32m    334\u001b[0m                             \u001b[0mwinners_sid\u001b[0m\u001b[1;33m.\u001b[0m\u001b[0mappend\u001b[0m\u001b[1;33m(\u001b[0m\u001b[0msuId\u001b[0m\u001b[1;33m)\u001b[0m\u001b[1;33m\u001b[0m\u001b[0m\n\u001b[1;32m--> 335\u001b[1;33m                             \u001b[0mwinners\u001b[0m\u001b[1;33m.\u001b[0m\u001b[0mappend\u001b[0m\u001b[1;33m(\u001b[0m\u001b[0mself\u001b[0m\u001b[1;33m.\u001b[0m\u001b[0mget_all_history_in_same_season_before_this_date\u001b[0m\u001b[1;33m(\u001b[0m\u001b[0msuId\u001b[0m\u001b[1;33m,\u001b[0m \u001b[0mselected_champion_id\u001b[0m\u001b[1;33m,\u001b[0m \u001b[0mseason\u001b[0m\u001b[1;33m,\u001b[0m \u001b[0mmatch\u001b[0m\u001b[1;33m[\u001b[0m\u001b[1;34m'matchCreation'\u001b[0m\u001b[1;33m]\u001b[0m\u001b[1;33m)\u001b[0m\u001b[1;33m)\u001b[0m\u001b[1;33m\u001b[0m\u001b[0m\n\u001b[0m\u001b[0;32m    336\u001b[0m                         \u001b[1;32melse\u001b[0m\u001b[1;33m:\u001b[0m\u001b[1;33m\u001b[0m\u001b[0m\n\u001b[0;32m    337\u001b[0m                             \u001b[0mlosers_sid\u001b[0m\u001b[1;33m.\u001b[0m\u001b[0mappend\u001b[0m\u001b[1;33m(\u001b[0m\u001b[0msuId\u001b[0m\u001b[1;33m)\u001b[0m\u001b[1;33m\u001b[0m\u001b[0m\n",
      "\u001b[1;32m<ipython-input-81-1bf785751170>\u001b[0m in \u001b[0;36mget_all_history_in_same_season_before_this_date\u001b[1;34m(self, sid, selected_champion_id, season, before_this_date)\u001b[0m\n\u001b[0;32m    148\u001b[0m \u001b[1;33m\u001b[0m\u001b[0m\n\u001b[0;32m    149\u001b[0m         \u001b[1;32mfor\u001b[0m \u001b[0mmatchid\u001b[0m \u001b[1;32min\u001b[0m \u001b[0mlist\u001b[0m\u001b[1;33m(\u001b[0m\u001b[0mself\u001b[0m\u001b[1;33m.\u001b[0m\u001b[0m_get_list_of_match_ids\u001b[0m\u001b[1;33m(\u001b[0m\u001b[0msid\u001b[0m\u001b[1;33m,\u001b[0m \u001b[0mseason\u001b[0m\u001b[1;33m,\u001b[0m \u001b[0mbefore_this_date\u001b[0m\u001b[1;33m)\u001b[0m\u001b[1;33m)\u001b[0m\u001b[1;33m:\u001b[0m\u001b[1;33m\u001b[0m\u001b[0m\n\u001b[1;32m--> 150\u001b[1;33m             \u001b[0mmatch\u001b[0m \u001b[1;33m=\u001b[0m \u001b[0mself\u001b[0m\u001b[1;33m.\u001b[0m\u001b[0m_get_match\u001b[0m\u001b[1;33m(\u001b[0m\u001b[0mmatchid\u001b[0m\u001b[1;33m)\u001b[0m\u001b[1;33m\u001b[0m\u001b[0m\n\u001b[0m\u001b[0;32m    151\u001b[0m             \u001b[1;32mif\u001b[0m \u001b[1;34m'participants'\u001b[0m \u001b[1;32min\u001b[0m \u001b[0mmatch\u001b[0m\u001b[1;33m:\u001b[0m\u001b[1;33m\u001b[0m\u001b[0m\n\u001b[0;32m    152\u001b[0m                 \u001b[1;32mfor\u001b[0m \u001b[0mpi\u001b[0m \u001b[1;32min\u001b[0m \u001b[0mmatch\u001b[0m\u001b[1;33m[\u001b[0m\u001b[1;34m'participantIdentities'\u001b[0m\u001b[1;33m]\u001b[0m\u001b[1;33m:\u001b[0m\u001b[1;33m\u001b[0m\u001b[0m\n",
      "\u001b[1;32m<ipython-input-81-1bf785751170>\u001b[0m in \u001b[0;36m_get_match\u001b[1;34m(self, mid)\u001b[0m\n\u001b[0;32m     59\u001b[0m             \u001b[0mmatchId\u001b[0m\u001b[1;33m=\u001b[0m\u001b[0mmid\u001b[0m\u001b[1;33m\u001b[0m\u001b[0m\n\u001b[0;32m     60\u001b[0m         )\n\u001b[1;32m---> 61\u001b[1;33m         \u001b[0mresult\u001b[0m \u001b[1;33m=\u001b[0m \u001b[0mself\u001b[0m\u001b[1;33m.\u001b[0m\u001b[0m_base_request\u001b[0m\u001b[1;33m(\u001b[0m\u001b[0mrest\u001b[0m\u001b[1;33m)\u001b[0m\u001b[1;33m\u001b[0m\u001b[0m\n\u001b[0m\u001b[0;32m     62\u001b[0m         \u001b[1;32mreturn\u001b[0m \u001b[0mresult\u001b[0m\u001b[1;33m\u001b[0m\u001b[0m\n\u001b[0;32m     63\u001b[0m \u001b[1;33m\u001b[0m\u001b[0m\n",
      "\u001b[1;32m<ipython-input-81-1bf785751170>\u001b[0m in \u001b[0;36m_base_request\u001b[1;34m(self, rest, params)\u001b[0m\n\u001b[0;32m     31\u001b[0m \u001b[1;33m\u001b[0m\u001b[0m\n\u001b[0;32m     32\u001b[0m     \u001b[1;32mdef\u001b[0m \u001b[0m_base_request\u001b[0m\u001b[1;33m(\u001b[0m\u001b[0mself\u001b[0m\u001b[1;33m,\u001b[0m \u001b[0mrest\u001b[0m\u001b[1;33m,\u001b[0m \u001b[0mparams\u001b[0m\u001b[1;33m=\u001b[0m\u001b[1;33m{\u001b[0m\u001b[1;33m}\u001b[0m\u001b[1;33m)\u001b[0m\u001b[1;33m:\u001b[0m\u001b[1;33m\u001b[0m\u001b[0m\n\u001b[1;32m---> 33\u001b[1;33m         \u001b[1;32mreturn\u001b[0m \u001b[0mself\u001b[0m\u001b[1;33m.\u001b[0m\u001b[0m_request\u001b[0m\u001b[1;33m(\u001b[0m\u001b[1;34m'BASE'\u001b[0m\u001b[1;33m,\u001b[0m \u001b[0mrest\u001b[0m\u001b[1;33m,\u001b[0m \u001b[0mparams\u001b[0m\u001b[1;33m)\u001b[0m\u001b[1;33m\u001b[0m\u001b[0m\n\u001b[0m\u001b[0;32m     34\u001b[0m \u001b[1;33m\u001b[0m\u001b[0m\n\u001b[0;32m     35\u001b[0m     \u001b[1;32mdef\u001b[0m \u001b[0m_static_request\u001b[0m\u001b[1;33m(\u001b[0m\u001b[0mself\u001b[0m\u001b[1;33m,\u001b[0m \u001b[0mrest\u001b[0m\u001b[1;33m,\u001b[0m \u001b[0mparams\u001b[0m\u001b[1;33m=\u001b[0m\u001b[1;33m{\u001b[0m\u001b[1;33m}\u001b[0m\u001b[1;33m)\u001b[0m\u001b[1;33m:\u001b[0m\u001b[1;33m\u001b[0m\u001b[0m\n",
      "\u001b[1;32m<ipython-input-81-1bf785751170>\u001b[0m in \u001b[0;36m_request\u001b[1;34m(self, base, rest, params)\u001b[0m\n\u001b[0;32m     25\u001b[0m             \u001b[0mres\u001b[0m \u001b[1;33m=\u001b[0m \u001b[0mresponse\u001b[0m\u001b[1;33m.\u001b[0m\u001b[0mjson\u001b[0m\u001b[1;33m(\u001b[0m\u001b[1;33m)\u001b[0m\u001b[1;33m\u001b[0m\u001b[0m\n\u001b[0;32m     26\u001b[0m             \u001b[1;32mif\u001b[0m \u001b[1;34m'status'\u001b[0m \u001b[1;32min\u001b[0m \u001b[0mres\u001b[0m \u001b[1;32mand\u001b[0m \u001b[1;34m'status_code'\u001b[0m \u001b[1;32min\u001b[0m \u001b[0mres\u001b[0m\u001b[1;33m[\u001b[0m\u001b[1;34m'status'\u001b[0m\u001b[1;33m]\u001b[0m \u001b[1;32mand\u001b[0m \u001b[0mres\u001b[0m\u001b[1;33m[\u001b[0m\u001b[1;34m'status'\u001b[0m\u001b[1;33m]\u001b[0m\u001b[1;33m[\u001b[0m\u001b[1;34m'status_code'\u001b[0m\u001b[1;33m]\u001b[0m \u001b[1;33m==\u001b[0m \u001b[1;36m429\u001b[0m\u001b[1;33m:\u001b[0m\u001b[1;33m\u001b[0m\u001b[0m\n\u001b[1;32m---> 27\u001b[1;33m                 \u001b[0mtime\u001b[0m\u001b[1;33m.\u001b[0m\u001b[0msleep\u001b[0m\u001b[1;33m(\u001b[0m\u001b[1;36m1.2\u001b[0m\u001b[1;33m)\u001b[0m\u001b[1;33m\u001b[0m\u001b[0m\n\u001b[0m\u001b[0;32m     28\u001b[0m             \u001b[1;32melse\u001b[0m\u001b[1;33m:\u001b[0m\u001b[1;33m\u001b[0m\u001b[0m\n\u001b[0;32m     29\u001b[0m                 \u001b[1;32mbreak\u001b[0m\u001b[1;33m\u001b[0m\u001b[0m\n",
      "\u001b[1;31mKeyboardInterrupt\u001b[0m: "
     ]
    }
   ],
   "source": [
    "WINER,LOSER = api.get_matches_champions_and_summonerIds_before_game(season=2016)"
   ]
  },
  {
   "cell_type": "code",
   "execution_count": 53,
   "metadata": {
    "collapsed": false
   },
   "outputs": [
    {
     "data": {
      "text/plain": [
       "{}"
      ]
     },
     "execution_count": 53,
     "metadata": {},
     "output_type": "execute_result"
    }
   ],
   "source": [
    "WINER[2]"
   ]
  },
  {
   "cell_type": "code",
   "execution_count": 41,
   "metadata": {
    "collapsed": false
   },
   "outputs": [
    {
     "name": "stdout",
     "output_type": "stream",
     "text": [
      "1\n",
      "1\n"
     ]
    },
    {
     "ename": "KeyError",
     "evalue": "'inhibitorKills_lose'",
     "output_type": "error",
     "traceback": [
      "\u001b[1;31m---------------------------------------------------------------------------\u001b[0m",
      "\u001b[1;31mKeyError\u001b[0m                                  Traceback (most recent call last)",
      "\u001b[1;32m<ipython-input-41-1b98b953a10e>\u001b[0m in \u001b[0;36m<module>\u001b[1;34m()\u001b[0m\n\u001b[0;32m      3\u001b[0m     \u001b[0ma\u001b[0m \u001b[1;33m=\u001b[0m \u001b[1;33m[\u001b[0m\u001b[1;33m]\u001b[0m\u001b[1;33m\u001b[0m\u001b[0m\n\u001b[0;32m      4\u001b[0m     \u001b[1;32mfor\u001b[0m \u001b[0mw\u001b[0m \u001b[1;32min\u001b[0m \u001b[0mWINER\u001b[0m\u001b[1;33m:\u001b[0m\u001b[1;33m\u001b[0m\u001b[0m\n\u001b[1;32m----> 5\u001b[1;33m         \u001b[0mprint\u001b[0m\u001b[1;33m(\u001b[0m\u001b[0mw\u001b[0m\u001b[1;33m[\u001b[0m\u001b[0mk\u001b[0m\u001b[1;33m]\u001b[0m\u001b[1;33m)\u001b[0m\u001b[1;33m\u001b[0m\u001b[0m\n\u001b[0m\u001b[0;32m      6\u001b[0m         \u001b[0ma\u001b[0m\u001b[1;33m.\u001b[0m\u001b[0mappend\u001b[0m\u001b[1;33m(\u001b[0m\u001b[0mw\u001b[0m\u001b[1;33m[\u001b[0m\u001b[0mk\u001b[0m\u001b[1;33m]\u001b[0m\u001b[1;33m)\u001b[0m\u001b[1;33m\u001b[0m\u001b[0m\n\u001b[0;32m      7\u001b[0m     \u001b[0mstats\u001b[0m\u001b[1;33m[\u001b[0m\u001b[1;34m'winner_'\u001b[0m\u001b[1;33m+\u001b[0m\u001b[0mk\u001b[0m\u001b[1;33m+\u001b[0m\u001b[1;34m'_mean'\u001b[0m\u001b[1;33m]\u001b[0m \u001b[1;33m=\u001b[0m \u001b[0mnp\u001b[0m\u001b[1;33m.\u001b[0m\u001b[0maverage\u001b[0m\u001b[1;33m(\u001b[0m\u001b[0ma\u001b[0m\u001b[1;33m)\u001b[0m\u001b[1;33m\u001b[0m\u001b[0m\n",
      "\u001b[1;31mKeyError\u001b[0m: 'inhibitorKills_lose'"
     ]
    }
   ],
   "source": [
    "stats = {}\n",
    "for k in list(WINER[0].keys()):\n",
    "    a = []\n",
    "    for w in WINER:\n",
    "        print(w[k])\n",
    "        a.append(w[k])\n",
    "    stats['winner_'+k+'_mean'] = np.average(a)\n",
    "    stats['winner_'+k+'_std'] = np.std(a)\n",
    "    a = []\n",
    "    for l in LOSER:\n",
    "        a.append(l[k])\n",
    "    stats['loser_'+k+'_mean'] = np.average(a)\n",
    "    stats['loser_'+k+'_std'] = np.std(a)"
   ]
  },
  {
   "cell_type": "code",
   "execution_count": 26,
   "metadata": {
    "collapsed": false
   },
   "outputs": [
    {
     "data": {
      "text/plain": [
       "{}"
      ]
     },
     "execution_count": 26,
     "metadata": {},
     "output_type": "execute_result"
    }
   ],
   "source": [
    "stats"
   ]
  },
  {
   "cell_type": "code",
   "execution_count": 9,
   "metadata": {
    "collapsed": false
   },
   "outputs": [
    {
     "ename": "KeyError",
     "evalue": "'inhibitorKills_lose'",
     "output_type": "error",
     "traceback": [
      "\u001b[1;31m---------------------------------------------------------------------------\u001b[0m",
      "\u001b[1;31mKeyError\u001b[0m                                  Traceback (most recent call last)",
      "\u001b[1;32m<ipython-input-9-fcc21b7ee12b>\u001b[0m in \u001b[0;36m<module>\u001b[1;34m()\u001b[0m\n\u001b[0;32m      3\u001b[0m \u001b[1;33m\u001b[0m\u001b[0m\n\u001b[0;32m      4\u001b[0m \u001b[0mdata\u001b[0m \u001b[1;33m=\u001b[0m \u001b[1;33m[\u001b[0m\u001b[1;33m]\u001b[0m\u001b[1;33m\u001b[0m\u001b[0m\n\u001b[1;32m----> 5\u001b[1;33m \u001b[1;32mfor\u001b[0m \u001b[0md\u001b[0m \u001b[1;32min\u001b[0m \u001b[0mdt\u001b[0m\u001b[1;33m:\u001b[0m\u001b[1;33m\u001b[0m\u001b[0m\n\u001b[0m\u001b[0;32m      6\u001b[0m     \u001b[0mdata\u001b[0m\u001b[1;33m.\u001b[0m\u001b[0mappend\u001b[0m\u001b[1;33m(\u001b[0m\u001b[0md\u001b[0m\u001b[1;33m)\u001b[0m\u001b[1;33m\u001b[0m\u001b[0m\n\u001b[0;32m      7\u001b[0m     \u001b[1;32mbreak\u001b[0m\u001b[1;33m\u001b[0m\u001b[0m\n",
      "\u001b[1;32m<ipython-input-7-5e714c7d6df7>\u001b[0m in \u001b[0;36mget_matches_champions_and_summonerIds_before_game\u001b[1;34m(self, season)\u001b[0m\n\u001b[0;32m    327\u001b[0m                         \u001b[0ma\u001b[0m \u001b[1;33m=\u001b[0m \u001b[1;33m[\u001b[0m\u001b[1;33m]\u001b[0m\u001b[1;33m\u001b[0m\u001b[0m\n\u001b[0;32m    328\u001b[0m                         \u001b[1;32mfor\u001b[0m \u001b[0ml\u001b[0m \u001b[1;32min\u001b[0m \u001b[0mlosers\u001b[0m\u001b[1;33m:\u001b[0m\u001b[1;33m\u001b[0m\u001b[0m\n\u001b[1;32m--> 329\u001b[1;33m                             \u001b[0ma\u001b[0m\u001b[1;33m.\u001b[0m\u001b[0mappend\u001b[0m\u001b[1;33m(\u001b[0m\u001b[0ml\u001b[0m\u001b[1;33m[\u001b[0m\u001b[0mk\u001b[0m\u001b[1;33m]\u001b[0m\u001b[1;33m)\u001b[0m\u001b[1;33m\u001b[0m\u001b[0m\n\u001b[0m\u001b[0;32m    330\u001b[0m                         \u001b[0mstats\u001b[0m\u001b[1;33m[\u001b[0m\u001b[1;34m'loser_'\u001b[0m\u001b[1;33m+\u001b[0m\u001b[0mk\u001b[0m\u001b[1;33m+\u001b[0m\u001b[1;34m'_mean'\u001b[0m\u001b[1;33m]\u001b[0m \u001b[1;33m=\u001b[0m \u001b[0mnp\u001b[0m\u001b[1;33m.\u001b[0m\u001b[0maverage\u001b[0m\u001b[1;33m(\u001b[0m\u001b[0ma\u001b[0m\u001b[1;33m)\u001b[0m\u001b[1;33m\u001b[0m\u001b[0m\n\u001b[0;32m    331\u001b[0m                         \u001b[0mstats\u001b[0m\u001b[1;33m[\u001b[0m\u001b[1;34m'loser_'\u001b[0m\u001b[1;33m+\u001b[0m\u001b[0mk\u001b[0m\u001b[1;33m+\u001b[0m\u001b[1;34m'_std'\u001b[0m\u001b[1;33m]\u001b[0m \u001b[1;33m=\u001b[0m \u001b[0mnp\u001b[0m\u001b[1;33m.\u001b[0m\u001b[0mstd\u001b[0m\u001b[1;33m(\u001b[0m\u001b[0ma\u001b[0m\u001b[1;33m)\u001b[0m\u001b[1;33m\u001b[0m\u001b[0m\n",
      "\u001b[1;31mKeyError\u001b[0m: 'inhibitorKills_lose'"
     ]
    }
   ],
   "source": [
    "LIMIT = 1100\n",
    "dt = api.get_matches_champions_and_summonerIds_before_game(season=2016)\n",
    "\n",
    "data = []\n",
    "for d in dt:\n",
    "    data.append(d)\n",
    "    if not len(data) % 5:\n",
    "        print(len(data))\n",
    "    if len(data) > LIMIT:\n",
    "        break"
   ]
  },
  {
   "cell_type": "code",
   "execution_count": 15,
   "metadata": {
    "collapsed": false
   },
   "outputs": [
    {
     "data": {
      "text/plain": [
       "0"
      ]
     },
     "execution_count": 15,
     "metadata": {},
     "output_type": "execute_result"
    }
   ],
   "source": [
    "len(data)"
   ]
  },
  {
   "cell_type": "code",
   "execution_count": null,
   "metadata": {
    "collapsed": true
   },
   "outputs": [],
   "source": [
    "#dataset = pd.DataFrame(data=data, columns=list(data[0]['stats'].keys()))\n",
    "#dataset.to_csv('FULL_PREVIOUS_Stat2016_for_Classification2016_Dataset.csv')"
   ]
  },
  {
   "cell_type": "code",
   "execution_count": null,
   "metadata": {
    "collapsed": true
   },
   "outputs": [],
   "source": []
  }
 ],
 "metadata": {
  "kernelspec": {
   "display_name": "Python 3",
   "language": "python",
   "name": "python3"
  },
  "language_info": {
   "codemirror_mode": {
    "name": "ipython",
    "version": 3
   },
   "file_extension": ".py",
   "mimetype": "text/x-python",
   "name": "python",
   "nbconvert_exporter": "python",
   "pygments_lexer": "ipython3",
   "version": "3.4.3"
  }
 },
 "nbformat": 4,
 "nbformat_minor": 0
}
