{
 "cells": [
  {
   "cell_type": "markdown",
   "metadata": {},
   "source": [
    "# Game network of players"
   ]
  },
  {
   "cell_type": "code",
   "execution_count": 57,
   "metadata": {
    "collapsed": false
   },
   "outputs": [],
   "source": [
    "import pandas as pd\n",
    "import numpy as np\n",
    "import matplotlib.pyplot as plt\n",
    "import seaborn as sns\n",
    "import pickle as pk\n",
    "%matplotlib inline"
   ]
  },
  {
   "cell_type": "code",
   "execution_count": 3,
   "metadata": {
    "collapsed": true
   },
   "outputs": [],
   "source": [
    "with open('DATA.pkl', 'rb') as dfile:\n",
    "    dat = pk.load(dfile)"
   ]
  },
  {
   "cell_type": "code",
   "execution_count": 14,
   "metadata": {
    "collapsed": true
   },
   "outputs": [],
   "source": [
    "sid2indx = {}\n",
    "def get_index_of_summonerId(sid):\n",
    "    if sid not in sid2indx:\n",
    "        sid2indx[sid] = len(sid2indx)\n",
    "    return sid2indx[sid]"
   ]
  },
  {
   "cell_type": "code",
   "execution_count": 85,
   "metadata": {
    "collapsed": false
   },
   "outputs": [
    {
     "name": "stdout",
     "output_type": "stream",
     "text": [
      "Done.\n"
     ]
    }
   ],
   "source": [
    "LIMIT = 1000\n",
    "W = np.zeros((LIMIT,LIMIT))\n",
    "L = np.zeros((LIMIT,LIMIT))\n",
    "for d in dat:\n",
    "    wi = [get_index_of_summonerId(w) for w in d['summoners'][:5]]\n",
    "    li = [get_index_of_summonerId(l) for l in d['summoners'][5:]]\n",
    "    if all([w<LIMIT for w in wi]) and all([l<LIMIT for l in li]):\n",
    "        for i in range(len(wi)):\n",
    "            for j in range(i+1,len(wi)):\n",
    "                W[wi[i]][wi[j]] += 1\n",
    "        for i in range(len(li)):\n",
    "            for j in range(i+1,len(li)):\n",
    "                L[li[i]][li[j]] += 1\n",
    "W = np.maximum(W, np.matrix.transpose(W))\n",
    "L = np.maximum(L, np.matrix.transpose(L))\n",
    "print('Done.')"
   ]
  },
  {
   "cell_type": "code",
   "execution_count": 86,
   "metadata": {
    "collapsed": false
   },
   "outputs": [
    {
     "data": {
      "text/plain": [
       "88.0"
      ]
     },
     "execution_count": 86,
     "metadata": {},
     "output_type": "execute_result"
    }
   ],
   "source": [
    "max(sum(W))"
   ]
  },
  {
   "cell_type": "code",
   "execution_count": 87,
   "metadata": {
    "collapsed": false
   },
   "outputs": [
    {
     "data": {
      "text/plain": [
       "143.0"
      ]
     },
     "execution_count": 87,
     "metadata": {},
     "output_type": "execute_result"
    }
   ],
   "source": [
    "max(sum(L))"
   ]
  },
  {
   "cell_type": "code",
   "execution_count": 88,
   "metadata": {
    "collapsed": false
   },
   "outputs": [
    {
     "data": {
      "text/plain": [
       "(array([ 996.,    0.,    1.,    1.,    0.,    0.,    1.,    0.,    0.,    1.]),\n",
       " array([   0. ,   14.3,   28.6,   42.9,   57.2,   71.5,   85.8,  100.1,\n",
       "         114.4,  128.7,  143. ]),\n",
       " <a list of 10 Patch objects>)"
      ]
     },
     "execution_count": 88,
     "metadata": {},
     "output_type": "execute_result"
    },
    {
     "data": {
      "image/png": "[encoded data removed]",
      "text/plain": [
       "<matplotlib.figure.Figure at 0x7f0233a58828>"
      ]
     },
     "metadata": {},
     "output_type": "display_data"
    }
   ],
   "source": [
    "plt.hist(sum(L))"
   ]
  },
  {
   "cell_type": "code",
   "execution_count": 89,
   "metadata": {
    "collapsed": false
   },
   "outputs": [
    {
     "data": {
      "text/plain": [
       "(array([ 997.,    1.,    0.,    0.,    0.,    0.,    0.,    0.,    1.,    1.]),\n",
       " array([  0. ,   8.8,  17.6,  26.4,  35.2,  44. ,  52.8,  61.6,  70.4,\n",
       "         79.2,  88. ]),\n",
       " <a list of 10 Patch objects>)"
      ]
     },
     "execution_count": 89,
     "metadata": {},
     "output_type": "execute_result"
    },
    {
     "data": {
      "image/png": "[encoded data removed]",
      "text/plain": [
       "<matplotlib.figure.Figure at 0x7f02339fd080>"
      ]
     },
     "metadata": {},
     "output_type": "display_data"
    }
   ],
   "source": [
    "plt.hist(sum(W))"
   ]
  },
  {
   "cell_type": "code",
   "execution_count": 91,
   "metadata": {
    "collapsed": false
   },
   "outputs": [
    {
     "data": {
      "text/plain": [
       "array([  4.,   4.,   4.,   4.,   4.,   0.,   0.,   0.,   0.,  79.,   4.,\n",
       "         4.,   4.,   4.,   4.,   0.,   0.,   0.,  11.,   4.,   4.,   4.,\n",
       "         4.,   4.,   0.,   0.,   0.,   0.,   4.,   4.,   4.,   4.,   0.,\n",
       "         0.,   0.,   0.,   0.,   4.,   4.,   4.,   4.,   4.,   0.,   0.,\n",
       "         0.,   0.,   4.,   4.,   4.,   4.,   4.,   0.,   0.,   0.,   0.,\n",
       "         4.,   4.,   4.,   4.,   0.,   0.,   0.,   0.,   0.,   4.,   4.,\n",
       "         4.,   4.,   4.,   0.,   0.,   0.,   0.,   4.,   4.,   4.,   4.,\n",
       "         0.,   0.,   0.,   0.,   0.,   4.,   4.,   4.,   0.,   0.,   0.,\n",
       "         0.,   0.,   4.,   4.,   4.,   4.,   0.,   0.,   0.,   0.,   0.,\n",
       "         4.,   4.,   4.,   4.,   4.,   0.,   0.,   0.,   0.,   4.,   4.,\n",
       "         4.,   4.,   0.,   0.,   0.,   0.,   0.,   4.,   4.,   4.,   4.,\n",
       "         0.,   0.,   0.,   0.,   0.,   4.,   4.,   4.,   4.,   4.,   0.,\n",
       "         0.,   0.,   4.,   4.,   4.,   4.,   0.,   0.,   0.,   0.,   0.,\n",
       "         4.,   4.,   4.,   0.,   0.,   0.,   0.,   0.,   4.,   4.,   4.,\n",
       "         4.,   4.,   0.,   0.,   0.,   4.,   4.,   4.,   4.,   0.,   0.,\n",
       "         0.,   0.,   0.,   4.,   4.,   4.,   4.,   4.,   0.,   0.,   0.,\n",
       "         0.,   4.,   4.,   4.,   4.,   0.,   0.,   0.,   0.,   0.,   4.,\n",
       "         4.,   4.,   0.,   0.,   0.,   0.,   0.,   4.,   4.,   4.,   4.,\n",
       "         4.,   0.,   0.,   0.,   0.,   4.,   4.,   4.,   4.,   4.,   0.,\n",
       "         0.,   0.,   0.,   4.,   4.,   4.,   4.,   4.,   0.,   0.,   0.,\n",
       "         0.,   4.,   4.,   4.,   4.,   4.,   0.,   0.,   0.,   0.,   4.,\n",
       "         4.,   4.,   4.,   0.,   0.,   0.,   0.,   0.,   4.,   4.,   4.,\n",
       "         4.,   4.,   0.,   0.,   0.,   0.,   4.,   4.,   4.,   4.,   0.,\n",
       "         0.,   0.,   0.,   0.,   4.,   4.,   4.,   4.,   0.,   0.,   0.,\n",
       "         0.,   0.,   4.,   4.,   4.,   4.,   4.,   0.,   0.,   0.,   0.,\n",
       "         4.,   4.,   4.,   4.,   4.,   0.,   0.,   0.,   0.,   4.,   4.,\n",
       "         4.,   4.,   0.,   0.,   0.,   0.,   0.,   4.,   4.,   4.,   4.,\n",
       "         4.,   0.,   0.,   0.,   0.,   4.,   4.,   4.,   4.,   4.,   0.,\n",
       "         0.,   0.,   0.,   4.,   4.,   4.,   4.,   4.,   0.,   0.,   4.,\n",
       "         8.,   7.,   7.,   4.,   0.,   0.,   0.,   0.,   4.,   0.,   0.,\n",
       "         0.,   0.,   0.,   4.,   4.,   4.,   4.,   4.,   0.,   0.,   0.,\n",
       "         0.,   4.,   4.,   4.,   4.,   0.,   0.,   0.,   0.,   0.,   4.,\n",
       "         4.,   4.,   4.,   0.,   0.,   0.,   0.,   0.,   4.,   4.,   4.,\n",
       "         4.,   0.,   0.,   0.,   0.,   0.,   4.,   4.,   4.,   4.,   4.,\n",
       "         0.,   0.,   4.,   4.,   4.,   4.,   4.,   0.,   8.,   0.,   0.,\n",
       "         0.,   4.,   4.,   4.,   4.,   4.,   0.,   0.,   0.,   0.,   4.,\n",
       "         4.,   4.,   4.,   4.,   0.,   0.,   0.,   0.,   4.,   4.,   4.,\n",
       "         4.,   4.,   0.,   0.,   0.,   0.,   4.,   4.,   4.,   4.,   4.,\n",
       "         0.,   0.,   0.,   0.,   4.,   4.,   4.,   4.,   4.,   0.,   0.,\n",
       "         0.,   0.,   4.,   4.,   4.,   4.,   4.,   0.,   0.,   0.,   0.,\n",
       "         4.,   4.,   4.,   4.,   0.,   0.,   0.,   0.,   0.,   4.,   4.,\n",
       "         4.,   4.,   4.,   0.,   0.,   0.,   0.,   4.,   4.,   4.,   4.,\n",
       "         4.,   0.,   0.,   0.,   0.,   4.,   4.,   4.,   4.,   0.,   0.,\n",
       "         0.,   0.,   0.,   4.,   4.,   4.,   4.,   4.,   0.,   0.,   0.,\n",
       "         0.,   4.,   4.,   4.,   4.,   4.,   0.,   0.,   0.,   0.,   4.,\n",
       "         4.,   4.,   4.,   4.,   0.,   0.,   0.,   0.,   0.,   4.,   4.,\n",
       "         4.,   4.,   4.,   0.,   0.,   0.,   4.,  88.,   4.,   4.,   4.,\n",
       "         4.,   4.,   0.,   0.,   0.,   4.,   4.,   4.,   4.,   4.,   0.,\n",
       "         0.,   0.,   4.,   4.,   4.,   0.,   0.,   0.,   0.,   0.,   4.,\n",
       "         4.,   4.,   4.,   4.,   0.,   0.,   0.,   4.,   4.,   4.,   4.,\n",
       "         4.,   0.,   0.,   0.,   4.,   4.,   4.,   4.,   4.,   0.,   0.,\n",
       "         0.,   4.,   4.,   4.,   4.,   4.,   0.,   0.,   0.,   4.,   4.,\n",
       "         4.,   4.,   4.,   0.,   0.,   0.,   4.,   4.,   4.,   4.,   4.,\n",
       "         0.,   0.,   0.,   0.,   4.,   4.,   4.,   4.,   0.,   0.,   0.,\n",
       "         0.,   0.,   4.,   4.,   4.,   4.,   0.,   0.,   0.,   0.,   0.,\n",
       "         4.,   4.,   4.,   4.,   4.,   0.,   0.,   0.,   0.,   4.,   4.,\n",
       "         4.,   4.,   0.,   0.,   0.,   0.,   0.,   4.,   4.,   4.,   4.,\n",
       "         0.,   0.,   0.,   0.,   0.,   4.,   4.,   4.,   4.,   4.,   0.,\n",
       "         0.,   0.,   0.,   4.,   4.,   4.,   4.,   4.,   0.,   0.,   0.,\n",
       "         0.,   4.,   4.,   4.,   4.,   4.,   0.,   0.,   0.,   0.,   4.,\n",
       "         4.,   4.,   4.,   4.,   0.,   0.,   0.,   0.,   4.,   4.,   4.,\n",
       "         4.,   4.,   0.,   0.,   0.,   0.,   4.,   4.,   4.,   4.,   0.,\n",
       "         0.,   0.,   0.,   0.,   4.,   4.,   4.,   4.,   4.,   0.,   0.,\n",
       "         0.,   0.,   4.,   4.,   4.,   4.,   4.,   0.,   0.,   0.,   0.,\n",
       "         4.,   4.,   4.,   4.,   4.,   0.,   0.,   4.,   4.,   8.,   4.,\n",
       "         0.,   0.,   0.,   0.,   0.,   8.,   8.,   8.,   8.,   8.,   0.,\n",
       "         0.,   0.,   8.,   4.,   4.,   4.,   4.,   4.,   0.,   0.,   0.,\n",
       "         4.,   4.,   4.,   4.,   4.,   0.,   0.,   0.,   0.,   4.,   4.,\n",
       "         4.,   4.,   0.,   0.,   0.,   0.,   0.,   4.,   4.,   4.,   4.,\n",
       "         0.,   0.,   0.,   0.,   0.,   4.,   4.,   4.,   4.,   0.,   0.,\n",
       "         0.,   0.,   0.,   4.,   4.,   4.,   4.,   4.,   0.,   0.,   0.,\n",
       "         0.,   4.,   4.,   4.,   4.,   0.,   0.,   0.,   0.,   0.,   4.,\n",
       "         4.,   4.,   4.,   4.,   0.,   0.,   0.,   0.,   4.,   4.,   4.,\n",
       "         4.,   0.,   0.,   0.,   0.,   8.,   4.,   4.,   4.,   0.,   0.,\n",
       "         0.,   0.,   0.,   4.,   4.,   4.,   0.,   0.,   0.,   0.,   0.,\n",
       "         4.,   4.,   4.,   4.,   4.,   0.,   0.,   0.,   4.,   4.,   4.,\n",
       "         4.,   0.,   0.,   0.,   0.,   0.,   4.,   4.,   4.,   4.,   0.,\n",
       "         0.,   0.,   0.,   0.,   4.,   4.,   4.,   4.,   0.,   0.,   0.,\n",
       "         0.,   0.,   4.,   4.,   4.,   4.,   4.,   0.,   0.,   0.,   0.,\n",
       "         4.,   4.,   4.,   4.,   4.,   0.,   0.,   0.,   0.,   4.,   4.,\n",
       "         4.,   4.,   4.,   0.,   0.,   0.,   0.,   4.,   4.,   4.,   4.,\n",
       "         4.,   0.,   0.,   0.,   0.,   4.,   4.,   4.,   4.,   0.,   0.,\n",
       "         0.,   0.,   0.,   4.,   4.,   4.,   4.,   4.,   0.,   0.,   0.,\n",
       "         0.,   4.,   4.,   4.,   4.,   0.,   0.,   0.,   0.,   0.,   4.,\n",
       "         4.,   4.,   4.,   4.,   0.,   0.,   0.,   0.,   4.,   4.,   4.,\n",
       "         4.,   4.,   0.,   0.,   0.,   0.,   4.,   4.,   4.,   4.,   0.,\n",
       "         0.,   0.,   0.,   0.,   8.,   8.,   8.,   0.,   0.,   0.,   0.,\n",
       "         0.,   4.,   4.,   4.,   4.,   4.,   0.,   0.,   4.,   0.,   4.,\n",
       "         4.,   4.,   4.,   4.,   0.,   0.,   0.,   0.,   4.,   4.,   4.,\n",
       "         4.,   4.,   0.,   0.,   0.,   0.,   4.,   4.,   4.,   0.,   0.,\n",
       "         0.,   0.,   0.,   0.,   0.,   0.,   0.,   0.,   0.,   0.])"
      ]
     },
     "execution_count": 91,
     "metadata": {},
     "output_type": "execute_result"
    }
   ],
   "source": [
    "sum(W)"
   ]
  },
  {
   "cell_type": "code",
   "execution_count": null,
   "metadata": {
    "collapsed": true
   },
   "outputs": [],
   "source": []
  }
 ],
 "metadata": {
  "kernelspec": {
   "display_name": "Python 3",
   "language": "python",
   "name": "python3"
  },
  "language_info": {
   "codemirror_mode": {
    "name": "ipython",
    "version": 3
   },
   "file_extension": ".py",
   "mimetype": "text/x-python",
   "name": "python",
   "nbconvert_exporter": "python",
   "pygments_lexer": "ipython3",
   "version": "3.4.3"
  }
 },
 "nbformat": 4,
 "nbformat_minor": 0
}
