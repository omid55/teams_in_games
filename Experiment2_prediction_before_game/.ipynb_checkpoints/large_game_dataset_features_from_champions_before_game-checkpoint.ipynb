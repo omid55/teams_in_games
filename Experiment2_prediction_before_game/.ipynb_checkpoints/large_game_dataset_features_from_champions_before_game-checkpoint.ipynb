{
 "cells": [
  {
   "cell_type": "markdown",
   "metadata": {},
   "source": [
    "Imports"
   ]
  },
  {
   "cell_type": "code",
   "execution_count": 177,
   "metadata": {
    "collapsed": false
   },
   "outputs": [],
   "source": [
    "import numpy as np\n",
    "import pandas as pd\n",
    "import seaborn as sns\n",
    "import math\n",
    "import matplotlib.pyplot as plt\n",
    "%matplotlib inline\n",
    "\n",
    "import sklearn as sk\n",
    "from sklearn.neighbors import KNeighborsClassifier\n",
    "from sklearn import cross_validation\n",
    "from sklearn.linear_model import LogisticRegression\n",
    "from sklearn.naive_bayes import GaussianNB\n",
    "from sklearn import svm\n",
    "from sklearn import preprocessing\n",
    "from sklearn.cross_validation import train_test_split\n",
    "from sklearn.preprocessing import StandardScaler\n",
    "from sklearn.datasets import make_moons, make_circles, make_classification\n",
    "from sklearn.neighbors import KNeighborsClassifier\n",
    "from sklearn.svm import SVC\n",
    "from sklearn.tree import DecisionTreeClassifier\n",
    "from sklearn.ensemble import RandomForestClassifier, AdaBoostClassifier\n",
    "from sklearn.discriminant_analysis import LinearDiscriminantAnalysis\n",
    "from sklearn.discriminant_analysis import QuadraticDiscriminantAnalysis\n",
    "\n",
    "from sklearn.manifold import TSNE\n",
    "from sklearn.decomposition import PCA"
   ]
  },
  {
   "cell_type": "code",
   "execution_count": 89,
   "metadata": {
    "collapsed": true
   },
   "outputs": [],
   "source": [
    "original_dataset = pd.read_csv('LoL_Dataset_Large.csv')"
   ]
  },
  {
   "cell_type": "code",
   "execution_count": 90,
   "metadata": {
    "collapsed": false
   },
   "outputs": [
    {
     "data": {
      "text/html": [
       "<div>\n",
       "<table border=\"1\" class=\"dataframe\">\n",
       "  <thead>\n",
       "    <tr style=\"text-align: right;\">\n",
       "      <th></th>\n",
       "      <th>attack_winner1</th>\n",
       "      <th>defense_winner1</th>\n",
       "      <th>difficulty_winner1</th>\n",
       "      <th>magic_winner1</th>\n",
       "      <th>armor_winner1</th>\n",
       "      <th>armorperlevel_winner1</th>\n",
       "      <th>attackdamage_winner1</th>\n",
       "      <th>attackdamageperlevel_winner1</th>\n",
       "      <th>attackrange_winner1</th>\n",
       "      <th>attackspeedoffset_winner1</th>\n",
       "      <th>...</th>\n",
       "      <th>hpregen_loser5</th>\n",
       "      <th>hpregenperlevel_loser5</th>\n",
       "      <th>movespeed_loser5</th>\n",
       "      <th>mp_loser5</th>\n",
       "      <th>mpperlevel_loser5</th>\n",
       "      <th>mpregen_loser5</th>\n",
       "      <th>mpregenperlevel_loser5</th>\n",
       "      <th>spellblock_loser5</th>\n",
       "      <th>spellblockperlevel_loser5</th>\n",
       "      <th>duration</th>\n",
       "    </tr>\n",
       "  </thead>\n",
       "  <tbody>\n",
       "    <tr>\n",
       "      <th>0</th>\n",
       "      <td>7</td>\n",
       "      <td>5</td>\n",
       "      <td>6</td>\n",
       "      <td>6</td>\n",
       "      <td>24.880</td>\n",
       "      <td>3.5</td>\n",
       "      <td>59.180</td>\n",
       "      <td>3.50</td>\n",
       "      <td>125.0</td>\n",
       "      <td>-0.020</td>\n",
       "      <td>...</td>\n",
       "      <td>6.255</td>\n",
       "      <td>0.60</td>\n",
       "      <td>325.0</td>\n",
       "      <td>384.0</td>\n",
       "      <td>47.0</td>\n",
       "      <td>6.00</td>\n",
       "      <td>0.8</td>\n",
       "      <td>30.0</td>\n",
       "      <td>0.00</td>\n",
       "      <td>2762.0</td>\n",
       "    </tr>\n",
       "    <tr>\n",
       "      <th>1</th>\n",
       "      <td>10</td>\n",
       "      <td>1</td>\n",
       "      <td>8</td>\n",
       "      <td>1</td>\n",
       "      <td>19.012</td>\n",
       "      <td>3.4</td>\n",
       "      <td>55.880</td>\n",
       "      <td>1.66</td>\n",
       "      <td>550.0</td>\n",
       "      <td>-0.050</td>\n",
       "      <td>...</td>\n",
       "      <td>5.840</td>\n",
       "      <td>0.50</td>\n",
       "      <td>325.0</td>\n",
       "      <td>245.6</td>\n",
       "      <td>45.0</td>\n",
       "      <td>6.68</td>\n",
       "      <td>1.0</td>\n",
       "      <td>30.0</td>\n",
       "      <td>0.00</td>\n",
       "      <td>1742.0</td>\n",
       "    </tr>\n",
       "    <tr>\n",
       "      <th>2</th>\n",
       "      <td>3</td>\n",
       "      <td>4</td>\n",
       "      <td>5</td>\n",
       "      <td>8</td>\n",
       "      <td>20.880</td>\n",
       "      <td>3.5</td>\n",
       "      <td>53.040</td>\n",
       "      <td>3.00</td>\n",
       "      <td>550.0</td>\n",
       "      <td>-0.065</td>\n",
       "      <td>...</td>\n",
       "      <td>7.000</td>\n",
       "      <td>0.55</td>\n",
       "      <td>340.0</td>\n",
       "      <td>400.0</td>\n",
       "      <td>50.0</td>\n",
       "      <td>6.00</td>\n",
       "      <td>0.8</td>\n",
       "      <td>30.0</td>\n",
       "      <td>0.00</td>\n",
       "      <td>1754.0</td>\n",
       "    </tr>\n",
       "    <tr>\n",
       "      <th>3</th>\n",
       "      <td>8</td>\n",
       "      <td>5</td>\n",
       "      <td>3</td>\n",
       "      <td>2</td>\n",
       "      <td>24.880</td>\n",
       "      <td>3.5</td>\n",
       "      <td>59.876</td>\n",
       "      <td>3.20</td>\n",
       "      <td>175.0</td>\n",
       "      <td>-0.050</td>\n",
       "      <td>...</td>\n",
       "      <td>5.620</td>\n",
       "      <td>0.55</td>\n",
       "      <td>335.0</td>\n",
       "      <td>374.0</td>\n",
       "      <td>50.0</td>\n",
       "      <td>8.50</td>\n",
       "      <td>0.8</td>\n",
       "      <td>30.0</td>\n",
       "      <td>0.00</td>\n",
       "      <td>1834.0</td>\n",
       "    </tr>\n",
       "    <tr>\n",
       "      <th>4</th>\n",
       "      <td>7</td>\n",
       "      <td>6</td>\n",
       "      <td>4</td>\n",
       "      <td>8</td>\n",
       "      <td>26.048</td>\n",
       "      <td>3.6</td>\n",
       "      <td>53.040</td>\n",
       "      <td>3.00</td>\n",
       "      <td>150.0</td>\n",
       "      <td>0.000</td>\n",
       "      <td>...</td>\n",
       "      <td>8.340</td>\n",
       "      <td>0.65</td>\n",
       "      <td>350.0</td>\n",
       "      <td>200.0</td>\n",
       "      <td>0.0</td>\n",
       "      <td>50.00</td>\n",
       "      <td>0.0</td>\n",
       "      <td>32.1</td>\n",
       "      <td>1.25</td>\n",
       "      <td>2451.0</td>\n",
       "    </tr>\n",
       "  </tbody>\n",
       "</table>\n",
       "<p>5 rows × 241 columns</p>\n",
       "</div>"
      ],
      "text/plain": [
       "   attack_winner1  defense_winner1  difficulty_winner1  magic_winner1  \\\n",
       "0               7                5                   6              6   \n",
       "1              10                1                   8              1   \n",
       "2               3                4                   5              8   \n",
       "3               8                5                   3              2   \n",
       "4               7                6                   4              8   \n",
       "\n",
       "   armor_winner1  armorperlevel_winner1  attackdamage_winner1  \\\n",
       "0         24.880                    3.5                59.180   \n",
       "1         19.012                    3.4                55.880   \n",
       "2         20.880                    3.5                53.040   \n",
       "3         24.880                    3.5                59.876   \n",
       "4         26.048                    3.6                53.040   \n",
       "\n",
       "   attackdamageperlevel_winner1  attackrange_winner1  \\\n",
       "0                          3.50                125.0   \n",
       "1                          1.66                550.0   \n",
       "2                          3.00                550.0   \n",
       "3                          3.20                175.0   \n",
       "4                          3.00                150.0   \n",
       "\n",
       "   attackspeedoffset_winner1    ...     hpregen_loser5  \\\n",
       "0                     -0.020    ...              6.255   \n",
       "1                     -0.050    ...              5.840   \n",
       "2                     -0.065    ...              7.000   \n",
       "3                     -0.050    ...              5.620   \n",
       "4                      0.000    ...              8.340   \n",
       "\n",
       "   hpregenperlevel_loser5  movespeed_loser5  mp_loser5  mpperlevel_loser5  \\\n",
       "0                    0.60             325.0      384.0               47.0   \n",
       "1                    0.50             325.0      245.6               45.0   \n",
       "2                    0.55             340.0      400.0               50.0   \n",
       "3                    0.55             335.0      374.0               50.0   \n",
       "4                    0.65             350.0      200.0                0.0   \n",
       "\n",
       "   mpregen_loser5  mpregenperlevel_loser5  spellblock_loser5  \\\n",
       "0            6.00                     0.8               30.0   \n",
       "1            6.68                     1.0               30.0   \n",
       "2            6.00                     0.8               30.0   \n",
       "3            8.50                     0.8               30.0   \n",
       "4           50.00                     0.0               32.1   \n",
       "\n",
       "   spellblockperlevel_loser5  duration  \n",
       "0                       0.00    2762.0  \n",
       "1                       0.00    1742.0  \n",
       "2                       0.00    1754.0  \n",
       "3                       0.00    1834.0  \n",
       "4                       1.25    2451.0  \n",
       "\n",
       "[5 rows x 241 columns]"
      ]
     },
     "execution_count": 90,
     "metadata": {},
     "output_type": "execute_result"
    }
   ],
   "source": [
    "original_dataset.head()"
   ]
  },
  {
   "cell_type": "markdown",
   "metadata": {},
   "source": [
    "Averaging champion abilities for each team"
   ]
  },
  {
   "cell_type": "code",
   "execution_count": 91,
   "metadata": {
    "collapsed": false
   },
   "outputs": [],
   "source": [
    "winners = np.zeros([len(original_dataset),24])\n",
    "for i in range(0,5):\n",
    "    winners += original_dataset.ix[:,i*24:i*24+24]\n",
    "losers = np.zeros([len(original_dataset),24])\n",
    "for i in range(5,10):\n",
    "    losers += original_dataset.ix[:,i*24:i*24+24]"
   ]
  },
  {
   "cell_type": "code",
   "execution_count": 92,
   "metadata": {
    "collapsed": false
   },
   "outputs": [],
   "source": [
    "dt = np.concatenate((winners,losers), axis=1)\n",
    "dataset = pd.DataFrame(data=dt, columns=[s[:-1] for s in original_dataset.columns[0:24]] + [s[:-1] for s in original_dataset.columns[-25:-1]])"
   ]
  },
  {
   "cell_type": "markdown",
   "metadata": {},
   "source": [
    "Deleting rows with NaN values"
   ]
  },
  {
   "cell_type": "code",
   "execution_count": 93,
   "metadata": {
    "collapsed": true
   },
   "outputs": [],
   "source": [
    "to_be_deleted = []\n",
    "for idx,item in enumerate(dataset.as_matrix()):\n",
    "    if np.isnan(item).any():\n",
    "        to_be_deleted.append(idx)\n",
    "dataset = dataset.drop(to_be_deleted)"
   ]
  },
  {
   "cell_type": "code",
   "execution_count": 94,
   "metadata": {
    "collapsed": false
   },
   "outputs": [],
   "source": [
    "dataset = dataset.sample(n=10000, replace=False)"
   ]
  },
  {
   "cell_type": "code",
   "execution_count": 95,
   "metadata": {
    "collapsed": false
   },
   "outputs": [
    {
     "data": {
      "text/html": [
       "<div>\n",
       "<table border=\"1\" class=\"dataframe\">\n",
       "  <thead>\n",
       "    <tr style=\"text-align: right;\">\n",
       "      <th></th>\n",
       "      <th>attack_winner</th>\n",
       "      <th>defense_winner</th>\n",
       "      <th>difficulty_winner</th>\n",
       "      <th>magic_winner</th>\n",
       "      <th>armor_winner</th>\n",
       "      <th>armorperlevel_winner</th>\n",
       "      <th>attackdamage_winner</th>\n",
       "      <th>attackdamageperlevel_winner</th>\n",
       "      <th>attackrange_winner</th>\n",
       "      <th>attackspeedoffset_winner</th>\n",
       "      <th>...</th>\n",
       "      <th>hpperlevel_loser</th>\n",
       "      <th>hpregen_loser</th>\n",
       "      <th>hpregenperlevel_loser</th>\n",
       "      <th>movespeed_loser</th>\n",
       "      <th>mp_loser</th>\n",
       "      <th>mpperlevel_loser</th>\n",
       "      <th>mpregen_loser</th>\n",
       "      <th>mpregenperlevel_loser</th>\n",
       "      <th>spellblock_loser</th>\n",
       "      <th>spellblockperlevel_loser</th>\n",
       "    </tr>\n",
       "  </thead>\n",
       "  <tbody>\n",
       "    <tr>\n",
       "      <th>58108</th>\n",
       "      <td>31.0</td>\n",
       "      <td>30.0</td>\n",
       "      <td>27.0</td>\n",
       "      <td>19.0</td>\n",
       "      <td>130.556</td>\n",
       "      <td>17.70</td>\n",
       "      <td>283.416</td>\n",
       "      <td>14.520</td>\n",
       "      <td>1500.0</td>\n",
       "      <td>-0.12000</td>\n",
       "      <td>...</td>\n",
       "      <td>431.0</td>\n",
       "      <td>32.020</td>\n",
       "      <td>3.30</td>\n",
       "      <td>1675.0</td>\n",
       "      <td>1421.94</td>\n",
       "      <td>150.0</td>\n",
       "      <td>34.495</td>\n",
       "      <td>2.05</td>\n",
       "      <td>154.2</td>\n",
       "      <td>2.50</td>\n",
       "    </tr>\n",
       "    <tr>\n",
       "      <th>5068</th>\n",
       "      <td>31.0</td>\n",
       "      <td>20.0</td>\n",
       "      <td>27.0</td>\n",
       "      <td>24.0</td>\n",
       "      <td>115.892</td>\n",
       "      <td>18.15</td>\n",
       "      <td>276.758</td>\n",
       "      <td>15.385</td>\n",
       "      <td>1975.0</td>\n",
       "      <td>-0.06720</td>\n",
       "      <td>...</td>\n",
       "      <td>417.0</td>\n",
       "      <td>31.700</td>\n",
       "      <td>3.30</td>\n",
       "      <td>1670.0</td>\n",
       "      <td>1110.00</td>\n",
       "      <td>125.0</td>\n",
       "      <td>71.180</td>\n",
       "      <td>2.60</td>\n",
       "      <td>156.3</td>\n",
       "      <td>3.75</td>\n",
       "    </tr>\n",
       "    <tr>\n",
       "      <th>78342</th>\n",
       "      <td>30.0</td>\n",
       "      <td>23.0</td>\n",
       "      <td>27.0</td>\n",
       "      <td>20.0</td>\n",
       "      <td>122.236</td>\n",
       "      <td>17.70</td>\n",
       "      <td>280.708</td>\n",
       "      <td>16.010</td>\n",
       "      <td>1450.0</td>\n",
       "      <td>-0.14500</td>\n",
       "      <td>...</td>\n",
       "      <td>429.0</td>\n",
       "      <td>31.675</td>\n",
       "      <td>3.00</td>\n",
       "      <td>1670.0</td>\n",
       "      <td>1430.72</td>\n",
       "      <td>201.0</td>\n",
       "      <td>33.430</td>\n",
       "      <td>2.90</td>\n",
       "      <td>152.1</td>\n",
       "      <td>1.25</td>\n",
       "    </tr>\n",
       "    <tr>\n",
       "      <th>52653</th>\n",
       "      <td>22.0</td>\n",
       "      <td>24.0</td>\n",
       "      <td>30.0</td>\n",
       "      <td>33.0</td>\n",
       "      <td>105.272</td>\n",
       "      <td>13.80</td>\n",
       "      <td>272.592</td>\n",
       "      <td>14.550</td>\n",
       "      <td>2125.0</td>\n",
       "      <td>-0.09500</td>\n",
       "      <td>...</td>\n",
       "      <td>413.0</td>\n",
       "      <td>31.295</td>\n",
       "      <td>3.25</td>\n",
       "      <td>1685.0</td>\n",
       "      <td>1561.32</td>\n",
       "      <td>175.0</td>\n",
       "      <td>74.970</td>\n",
       "      <td>2.80</td>\n",
       "      <td>154.2</td>\n",
       "      <td>2.50</td>\n",
       "    </tr>\n",
       "    <tr>\n",
       "      <th>29817</th>\n",
       "      <td>31.0</td>\n",
       "      <td>28.0</td>\n",
       "      <td>28.0</td>\n",
       "      <td>26.0</td>\n",
       "      <td>125.100</td>\n",
       "      <td>17.25</td>\n",
       "      <td>282.226</td>\n",
       "      <td>15.485</td>\n",
       "      <td>1500.0</td>\n",
       "      <td>-0.13734</td>\n",
       "      <td>...</td>\n",
       "      <td>449.0</td>\n",
       "      <td>37.570</td>\n",
       "      <td>3.45</td>\n",
       "      <td>1675.0</td>\n",
       "      <td>1501.30</td>\n",
       "      <td>195.0</td>\n",
       "      <td>37.005</td>\n",
       "      <td>3.45</td>\n",
       "      <td>156.2</td>\n",
       "      <td>3.75</td>\n",
       "    </tr>\n",
       "  </tbody>\n",
       "</table>\n",
       "<p>5 rows × 48 columns</p>\n",
       "</div>"
      ],
      "text/plain": [
       "       attack_winner  defense_winner  difficulty_winner  magic_winner  \\\n",
       "58108           31.0            30.0               27.0          19.0   \n",
       "5068            31.0            20.0               27.0          24.0   \n",
       "78342           30.0            23.0               27.0          20.0   \n",
       "52653           22.0            24.0               30.0          33.0   \n",
       "29817           31.0            28.0               28.0          26.0   \n",
       "\n",
       "       armor_winner  armorperlevel_winner  attackdamage_winner  \\\n",
       "58108       130.556                 17.70              283.416   \n",
       "5068        115.892                 18.15              276.758   \n",
       "78342       122.236                 17.70              280.708   \n",
       "52653       105.272                 13.80              272.592   \n",
       "29817       125.100                 17.25              282.226   \n",
       "\n",
       "       attackdamageperlevel_winner  attackrange_winner  \\\n",
       "58108                       14.520              1500.0   \n",
       "5068                        15.385              1975.0   \n",
       "78342                       16.010              1450.0   \n",
       "52653                       14.550              2125.0   \n",
       "29817                       15.485              1500.0   \n",
       "\n",
       "       attackspeedoffset_winner            ...             hpperlevel_loser  \\\n",
       "58108                  -0.12000            ...                        431.0   \n",
       "5068                   -0.06720            ...                        417.0   \n",
       "78342                  -0.14500            ...                        429.0   \n",
       "52653                  -0.09500            ...                        413.0   \n",
       "29817                  -0.13734            ...                        449.0   \n",
       "\n",
       "       hpregen_loser  hpregenperlevel_loser  movespeed_loser  mp_loser  \\\n",
       "58108         32.020                   3.30           1675.0   1421.94   \n",
       "5068          31.700                   3.30           1670.0   1110.00   \n",
       "78342         31.675                   3.00           1670.0   1430.72   \n",
       "52653         31.295                   3.25           1685.0   1561.32   \n",
       "29817         37.570                   3.45           1675.0   1501.30   \n",
       "\n",
       "       mpperlevel_loser  mpregen_loser  mpregenperlevel_loser  \\\n",
       "58108             150.0         34.495                   2.05   \n",
       "5068              125.0         71.180                   2.60   \n",
       "78342             201.0         33.430                   2.90   \n",
       "52653             175.0         74.970                   2.80   \n",
       "29817             195.0         37.005                   3.45   \n",
       "\n",
       "       spellblock_loser  spellblockperlevel_loser  \n",
       "58108             154.2                      2.50  \n",
       "5068              156.3                      3.75  \n",
       "78342             152.1                      1.25  \n",
       "52653             154.2                      2.50  \n",
       "29817             156.2                      3.75  \n",
       "\n",
       "[5 rows x 48 columns]"
      ]
     },
     "execution_count": 95,
     "metadata": {},
     "output_type": "execute_result"
    }
   ],
   "source": [
    "dataset.head()"
   ]
  },
  {
   "cell_type": "code",
   "execution_count": 96,
   "metadata": {
    "collapsed": false
   },
   "outputs": [
    {
     "data": {
      "text/plain": [
       "<seaborn.axisgrid.JointGrid at 0x7ffa9329bb38>"
      ]
     },
     "execution_count": 96,
     "metadata": {},
     "output_type": "execute_result"
    },
    {
     "data": {
      "image/png": "[encoded data removed]",
      "text/plain": [
       "<matplotlib.figure.Figure at 0x7ffa9323ada0>"
      ]
     },
     "metadata": {},
     "output_type": "display_data"
    }
   ],
   "source": [
    "sns.jointplot(x='attack_winner', y='attack_loser', data=dataset)"
   ]
  },
  {
   "cell_type": "code",
   "execution_count": 97,
   "metadata": {
    "collapsed": false
   },
   "outputs": [
    {
     "data": {
      "text/plain": [
       "<seaborn.axisgrid.JointGrid at 0x7ffa86fae9e8>"
      ]
     },
     "execution_count": 97,
     "metadata": {},
     "output_type": "execute_result"
    },
    {
     "data": {
      "image/png": "[encoded data removed]",
      "text/plain": [
       "<matplotlib.figure.Figure at 0x7ffa86fcc400>"
      ]
     },
     "metadata": {},
     "output_type": "display_data"
    }
   ],
   "source": [
    "sns.jointplot(x='defense_winner', y='defense_loser', data=dataset)"
   ]
  },
  {
   "cell_type": "markdown",
   "metadata": {},
   "source": [
    "Adding label and swapping 50% of winners and losers"
   ]
  },
  {
   "cell_type": "code",
   "execution_count": 98,
   "metadata": {
    "collapsed": false
   },
   "outputs": [],
   "source": [
    "dataset['label'] = np.zeros([len(dataset),1])\n",
    "dt = dataset.as_matrix()\n",
    "idx = np.random.choice(len(dt), int(len(dt)/2), replace=False)\n",
    "tf = math.floor(dt.shape[1]/2)\n",
    "tmp = dt[idx,tf:2*tf]\n",
    "dt[idx,tf:2*tf] = dt[idx,:tf]\n",
    "dt[idx,:tf] = tmp\n",
    "dt[idx,-1] = 1\n",
    "dataset = pd.DataFrame(data=dt, columns=[s[:-1] for s in original_dataset.columns[0:24]] + [s[:-1] for s in original_dataset.columns[-25:-1]] + ['label'])"
   ]
  },
  {
   "cell_type": "code",
   "execution_count": 99,
   "metadata": {
    "collapsed": false
   },
   "outputs": [
    {
     "data": {
      "text/html": [
       "<div>\n",
       "<table border=\"1\" class=\"dataframe\">\n",
       "  <thead>\n",
       "    <tr style=\"text-align: right;\">\n",
       "      <th></th>\n",
       "      <th>attack_winner</th>\n",
       "      <th>defense_winner</th>\n",
       "      <th>difficulty_winner</th>\n",
       "      <th>magic_winner</th>\n",
       "      <th>armor_winner</th>\n",
       "      <th>armorperlevel_winner</th>\n",
       "      <th>attackdamage_winner</th>\n",
       "      <th>attackdamageperlevel_winner</th>\n",
       "      <th>attackrange_winner</th>\n",
       "      <th>attackspeedoffset_winner</th>\n",
       "      <th>...</th>\n",
       "      <th>hpregen_loser</th>\n",
       "      <th>hpregenperlevel_loser</th>\n",
       "      <th>movespeed_loser</th>\n",
       "      <th>mp_loser</th>\n",
       "      <th>mpperlevel_loser</th>\n",
       "      <th>mpregen_loser</th>\n",
       "      <th>mpregenperlevel_loser</th>\n",
       "      <th>spellblock_loser</th>\n",
       "      <th>spellblockperlevel_loser</th>\n",
       "      <th>label</th>\n",
       "    </tr>\n",
       "  </thead>\n",
       "  <tbody>\n",
       "    <tr>\n",
       "      <th>0</th>\n",
       "      <td>37.0</td>\n",
       "      <td>19.0</td>\n",
       "      <td>30.0</td>\n",
       "      <td>21.0</td>\n",
       "      <td>114.058</td>\n",
       "      <td>18.10</td>\n",
       "      <td>280.190</td>\n",
       "      <td>14.090</td>\n",
       "      <td>2000.0</td>\n",
       "      <td>-0.04720</td>\n",
       "      <td>...</td>\n",
       "      <td>34.465</td>\n",
       "      <td>3.50</td>\n",
       "      <td>1680.0</td>\n",
       "      <td>1422.00</td>\n",
       "      <td>144.0</td>\n",
       "      <td>29.355</td>\n",
       "      <td>2.80</td>\n",
       "      <td>154.2</td>\n",
       "      <td>2.50</td>\n",
       "      <td>1.0</td>\n",
       "    </tr>\n",
       "    <tr>\n",
       "      <th>1</th>\n",
       "      <td>31.0</td>\n",
       "      <td>20.0</td>\n",
       "      <td>27.0</td>\n",
       "      <td>24.0</td>\n",
       "      <td>115.892</td>\n",
       "      <td>18.15</td>\n",
       "      <td>276.758</td>\n",
       "      <td>15.385</td>\n",
       "      <td>1975.0</td>\n",
       "      <td>-0.06720</td>\n",
       "      <td>...</td>\n",
       "      <td>31.700</td>\n",
       "      <td>3.30</td>\n",
       "      <td>1670.0</td>\n",
       "      <td>1110.00</td>\n",
       "      <td>125.0</td>\n",
       "      <td>71.180</td>\n",
       "      <td>2.60</td>\n",
       "      <td>156.3</td>\n",
       "      <td>3.75</td>\n",
       "      <td>0.0</td>\n",
       "    </tr>\n",
       "    <tr>\n",
       "      <th>2</th>\n",
       "      <td>30.0</td>\n",
       "      <td>23.0</td>\n",
       "      <td>27.0</td>\n",
       "      <td>20.0</td>\n",
       "      <td>122.236</td>\n",
       "      <td>17.70</td>\n",
       "      <td>280.708</td>\n",
       "      <td>16.010</td>\n",
       "      <td>1450.0</td>\n",
       "      <td>-0.14500</td>\n",
       "      <td>...</td>\n",
       "      <td>31.675</td>\n",
       "      <td>3.00</td>\n",
       "      <td>1670.0</td>\n",
       "      <td>1430.72</td>\n",
       "      <td>201.0</td>\n",
       "      <td>33.430</td>\n",
       "      <td>2.90</td>\n",
       "      <td>152.1</td>\n",
       "      <td>1.25</td>\n",
       "      <td>0.0</td>\n",
       "    </tr>\n",
       "    <tr>\n",
       "      <th>3</th>\n",
       "      <td>26.0</td>\n",
       "      <td>21.0</td>\n",
       "      <td>28.0</td>\n",
       "      <td>31.0</td>\n",
       "      <td>111.076</td>\n",
       "      <td>18.20</td>\n",
       "      <td>272.628</td>\n",
       "      <td>14.385</td>\n",
       "      <td>1905.0</td>\n",
       "      <td>-0.09000</td>\n",
       "      <td>...</td>\n",
       "      <td>34.820</td>\n",
       "      <td>3.10</td>\n",
       "      <td>1670.0</td>\n",
       "      <td>1125.28</td>\n",
       "      <td>171.0</td>\n",
       "      <td>25.740</td>\n",
       "      <td>2.50</td>\n",
       "      <td>152.1</td>\n",
       "      <td>1.25</td>\n",
       "      <td>1.0</td>\n",
       "    </tr>\n",
       "    <tr>\n",
       "      <th>4</th>\n",
       "      <td>31.0</td>\n",
       "      <td>28.0</td>\n",
       "      <td>28.0</td>\n",
       "      <td>26.0</td>\n",
       "      <td>125.100</td>\n",
       "      <td>17.25</td>\n",
       "      <td>282.226</td>\n",
       "      <td>15.485</td>\n",
       "      <td>1500.0</td>\n",
       "      <td>-0.13734</td>\n",
       "      <td>...</td>\n",
       "      <td>37.570</td>\n",
       "      <td>3.45</td>\n",
       "      <td>1675.0</td>\n",
       "      <td>1501.30</td>\n",
       "      <td>195.0</td>\n",
       "      <td>37.005</td>\n",
       "      <td>3.45</td>\n",
       "      <td>156.2</td>\n",
       "      <td>3.75</td>\n",
       "      <td>0.0</td>\n",
       "    </tr>\n",
       "  </tbody>\n",
       "</table>\n",
       "<p>5 rows × 49 columns</p>\n",
       "</div>"
      ],
      "text/plain": [
       "   attack_winner  defense_winner  difficulty_winner  magic_winner  \\\n",
       "0           37.0            19.0               30.0          21.0   \n",
       "1           31.0            20.0               27.0          24.0   \n",
       "2           30.0            23.0               27.0          20.0   \n",
       "3           26.0            21.0               28.0          31.0   \n",
       "4           31.0            28.0               28.0          26.0   \n",
       "\n",
       "   armor_winner  armorperlevel_winner  attackdamage_winner  \\\n",
       "0       114.058                 18.10              280.190   \n",
       "1       115.892                 18.15              276.758   \n",
       "2       122.236                 17.70              280.708   \n",
       "3       111.076                 18.20              272.628   \n",
       "4       125.100                 17.25              282.226   \n",
       "\n",
       "   attackdamageperlevel_winner  attackrange_winner  attackspeedoffset_winner  \\\n",
       "0                       14.090              2000.0                  -0.04720   \n",
       "1                       15.385              1975.0                  -0.06720   \n",
       "2                       16.010              1450.0                  -0.14500   \n",
       "3                       14.385              1905.0                  -0.09000   \n",
       "4                       15.485              1500.0                  -0.13734   \n",
       "\n",
       "   ...    hpregen_loser  hpregenperlevel_loser  movespeed_loser  mp_loser  \\\n",
       "0  ...           34.465                   3.50           1680.0   1422.00   \n",
       "1  ...           31.700                   3.30           1670.0   1110.00   \n",
       "2  ...           31.675                   3.00           1670.0   1430.72   \n",
       "3  ...           34.820                   3.10           1670.0   1125.28   \n",
       "4  ...           37.570                   3.45           1675.0   1501.30   \n",
       "\n",
       "   mpperlevel_loser  mpregen_loser  mpregenperlevel_loser  spellblock_loser  \\\n",
       "0             144.0         29.355                   2.80             154.2   \n",
       "1             125.0         71.180                   2.60             156.3   \n",
       "2             201.0         33.430                   2.90             152.1   \n",
       "3             171.0         25.740                   2.50             152.1   \n",
       "4             195.0         37.005                   3.45             156.2   \n",
       "\n",
       "   spellblockperlevel_loser  label  \n",
       "0                      2.50    1.0  \n",
       "1                      3.75    0.0  \n",
       "2                      1.25    0.0  \n",
       "3                      1.25    1.0  \n",
       "4                      3.75    0.0  \n",
       "\n",
       "[5 rows x 49 columns]"
      ]
     },
     "execution_count": 99,
     "metadata": {},
     "output_type": "execute_result"
    }
   ],
   "source": [
    "dataset.head()"
   ]
  },
  {
   "cell_type": "markdown",
   "metadata": {},
   "source": [
    "Normalize the dataset"
   ]
  },
  {
   "cell_type": "code",
   "execution_count": 100,
   "metadata": {
    "collapsed": true
   },
   "outputs": [],
   "source": [
    "original_dataset = dataset"
   ]
  },
  {
   "cell_type": "code",
   "execution_count": 101,
   "metadata": {
    "collapsed": false
   },
   "outputs": [],
   "source": [
    "# MIN MAX Normalization\n",
    "#x = dataset.values #returns a numpy array\n",
    "#min_max_scaler = preprocessing.MinMaxScaler()\n",
    "#x_scaled = min_max_scaler.fit_transform(x)\n",
    "#dataset = pd.DataFrame(x_scaled)"
   ]
  },
  {
   "cell_type": "code",
   "execution_count": 102,
   "metadata": {
    "collapsed": true
   },
   "outputs": [],
   "source": [
    "# Standard Normalization (x-mean(x) / std(x))\n",
    "x = dataset.values #returns a numpy array\n",
    "min_max_scaler = preprocessing.StandardScaler()\n",
    "x_scaled = min_max_scaler.fit_transform(x)\n",
    "dataset = pd.DataFrame(x_scaled)"
   ]
  },
  {
   "cell_type": "code",
   "execution_count": 103,
   "metadata": {
    "collapsed": false
   },
   "outputs": [],
   "source": [
    "dataset[dataset.shape[1]-1] = original_dataset['label']"
   ]
  },
  {
   "cell_type": "code",
   "execution_count": 104,
   "metadata": {
    "collapsed": false
   },
   "outputs": [
    {
     "data": {
      "text/plain": [
       "0    -2.057743e-16\n",
       "1    -7.161216e-17\n",
       "2     3.630707e-16\n",
       "3     3.139045e-16\n",
       "4    -1.397421e-15\n",
       "5     6.978529e-16\n",
       "6     3.245160e-15\n",
       "7     8.441470e-16\n",
       "8     1.718292e-16\n",
       "9    -2.245759e-16\n",
       "10    8.073098e-16\n",
       "11    0.000000e+00\n",
       "12    0.000000e+00\n",
       "13   -1.541628e-15\n",
       "14    1.703809e-15\n",
       "15    8.736567e-16\n",
       "16    8.068657e-16\n",
       "17   -2.089104e-15\n",
       "18   -2.833483e-16\n",
       "19   -2.731371e-16\n",
       "20   -4.095391e-16\n",
       "21   -5.696665e-16\n",
       "22    1.075702e-14\n",
       "23    8.539836e-17\n",
       "24   -3.667955e-16\n",
       "25    8.899548e-17\n",
       "26   -6.086687e-16\n",
       "27    7.884804e-17\n",
       "28   -2.148880e-15\n",
       "29   -4.809042e-16\n",
       "30   -2.514922e-15\n",
       "31   -1.136702e-15\n",
       "32    1.315614e-17\n",
       "33   -1.535994e-16\n",
       "34    1.591505e-16\n",
       "35    0.000000e+00\n",
       "36    0.000000e+00\n",
       "37   -8.550111e-15\n",
       "38   -1.776979e-15\n",
       "39    1.305425e-15\n",
       "40    5.270090e-16\n",
       "41   -5.396938e-15\n",
       "42   -5.159539e-16\n",
       "43   -1.445843e-16\n",
       "44   -5.728334e-17\n",
       "45    4.035661e-18\n",
       "46    5.877171e-15\n",
       "47    2.156386e-16\n",
       "48    5.000000e-01\n",
       "dtype: float64"
      ]
     },
     "execution_count": 104,
     "metadata": {},
     "output_type": "execute_result"
    }
   ],
   "source": [
    "np.mean(dataset)"
   ]
  },
  {
   "cell_type": "code",
   "execution_count": 105,
   "metadata": {
    "collapsed": false
   },
   "outputs": [
    {
     "data": {
      "text/plain": [
       "0     1.0\n",
       "1     1.0\n",
       "2     1.0\n",
       "3     1.0\n",
       "4     1.0\n",
       "5     1.0\n",
       "6     1.0\n",
       "7     1.0\n",
       "8     1.0\n",
       "9     1.0\n",
       "10    1.0\n",
       "11    0.0\n",
       "12    0.0\n",
       "13    1.0\n",
       "14    1.0\n",
       "15    1.0\n",
       "16    1.0\n",
       "17    1.0\n",
       "18    1.0\n",
       "19    1.0\n",
       "20    1.0\n",
       "21    1.0\n",
       "22    1.0\n",
       "23    1.0\n",
       "24    1.0\n",
       "25    1.0\n",
       "26    1.0\n",
       "27    1.0\n",
       "28    1.0\n",
       "29    1.0\n",
       "30    1.0\n",
       "31    1.0\n",
       "32    1.0\n",
       "33    1.0\n",
       "34    1.0\n",
       "35    0.0\n",
       "36    0.0\n",
       "37    1.0\n",
       "38    1.0\n",
       "39    1.0\n",
       "40    1.0\n",
       "41    1.0\n",
       "42    1.0\n",
       "43    1.0\n",
       "44    1.0\n",
       "45    1.0\n",
       "46    1.0\n",
       "47    1.0\n",
       "48    0.5\n",
       "dtype: float64"
      ]
     },
     "execution_count": 105,
     "metadata": {},
     "output_type": "execute_result"
    }
   ],
   "source": [
    "np.std(dataset)"
   ]
  },
  {
   "cell_type": "markdown",
   "metadata": {},
   "source": [
    "Now dataset is ready for classification"
   ]
  },
  {
   "cell_type": "code",
   "execution_count": 179,
   "metadata": {
    "collapsed": false
   },
   "outputs": [],
   "source": [
    "def do_classification(dataset):\n",
    "    # creating the models\n",
    "\n",
    "    #clf = MLPClassifier(algorithm='l-bfgs', alpha=1e-5, hidden_layer_sizes=(5, 2), random_state=1)\n",
    "    \n",
    "    models = [(LogisticRegression(), 'Logistic Regression'),\n",
    "        (GaussianNB(), 'Naive Bayes'),\n",
    "        (svm.LinearSVC(C=1.0), 'Linear SVM'),\n",
    "        (svm.SVC(C=1.0, cache_size=200, class_weight=None, coef0=0.0,\n",
    "        decision_function_shape=None, degree=3, gamma='auto', kernel='rbf',\n",
    "        max_iter=-1, probability=False, random_state=None, shrinking=True,\n",
    "        tol=0.001, verbose=True), 'SVM with RBF kernel'),\n",
    "        (RandomForestClassifier(n_estimators=100), 'Random Forest'),\n",
    "        (KNeighborsClassifier(n_neighbors=8), 'KNN'),\n",
    "        (DecisionTreeClassifier(max_depth=5), 'Decision Tree'),\n",
    "        (AdaBoostClassifier(), 'AdaBoost'),\n",
    "        (LinearDiscriminantAnalysis(), 'Linear Discriminant Analysis'),\n",
    "        (QuadraticDiscriminantAnalysis(), 'Quadratic Discriminant Analysis')]\n",
    "    \n",
    "    # applying the models\n",
    "    n_folds = 10\n",
    "    k_fold = cross_validation.KFold(n=len(dataset), n_folds=n_folds, shuffle=False, random_state=None)\n",
    "    accuracy = {}\n",
    "    for train_index, test_index in k_fold:\n",
    "        X_train = dataset[train_index,:-1]\n",
    "        y_train = dataset[train_index,-1]\n",
    "        X_test = dataset[test_index,:-1]\n",
    "        y_test = dataset[test_index,-1]\n",
    "\n",
    "        for clf, name in models:\n",
    "            clf.fit(X_train, y_train)\n",
    "            y_pred = clf.predict(X_test)\n",
    "            accuracy_percent = 100 * sk.metrics.accuracy_score(y_test, y_pred) / n_folds\n",
    "            if name not in accuracy:\n",
    "                accuracy[name] = accuracy_percent\n",
    "            else:\n",
    "                accuracy[name] += accuracy_percent\n",
    "\n",
    "    print('\\n')\n",
    "    for key, value in accuracy.items():\n",
    "        print(key, ':', round(value,2))"
   ]
  },
  {
   "cell_type": "code",
   "execution_count": 180,
   "metadata": {
    "collapsed": false
   },
   "outputs": [
    {
     "name": "stdout",
     "output_type": "stream",
     "text": [
      "[LibSVM]"
     ]
    },
    {
     "name": "stderr",
     "output_type": "stream",
     "text": [
      "/usr/local/lib/python3.4/dist-packages/sklearn/discriminant_analysis.py:387: UserWarning: Variables are collinear.\n",
      "  warnings.warn(\"Variables are collinear.\")\n",
      "/usr/local/lib/python3.4/dist-packages/sklearn/discriminant_analysis.py:688: UserWarning: Variables are collinear\n",
      "  warnings.warn(\"Variables are collinear\")\n"
     ]
    },
    {
     "name": "stdout",
     "output_type": "stream",
     "text": [
      "[LibSVM]"
     ]
    },
    {
     "name": "stderr",
     "output_type": "stream",
     "text": [
      "/usr/local/lib/python3.4/dist-packages/sklearn/discriminant_analysis.py:387: UserWarning: Variables are collinear.\n",
      "  warnings.warn(\"Variables are collinear.\")\n",
      "/usr/local/lib/python3.4/dist-packages/sklearn/discriminant_analysis.py:688: UserWarning: Variables are collinear\n",
      "  warnings.warn(\"Variables are collinear\")\n"
     ]
    },
    {
     "name": "stdout",
     "output_type": "stream",
     "text": [
      "[LibSVM]"
     ]
    },
    {
     "name": "stderr",
     "output_type": "stream",
     "text": [
      "/usr/local/lib/python3.4/dist-packages/sklearn/discriminant_analysis.py:387: UserWarning: Variables are collinear.\n",
      "  warnings.warn(\"Variables are collinear.\")\n",
      "/usr/local/lib/python3.4/dist-packages/sklearn/discriminant_analysis.py:688: UserWarning: Variables are collinear\n",
      "  warnings.warn(\"Variables are collinear\")\n"
     ]
    },
    {
     "name": "stdout",
     "output_type": "stream",
     "text": [
      "[LibSVM]"
     ]
    },
    {
     "name": "stderr",
     "output_type": "stream",
     "text": [
      "/usr/local/lib/python3.4/dist-packages/sklearn/discriminant_analysis.py:387: UserWarning: Variables are collinear.\n",
      "  warnings.warn(\"Variables are collinear.\")\n",
      "/usr/local/lib/python3.4/dist-packages/sklearn/discriminant_analysis.py:688: UserWarning: Variables are collinear\n",
      "  warnings.warn(\"Variables are collinear\")\n"
     ]
    },
    {
     "name": "stdout",
     "output_type": "stream",
     "text": [
      "[LibSVM]"
     ]
    },
    {
     "name": "stderr",
     "output_type": "stream",
     "text": [
      "/usr/local/lib/python3.4/dist-packages/sklearn/discriminant_analysis.py:387: UserWarning: Variables are collinear.\n",
      "  warnings.warn(\"Variables are collinear.\")\n",
      "/usr/local/lib/python3.4/dist-packages/sklearn/discriminant_analysis.py:688: UserWarning: Variables are collinear\n",
      "  warnings.warn(\"Variables are collinear\")\n"
     ]
    },
    {
     "name": "stdout",
     "output_type": "stream",
     "text": [
      "[LibSVM]"
     ]
    },
    {
     "name": "stderr",
     "output_type": "stream",
     "text": [
      "/usr/local/lib/python3.4/dist-packages/sklearn/discriminant_analysis.py:387: UserWarning: Variables are collinear.\n",
      "  warnings.warn(\"Variables are collinear.\")\n",
      "/usr/local/lib/python3.4/dist-packages/sklearn/discriminant_analysis.py:688: UserWarning: Variables are collinear\n",
      "  warnings.warn(\"Variables are collinear\")\n"
     ]
    },
    {
     "name": "stdout",
     "output_type": "stream",
     "text": [
      "[LibSVM]"
     ]
    },
    {
     "name": "stderr",
     "output_type": "stream",
     "text": [
      "/usr/local/lib/python3.4/dist-packages/sklearn/discriminant_analysis.py:387: UserWarning: Variables are collinear.\n",
      "  warnings.warn(\"Variables are collinear.\")\n",
      "/usr/local/lib/python3.4/dist-packages/sklearn/discriminant_analysis.py:688: UserWarning: Variables are collinear\n",
      "  warnings.warn(\"Variables are collinear\")\n"
     ]
    },
    {
     "name": "stdout",
     "output_type": "stream",
     "text": [
      "[LibSVM]"
     ]
    },
    {
     "name": "stderr",
     "output_type": "stream",
     "text": [
      "/usr/local/lib/python3.4/dist-packages/sklearn/discriminant_analysis.py:387: UserWarning: Variables are collinear.\n",
      "  warnings.warn(\"Variables are collinear.\")\n",
      "/usr/local/lib/python3.4/dist-packages/sklearn/discriminant_analysis.py:688: UserWarning: Variables are collinear\n",
      "  warnings.warn(\"Variables are collinear\")\n"
     ]
    },
    {
     "name": "stdout",
     "output_type": "stream",
     "text": [
      "[LibSVM]"
     ]
    },
    {
     "name": "stderr",
     "output_type": "stream",
     "text": [
      "/usr/local/lib/python3.4/dist-packages/sklearn/discriminant_analysis.py:387: UserWarning: Variables are collinear.\n",
      "  warnings.warn(\"Variables are collinear.\")\n",
      "/usr/local/lib/python3.4/dist-packages/sklearn/discriminant_analysis.py:688: UserWarning: Variables are collinear\n",
      "  warnings.warn(\"Variables are collinear\")\n"
     ]
    },
    {
     "name": "stdout",
     "output_type": "stream",
     "text": [
      "[LibSVM]\n",
      "\n",
      "Quadratic Discriminant Analysis : 50.92\n",
      "Logistic Regression : 52.3\n",
      "KNN : 50.15\n",
      "Naive Bayes : 52.0\n",
      "Linear SVM : 52.16\n",
      "Random Forest : 51.58\n",
      "SVM with RBF kernel : 51.8\n",
      "AdaBoost : 50.19\n",
      "Decision Tree : 51.18\n",
      "Linear Discriminant Analysis : 52.13\n"
     ]
    },
    {
     "name": "stderr",
     "output_type": "stream",
     "text": [
      "/usr/local/lib/python3.4/dist-packages/sklearn/discriminant_analysis.py:387: UserWarning: Variables are collinear.\n",
      "  warnings.warn(\"Variables are collinear.\")\n",
      "/usr/local/lib/python3.4/dist-packages/sklearn/discriminant_analysis.py:688: UserWarning: Variables are collinear\n",
      "  warnings.warn(\"Variables are collinear\")\n"
     ]
    }
   ],
   "source": [
    "#standard normalization2\n",
    "do_classification(dataset.as_matrix())"
   ]
  },
  {
   "cell_type": "code",
   "execution_count": 108,
   "metadata": {
    "collapsed": false
   },
   "outputs": [
    {
     "name": "stdout",
     "output_type": "stream",
     "text": [
      "[LibSVM][LibSVM][LibSVM][LibSVM][LibSVM][LibSVM][LibSVM][LibSVM][LibSVM][LibSVM]\n",
      "\n",
      "Logistic Regression : 52.26\n",
      "KNN : 50.19\n",
      "Naive Bayes : 51.99\n",
      "Linear SVM : 50.22\n",
      "Random Forest : 51.04\n",
      "SVM with RBF kernel : 49.29\n"
     ]
    }
   ],
   "source": [
    "#without normalization2\n",
    "do_classification(original_dataset.as_matrix())"
   ]
  },
  {
   "cell_type": "markdown",
   "metadata": {},
   "source": [
    "# Plotting data"
   ]
  },
  {
   "cell_type": "markdown",
   "metadata": {},
   "source": [
    "TNSE"
   ]
  },
  {
   "cell_type": "code",
   "execution_count": 172,
   "metadata": {
    "collapsed": false
   },
   "outputs": [
    {
     "data": {
      "image/png": "[encoded data removed]",
      "text/plain": [
       "<matplotlib.figure.Figure at 0x7ffa3df0eba8>"
      ]
     },
     "metadata": {},
     "output_type": "display_data"
    }
   ],
   "source": [
    "#sns.set(rc={\"figure.figsize\": (12, 12)})\n",
    "def plot_TSNE(data, labels):\n",
    "    tsne_model = TSNE(n_components=2, random_state=0)\n",
    "    np.set_printoptions(suppress=True)\n",
    "    points = tsne_model.fit_transform(data)\n",
    "    df = pd.DataFrame(data=np.column_stack([points,labels]), columns=[\"x\",\"y\",\"class\"])\n",
    "    sns.lmplot(\"x\", \"y\", data=df, hue='class', fit_reg=False, palette=sns.color_palette('colorblind'))\n",
    "    #sns.plt.plot(figsize=(20, 20))\n",
    "    sns.plt.show()\n",
    "    \n",
    "dtt = dataset.sample(n=400, replace=False)\n",
    "plot_TSNE(dtt.ix[:,:dtt.shape[1]-2], dtt[dtt.shape[1]-1])"
   ]
  },
  {
   "cell_type": "markdown",
   "metadata": {},
   "source": [
    "PCA"
   ]
  },
  {
   "cell_type": "code",
   "execution_count": 173,
   "metadata": {
    "collapsed": false
   },
   "outputs": [
    {
     "data": {
      "image/png": "[encoded data removed]",
      "text/plain": [
       "<matplotlib.figure.Figure at 0x7ffa3dd8e908>"
      ]
     },
     "metadata": {},
     "output_type": "display_data"
    }
   ],
   "source": [
    "def plot_PCA(data, labels):\n",
    "    pca = PCA(n_components=2)\n",
    "    pca.fit(data)\n",
    "    #print(pca.explained_variance_ratio_)\n",
    "    data = pca.transform(data)\n",
    "    df = pd.DataFrame(data=np.column_stack([data,labels]), columns=[\"x\",\"y\",\"class\"])\n",
    "    sns.lmplot(\"x\", \"y\", data=df, hue='class', fit_reg=False, palette=sns.color_palette('colorblind'))\n",
    "    sns.plt.show()\n",
    "    \n",
    "#dtt = dataset.sample(n=400, replace=False)\n",
    "plot_PCA(dtt.ix[:,:dtt.shape[1]-2], dtt[dtt.shape[1]-1])"
   ]
  },
  {
   "cell_type": "code",
   "execution_count": null,
   "metadata": {
    "collapsed": true
   },
   "outputs": [],
   "source": []
  }
 ],
 "metadata": {
  "kernelspec": {
   "display_name": "Python 3",
   "language": "python",
   "name": "python3"
  },
  "language_info": {
   "codemirror_mode": {
    "name": "ipython",
    "version": 3
   },
   "file_extension": ".py",
   "mimetype": "text/x-python",
   "name": "python",
   "nbconvert_exporter": "python",
   "pygments_lexer": "ipython3",
   "version": "3.4.3"
  }
 },
 "nbformat": 4,
 "nbformat_minor": 0
}
