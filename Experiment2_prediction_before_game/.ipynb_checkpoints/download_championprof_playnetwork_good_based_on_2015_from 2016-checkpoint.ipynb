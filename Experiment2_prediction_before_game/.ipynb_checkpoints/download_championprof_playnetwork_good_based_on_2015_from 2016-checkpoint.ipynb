{
 "cells": [
  {
   "cell_type": "markdown",
   "metadata": {},
   "source": [
    "Imports"
   ]
  },
  {
   "cell_type": "code",
   "execution_count": 13,
   "metadata": {
    "collapsed": false
   },
   "outputs": [],
   "source": [
    "#Omid55\n",
    "import requests\n",
    "import pandas as pd\n",
    "import pickle as pk\n",
    "import csv\n",
    "import time\n",
    "import numpy as np\n",
    "import random\n",
    "from scipy.stats import pearsonr as corr\n",
    "\n",
    "import seaborn as sns\n",
    "import matplotlib.pylab as plt\n",
    "% matplotlib inline"
   ]
  },
  {
   "cell_type": "code",
   "execution_count": 3,
   "metadata": {
    "collapsed": false
   },
   "outputs": [],
   "source": [
    "URL = {\n",
    "    'BASE': 'https://{proxy}.api.pvp.net/api/lol/{region}/{rest}',\n",
    "    'STATIC_BASE': 'https://global.api.pvp.net/api/lol/static-data/{region}/v1.2/{rest}',\n",
    "    \n",
    "    'MATCHLIST_URL': 'v2.2/matchlist/by-summoner/{summonerId}?seasons=SEASON{season}',\n",
    "    'MATCH_URL': 'v2.2/match/{matchId}',\n",
    "    'CHAMPION_URL': 'champion/{id}?champData=all',\n",
    "    'SUMMONER_URL': 'v1.4/summoner/{summonerId}',\n",
    "    #'SUMMONER_WINS_LOSSES_URL': 'v2.5/league/by-summoner/{summonerId}'  # NOT TRUE (VERY LARGE NUMBERS)\n",
    "    'SUMMONER_WINS_LOSSES_PER_CHAMPION_URL': 'v1.3/stats/by-summoner/{summonerId}/ranked?season=SEASON{season}'\n",
    "    \n",
    "    # /api/lol/{region}/v1.3/stats/by-summoner/{summonerId}/ranked: this is for getting the experience \n",
    "    #  of player (summonerId) with different champions and also ALL EXPERIENCE one person has\n",
    "    \n",
    "    # /api/lol/{region}/v1.3/game/by-summoner/{summonerId}/recent: games that one summoner plays \n",
    "    #  with other people\n",
    "}\n",
    "\n",
    "REGIONS = {\n",
    "    'north america': 'na',\n",
    "    'europe west': 'euw'\n",
    "}"
   ]
  },
  {
   "cell_type": "code",
   "execution_count": 4,
   "metadata": {
    "collapsed": true
   },
   "outputs": [],
   "source": [
    "class Match(object):\n",
    "    \n",
    "    def __init__(self):\n",
    "        self.winners = []\n",
    "        self.losers = []\n",
    "        self.duration = -1\n",
    "        "
   ]
  },
  {
   "cell_type": "code",
   "execution_count": 23,
   "metadata": {
    "collapsed": false
   },
   "outputs": [],
   "source": [
    "class RiotAPI(object):\n",
    "    \n",
    "    def __init__(self, api_key, region=REGIONS['north america']):\n",
    "        self.api_key = api_key\n",
    "        self.region = region\n",
    "        self.champions = {}\n",
    "#         self.champions_allinfo = {}\n",
    "#         self.champions_allinfo_saved = False\n",
    "        self.summoner_wins_losses = {}\n",
    "        \n",
    "    def _request(self, base, rest, params={}):\n",
    "        args = {'api_key': self.api_key}\n",
    "        args.update(params)\n",
    "        response = requests.get(\n",
    "            URL[base].format(\n",
    "                rest=rest,\n",
    "                proxy=self.region,\n",
    "                region=self.region,\n",
    "            ),\n",
    "            params=args\n",
    "        )\n",
    "        #print(response.request.url)\n",
    "        time.sleep(1.2)\n",
    "        return response.json()\n",
    "    \n",
    "    def _base_request(self, rest, params={}):\n",
    "        return self._request('BASE', rest, params)\n",
    "        \n",
    "    def _static_request(self, rest, params={}):\n",
    "        return self._request('STATIC_BASE', rest, params)\n",
    "    \n",
    "    # functions\n",
    "    def get_summoner_level(self, sid):\n",
    "        rest = URL['SUMMONER_URL'].format(\n",
    "            summonerId=sid\n",
    "        )\n",
    "        return self._base_request(rest)\n",
    "    \n",
    "    def _get_list_of_match_ids(self, sid, season):\n",
    "        rest = URL['MATCHLIST_URL'].format(\n",
    "            summonerId=sid,\n",
    "            season=season\n",
    "        )\n",
    "        result = self._base_request(rest)\n",
    "        if 'matches' in result:\n",
    "            for match in result['matches']:\n",
    "                yield match['matchId']\n",
    "                \n",
    "    def _get_match(self, mid):\n",
    "        rest = URL['MATCH_URL'].format(\n",
    "            matchId=mid\n",
    "        )\n",
    "        result = self._base_request(rest)\n",
    "        return result\n",
    "        \n",
    "    def get_champion_all_info(self, championId):\n",
    "        rest = URL['CHAMPION_URL'].format(\n",
    "            id=championId\n",
    "        )\n",
    "        return self._static_request(rest)\n",
    "    \n",
    "#     def get_champion_index(self, championId):\n",
    "#         if championId not in self.champions:\n",
    "#             myid = len(self.champions)\n",
    "#             self.champions_allinfo[myid] = self.get_champion_all_info(championId)\n",
    "#             if not self.champions_allinfo_saved and len(self.champions_allinfo) == 132:\n",
    "#                 with open('DATAChampionsAllInfo.pkl', 'wb') as output:\n",
    "#                     pk.dump(self.champions_allinfo, output)\n",
    "#                     self.champions_allinfo_saved = True\n",
    "#             self.champions[championId] = myid\n",
    "#         return self.champions[championId]\n",
    "    \n",
    "    def get_matches_champions_and_summonerIds_before_game(self, season, just_Ids=True):\n",
    "        #for sid in range(1,1000000):    #for sid in range(1000000,5000000):\n",
    "        with open('summonerId_list.pkl', 'rb') as f:\n",
    "            all_summoners = pk.load(f)\n",
    "        summoners = [ all_summoners[i] for i in sorted(random.sample(range(len(all_summoners)), 1000)) ]\n",
    "        for sid in summoners:\n",
    "            matchids = self._get_list_of_match_ids(sid, season)\n",
    "            for matchid in matchids:\n",
    "                match = self._get_match(matchid)\n",
    "                if 'participants' in match:\n",
    "                    losers = []\n",
    "                    winners = []\n",
    "                    winners_sid = []\n",
    "                    losers_sid = []\n",
    "                    \n",
    "                    for member in match['participants']:\n",
    "                        suId = [pi['player']['summonerId'] for pi in match['participantIdentities'] if pi['participantId']==member['participantId']]#[0]\n",
    "                        if member['stats']['winner']:\n",
    "                            winners_sid += suId\n",
    "                            \n",
    "                            if just_Ids:\n",
    "                                winners += [member['championId']]\n",
    "                            else:\n",
    "                                winners += (self.get_champion_capabilities(member['championId']))\n",
    "                        else:\n",
    "                            losers_sid += suId\n",
    "                            \n",
    "                            if just_Ids:\n",
    "                                losers += [member['championId']]\n",
    "                            else:\n",
    "                                losers += (self.get_champion_capabilities(member['championId']))\n",
    "                    data = {'matchId': match['matchId'], 'duration': match['matchDuration'], 'champions': winners + losers, 'summoners': winners_sid + losers_sid}\n",
    "                    yield data\n",
    "                    \n",
    "    # --------------------------------------------------------------------------------------\n",
    "    def get_summoner_wins_losses(self, sid, season):\n",
    "        key = str(sid)+','+str(season)\n",
    "        if key not in self.summoner_wins_losses:\n",
    "            res = {}\n",
    "            rest = URL['SUMMONER_WINS_LOSSES_PER_CHAMPION_URL'].format(\n",
    "                summonerId=sid,\n",
    "                season=season\n",
    "            )\n",
    "            result = self._base_request(rest)\n",
    "            if 'champions' in result:\n",
    "                for ch in result['champions']:\n",
    "                    if ch['id']:\n",
    "                        res[ch['id']] = [ch['stats']['totalSessionsWon'], ch['stats']['totalSessionsLost']]\n",
    "            self.summoner_wins_losses[key] = res\n",
    "        return self.summoner_wins_losses[key]\n",
    "        \n",
    "    def get_win_stats(self, team_summoners, team_champs, season):\n",
    "        game = []\n",
    "        win_ratio = []\n",
    "        same_champ_game = []\n",
    "        same_champ_win_ratio = []\n",
    "        for i in range(5):\n",
    "            ch_history = self.get_summoner_wins_losses(team_summoners[i], season=season)\n",
    "            if ch_history:\n",
    "                if team_champs[i] in ch_history:\n",
    "                    a = ch_history[team_champs[i]]\n",
    "                    same_champ_game.append(a[0] + a[1])\n",
    "                    same_champ_win_ratio.append(a[0]/float(a[0] + a[1]))\n",
    "                a = np.sum(list(ch_history.values()), axis=0)\n",
    "                game.append(a[0] + a[1])\n",
    "                win_ratio.append(a[0]/float(a[0] + a[1]))\n",
    "        if len(game) < 4:\n",
    "            return []\n",
    "        else:\n",
    "            return [\n",
    "                np.average(game),\n",
    "                np.std(game),\n",
    "                np.average(win_ratio),\n",
    "                np.std(win_ratio),\n",
    "                np.average(same_champ_game),\n",
    "                np.std(same_champ_game),\n",
    "                np.average(same_champ_win_ratio),\n",
    "                np.std(same_champ_win_ratio)\n",
    "                ]\n",
    "    # --------------------------------------------------------------------------------------\n",
    "    \n",
    "    def get_matches_champions_and_summonerIds_before_game_for_those_summoners_have_similar_stats_2_seasons(self, season, just_Ids=True):\n",
    "        with open('summonerId_list.pkl', 'rb') as f:\n",
    "            all_summoners = pk.load(f)\n",
    "        for sid in all_summoners:\n",
    "        #for sid in range(1,1000000000):\n",
    "            matchids = self._get_list_of_match_ids(sid, season)\n",
    "            for matchid in matchids:\n",
    "                nodata = 0\n",
    "                match = self._get_match(matchid)\n",
    "                if 'participants' in match:\n",
    "                    losers = []\n",
    "                    winners = []\n",
    "                    winners_sid = []\n",
    "                    losers_sid = []\n",
    "                    \n",
    "                    for member in match['participants']:\n",
    "                        suId = [pi['player']['summonerId'] for pi in match['participantIdentities'] if pi['participantId']==member['participantId']][0]\n",
    "                        if not self.does_she_have_similar_history_in_two_seasons(suId, season-1, season):\n",
    "                            nodata += 1\n",
    "                            if nodata >= 8:\n",
    "                                break\n",
    "                            \n",
    "                        if member['stats']['winner']:\n",
    "                            winners_sid += suId\n",
    "\n",
    "                            if just_Ids:\n",
    "                                winners += [member['championId']]\n",
    "                            else:\n",
    "                                winners += (self.get_champion_capabilities(member['championId']))\n",
    "                        else:\n",
    "                            losers_sid += suId\n",
    "\n",
    "                            if just_Ids:\n",
    "                                losers += [member['championId']]\n",
    "                            else:\n",
    "                                losers += (self.get_champion_capabilities(member['championId']))\n",
    "                    if nodata >= 8:\n",
    "                        print('skipped')\n",
    "                        continue\n",
    "                    data = {'matchId': match['matchId'], 'duration': match['matchDuration'], 'champions': winners + losers, 'summoners': winners_sid + losers_sid}\n",
    "                    yield data\n",
    "                    \n",
    "    def does_she_have_similar_history_in_two_seasons(self, sid, season1, season2):\n",
    "        h1 = self.get_summoner_wins_losses(sid, season1)\n",
    "        h2 = self.get_summoner_wins_losses(sid, season2)\n",
    "        c1 = len(set(list(h1.keys()) + list(h1.keys())))\n",
    "        return c1 !=0 and len(list(set(h1.keys()) & set(h2.keys()))) / float(c1) >= 0.7\n",
    "#         h1 = self.get_summoner_wins_losses(sid, season1)\n",
    "#         h2 = self.get_summoner_wins_losses(sid, season2)\n",
    "#         wr1 = []\n",
    "#         wr2 = []\n",
    "#         for k in list(set(h1.keys()) & set(h2.keys())):\n",
    "#             wr1.append(h1[k][0]/float(h1[k][0]+h1[k][1]))\n",
    "#             wr2.append(h2[k][0]/float(h2[k][0]+h2[k][1]))\n",
    "#         if len(wr1)<3 or len(wr2)<3:\n",
    "#             return False\n",
    "#         c = corr(wr1, wr2)\n",
    "#         return c[1]<1 and c[0]>0.3\n",
    "        \n",
    "        \n",
    "with open('../MyKey1.key', 'r') as key_file:\n",
    "    KEY = key_file.readline().strip()\n",
    "api = RiotAPI(KEY)"
   ]
  },
  {
   "cell_type": "markdown",
   "metadata": {},
   "source": [
    "# Run the script"
   ]
  },
  {
   "cell_type": "code",
   "execution_count": 24,
   "metadata": {
    "collapsed": false
   },
   "outputs": [
    {
     "name": "stdout",
     "output_type": "stream",
     "text": [
      "46422404\n",
      "{1: [1, 0], 2: [1, 2], 67: [0, 1], 5: [1, 0], 12: [2, 1], 15: [2, 2], 80: [0, 1], 81: [1, 1], 115: [0, 2], 25: [6, 3], 412: [2, 2], 222: [2, 2], 32: [0, 2], 102: [2, 1], 39: [2, 4], 40: [0, 2], 429: [0, 1], 51: [4, 3], 53: [1, 1], 120: [2, 3], 57: [0, 1], 59: [3, 8]} {2: [109, 90], 115: [3, 1], 5: [1, 1], 10: [2, 0], 12: [2, 4], 77: [0, 1], 14: [0, 2], 15: [4, 5], 80: [5, 9], 81: [2, 3], 18: [0, 1], 78: [1, 2], 25: [3, 3], 28: [6, 7], 222: [1, 2], 31: [0, 1], 33: [0, 1], 99: [2, 2], 36: [0, 1], 412: [3, 5], 236: [1, 2], 111: [60, 46], 51: [0, 1], 57: [5, 4], 59: [5, 2], 127: [5, 7]}\n",
      "(-0.37444293180974481, 0.20748196647402703)\n"
     ]
    },
    {
     "ename": "TypeError",
     "evalue": "'int' object is not iterable",
     "output_type": "error",
     "traceback": [
      "\u001b[1;31m---------------------------------------------------------------------------\u001b[0m",
      "\u001b[1;31mTypeError\u001b[0m                                 Traceback (most recent call last)",
      "\u001b[1;32m<ipython-input-24-faddbb400754>\u001b[0m in \u001b[0;36m<module>\u001b[1;34m()\u001b[0m\n\u001b[0;32m      3\u001b[0m \u001b[1;33m\u001b[0m\u001b[0m\n\u001b[0;32m      4\u001b[0m \u001b[0mdata\u001b[0m \u001b[1;33m=\u001b[0m \u001b[1;33m[\u001b[0m\u001b[1;33m]\u001b[0m\u001b[1;33m\u001b[0m\u001b[0m\n\u001b[1;32m----> 5\u001b[1;33m \u001b[1;32mfor\u001b[0m \u001b[0md\u001b[0m \u001b[1;32min\u001b[0m \u001b[0mdt\u001b[0m\u001b[1;33m:\u001b[0m\u001b[1;33m\u001b[0m\u001b[0m\n\u001b[0m\u001b[0;32m      6\u001b[0m     \u001b[0mdata\u001b[0m\u001b[1;33m.\u001b[0m\u001b[0mappend\u001b[0m\u001b[1;33m(\u001b[0m\u001b[0md\u001b[0m\u001b[1;33m)\u001b[0m\u001b[1;33m\u001b[0m\u001b[0m\n\u001b[0;32m      7\u001b[0m     \u001b[1;31m#if not len(data) % 10:\u001b[0m\u001b[1;33m\u001b[0m\u001b[1;33m\u001b[0m\u001b[0m\n",
      "\u001b[1;32m<ipython-input-23-3d698e473f76>\u001b[0m in \u001b[0;36mget_matches_champions_and_summonerIds_before_game_for_those_summoners_have_similar_stats_2_seasons\u001b[1;34m(self, season, just_Ids)\u001b[0m\n\u001b[0;32m    175\u001b[0m \u001b[1;33m\u001b[0m\u001b[0m\n\u001b[0;32m    176\u001b[0m                         \u001b[1;32mif\u001b[0m \u001b[0mmember\u001b[0m\u001b[1;33m[\u001b[0m\u001b[1;34m'stats'\u001b[0m\u001b[1;33m]\u001b[0m\u001b[1;33m[\u001b[0m\u001b[1;34m'winner'\u001b[0m\u001b[1;33m]\u001b[0m\u001b[1;33m:\u001b[0m\u001b[1;33m\u001b[0m\u001b[0m\n\u001b[1;32m--> 177\u001b[1;33m                             \u001b[0mwinners_sid\u001b[0m \u001b[1;33m+=\u001b[0m \u001b[0msuId\u001b[0m\u001b[1;33m\u001b[0m\u001b[0m\n\u001b[0m\u001b[0;32m    178\u001b[0m \u001b[1;33m\u001b[0m\u001b[0m\n\u001b[0;32m    179\u001b[0m                             \u001b[1;32mif\u001b[0m \u001b[0mjust_Ids\u001b[0m\u001b[1;33m:\u001b[0m\u001b[1;33m\u001b[0m\u001b[0m\n",
      "\u001b[1;31mTypeError\u001b[0m: 'int' object is not iterable"
     ]
    }
   ],
   "source": [
    "LIMIT = 1400\n",
    "dt = api.get_matches_champions_and_summonerIds_before_game_for_those_summoners_have_similar_stats_2_seasons(season=2016)\n",
    "\n",
    "data = []\n",
    "for d in dt:\n",
    "    data.append(d)\n",
    "    #if not len(data) % 10:\n",
    "    print(len(data))\n",
    "    if len(data) > LIMIT:\n",
    "        break\n",
    "        "
   ]
  },
  {
   "cell_type": "code",
   "execution_count": null,
   "metadata": {
    "collapsed": true
   },
   "outputs": [],
   "source": []
  },
  {
   "cell_type": "code",
   "execution_count": null,
   "metadata": {
    "collapsed": false
   },
   "outputs": [],
   "source": [
    "print(len(data), 'samples are saving...')\n",
    "with open('GoodSummonersDataChampionProficiencyPlaynet.pkl', 'wb') as dfile:\n",
    "    pk.dump(data, dfile)\n",
    "print('Done.')"
   ]
  },
  {
   "cell_type": "markdown",
   "metadata": {},
   "source": [
    "# CHECK"
   ]
  },
  {
   "cell_type": "code",
   "execution_count": null,
   "metadata": {
    "collapsed": false
   },
   "outputs": [],
   "source": [
    "data[0]['champions']"
   ]
  },
  {
   "cell_type": "code",
   "execution_count": null,
   "metadata": {
    "collapsed": false
   },
   "outputs": [],
   "source": [
    "print(api.does_she_have_similar_history_in_two_seasons(18, 2015, 2016))\n",
    "h1 = api.get_summoner_wins_losses(18, 2015)\n",
    "h2 = api.get_summoner_wins_losses(18, 2016)\n",
    "c1 = len(set(list(h1.keys()) + list(h1.keys())))\n",
    "print(list(h1.keys()))\n",
    "print(list(h2.keys()))\n",
    "print(c1)\n",
    "print(len(list(set(h1.keys()) & set(h2.keys()))) / float(c1))"
   ]
  },
  {
   "cell_type": "code",
   "execution_count": null,
   "metadata": {
    "collapsed": true
   },
   "outputs": [],
   "source": []
  },
  {
   "cell_type": "code",
   "execution_count": null,
   "metadata": {
    "collapsed": false,
    "scrolled": true
   },
   "outputs": [],
   "source": [
    "dt = []\n",
    "#sampl_data = [data[i] for i in sorted(random.sample(range(len(data)), 1500))]\n",
    "for d in data:\n",
    "    if len(d['champions'])==10:\n",
    "        winner = api.get_win_stats(d['summoners'][:5], d['champions'][:5], 2015)\n",
    "        if not winner:\n",
    "            continue\n",
    "        loser = api.get_win_stats(d['summoners'][5:], d['champions'][5:], 2015)\n",
    "        if not loser:\n",
    "            continue\n",
    "        dt.append(winner + loser)\n",
    "        if len(dt) % 10 == 0:\n",
    "            print(len(dt))\n",
    "dataset = pd.DataFrame(data=dt, columns=['winner_avg_game_count', 'winner_std_game_count', 'winner_avg_win_ratio', 'winner_std_win_ratio', 'winner_avg_same_champion_game_count', 'winner_std_same_champion_game_count', 'winner_avg_same_champion_win_ratio', 'winner_std_same_champion_win_ratio', 'loser_avg_game_count', 'loser_std_game_count', 'loser_avg_win_ratio', 'loser_std_win_ratio', 'loser_avg_same_champion_game_count', 'loser_std_same_champion_game_count', 'loser_avg_same_champion_win_ratio', 'loser_std_same_champion_win_ratio'])\n",
    "\n",
    "dataset.to_csv('GoodStat2015_for_Classification2016_Dataset.csv')"
   ]
  },
  {
   "cell_type": "code",
   "execution_count": null,
   "metadata": {
    "collapsed": true
   },
   "outputs": [],
   "source": []
  },
  {
   "cell_type": "code",
   "execution_count": null,
   "metadata": {
    "collapsed": true
   },
   "outputs": [],
   "source": []
  },
  {
   "cell_type": "code",
   "execution_count": null,
   "metadata": {
    "collapsed": true
   },
   "outputs": [],
   "source": []
  },
  {
   "cell_type": "markdown",
   "metadata": {},
   "source": [
    "# Filtering summoners using history of games in 2015 and 2016 stats"
   ]
  },
  {
   "cell_type": "code",
   "execution_count": null,
   "metadata": {
    "collapsed": true
   },
   "outputs": [],
   "source": [
    "def plot_distribution_of_correlation(summoner_ids):\n",
    "    r = []\n",
    "    p = []\n",
    "    for sid in summoner_ids:\n",
    "        h1 = api.get_summoner_wins_losses(sid, 2015)\n",
    "        h2 = api.get_summoner_wins_losses(sid, 2016)\n",
    "        wr1 = []\n",
    "        wr2 = []\n",
    "        for k in list(set(h1.keys()) & set(h2.keys())):\n",
    "            wr1.append(h1[k][0]/float(h1[k][0]+h1[k][1]))\n",
    "            wr2.append(h2[k][0]/float(h2[k][0]+h2[k][1]))\n",
    "    #         wr1.append(h1[k][0]+h1[k][1])\n",
    "    #         wr2.append(h2[k][0]+h2[k][1])\n",
    "        c = corr(wr1, wr2)\n",
    "        r.append(c[0])\n",
    "        p.append(c[1])\n",
    "    plt.hist(np.array(r)[np.where(np.array(p)<0.05)])"
   ]
  },
  {
   "cell_type": "markdown",
   "metadata": {},
   "source": [
    "Selecting summoners based on 80% of conflicting champion choice"
   ]
  },
  {
   "cell_type": "code",
   "execution_count": null,
   "metadata": {
    "collapsed": false
   },
   "outputs": [],
   "source": [
    "with open('summonerId_list.pkl', 'rb') as dfile:\n",
    "    summoners = pk.load(dfile)\n",
    "good_sids = []\n",
    "for sid in summoners:\n",
    "    h1 = api.get_summoner_wins_losses(sid, 2015)\n",
    "    h2 = api.get_summoner_wins_losses(sid, 2016)\n",
    "    c1 = len(set(list(h1.keys()) + list(h1.keys())))\n",
    "    if c1 !=0 and len(list(set(h1.keys()) & set(h2.keys()))) / c1 < 0.8:\n",
    "        continue\n",
    "    good_sids.append(sid)\n",
    "print(len(good_sids))\n",
    "plot_distribution_of_correlation(good_sids)"
   ]
  },
  {
   "cell_type": "markdown",
   "metadata": {},
   "source": [
    "Selecting summoners based on positive (larger than 0.3) of 2015 and 2016 win ratio"
   ]
  },
  {
   "cell_type": "code",
   "execution_count": null,
   "metadata": {
    "collapsed": true
   },
   "outputs": [],
   "source": [
    "with open('summonerId_list.pkl', 'rb') as dfile:\n",
    "    summoners = pk.load(dfile)\n",
    "gggood_sids = []\n",
    "for sid in summoners:\n",
    "    h1 = api.get_summoner_wins_losses(sid, 2015)\n",
    "    h2 = api.get_summoner_wins_losses(sid, 2016)\n",
    "    wr1 = []\n",
    "    wr2 = []\n",
    "    for k in list(set(h1.keys()) & set(h2.keys())):\n",
    "        wr1.append(h1[k][0]/float(h1[k][0]+h1[k][1]))\n",
    "        wr2.append(h2[k][0]/float(h2[k][0]+h2[k][1]))\n",
    "    if len(wr1)<3 or len(wr2)<3:\n",
    "        continue\n",
    "    c = corr(wr1, wr2)\n",
    "    if c[1]<1 and c[0]>0.3:\n",
    "        gggood_sids.append(sid)\n",
    "print(len(gggood_sids))\n",
    "plot_distribution_of_correlation(gggood_sids)"
   ]
  },
  {
   "cell_type": "code",
   "execution_count": null,
   "metadata": {
    "collapsed": true
   },
   "outputs": [],
   "source": []
  },
  {
   "cell_type": "code",
   "execution_count": null,
   "metadata": {
    "collapsed": true
   },
   "outputs": [],
   "source": []
  }
 ],
 "metadata": {
  "kernelspec": {
   "display_name": "Python 3",
   "language": "python",
   "name": "python3"
  },
  "language_info": {
   "codemirror_mode": {
    "name": "ipython",
    "version": 3
   },
   "file_extension": ".py",
   "mimetype": "text/x-python",
   "name": "python",
   "nbconvert_exporter": "python",
   "pygments_lexer": "ipython3",
   "version": "3.4.3"
  }
 },
 "nbformat": 4,
 "nbformat_minor": 0
}
