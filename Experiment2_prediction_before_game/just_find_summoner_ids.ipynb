{
 "cells": [
  {
   "cell_type": "code",
   "execution_count": 1,
   "metadata": {
    "collapsed": true
   },
   "outputs": [],
   "source": [
    "#Omid55\n",
    "import requests\n",
    "import pandas as pd\n",
    "import pickle as pk\n",
    "import csv\n",
    "import time\n",
    "import numpy as np"
   ]
  },
  {
   "cell_type": "code",
   "execution_count": 8,
   "metadata": {
    "collapsed": true
   },
   "outputs": [],
   "source": [
    "URL = {\n",
    "    'BASE': 'https://{proxy}.api.pvp.net/api/lol/{region}/v2.2/{rest}',\n",
    "    'STATIC_BASE': 'https://global.api.pvp.net/api/lol/static-data/{region}/v1.2/{rest}',\n",
    "    'MATCHLIST_URL': 'matchlist/by-summoner/{summonerId}',\n",
    "    'MATCH_URL': 'match/{matchId}',\n",
    "    'CHAMPION_URL': 'champion/{id}?champData=all'\n",
    "}\n",
    "\n",
    "REGIONS = {\n",
    "    'north america': 'na',\n",
    "    'europe west': 'euw'\n",
    "}"
   ]
  },
  {
   "cell_type": "code",
   "execution_count": 22,
   "metadata": {
    "collapsed": false
   },
   "outputs": [],
   "source": [
    "class RiotAPI(object):\n",
    "    \n",
    "    def __init__(self, api_key, region=REGIONS['north america']):\n",
    "        self.api_key = api_key\n",
    "        self.region = region\n",
    "        self.champions = {}\n",
    "        self.summonerIds = []\n",
    "        \n",
    "    def _request(self, base, rest, params={}):\n",
    "        args = {'api_key': self.api_key}\n",
    "        args.update(params)\n",
    "        response = requests.get(\n",
    "            URL[base].format(\n",
    "                rest=rest,\n",
    "                proxy=self.region,\n",
    "                region=self.region,\n",
    "            ),\n",
    "            params=args\n",
    "        )\n",
    "        time.sleep(1.2)\n",
    "        return response.json()\n",
    "    \n",
    "    def _base_request(self, rest, params={}):\n",
    "        return self._request('BASE', rest, params)\n",
    "        \n",
    "    def _static_request(self, rest, params={}):\n",
    "        return self._request('STATIC_BASE', rest, params)\n",
    "    \n",
    "    # my functions\n",
    "    def _has_matches(self, sid):\n",
    "        rest = URL['MATCHLIST_URL'].format(\n",
    "            summonerId=sid\n",
    "        )\n",
    "        result = self._base_request(rest)\n",
    "        return 'matches' in result\n",
    "\n",
    "    def get_matches_champions_before_game(self):\n",
    "        with open('summonerId_list.pkl', 'wb') as output:\n",
    "            for sid in range(1,1000000):    #for sid in range(1000000,5000000):\n",
    "                if self._has_matches(sid):\n",
    "                    self.summonerIds.append(sid)\n",
    "                    if len(self.summonerIds) % 100 == 0:\n",
    "                        print(len(self.summonerIds))\n",
    "                        pk.dump(api.summonerIds, output)\n",
    "                          \n",
    "with open('../MyKey1.key', 'r') as key_file:\n",
    "    KEY = key_file.readline().strip()\n",
    "api = RiotAPI(KEY)"
   ]
  },
  {
   "cell_type": "code",
   "execution_count": null,
   "metadata": {
    "collapsed": false
   },
   "outputs": [],
   "source": [
    "api.get_matches_champions_before_game()"
   ]
  },
  {
   "cell_type": "code",
   "execution_count": null,
   "metadata": {
    "collapsed": true
   },
   "outputs": [],
   "source": []
  }
 ],
 "metadata": {
  "kernelspec": {
   "display_name": "Python 3",
   "language": "python",
   "name": "python3"
  },
  "language_info": {
   "codemirror_mode": {
    "name": "ipython",
    "version": 3
   },
   "file_extension": ".py",
   "mimetype": "text/x-python",
   "name": "python",
   "nbconvert_exporter": "python",
   "pygments_lexer": "ipython3",
   "version": "3.4.3"
  }
 },
 "nbformat": 4,
 "nbformat_minor": 0
}
