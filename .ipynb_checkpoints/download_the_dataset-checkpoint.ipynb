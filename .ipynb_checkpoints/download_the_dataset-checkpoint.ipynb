{
 "cells": [
  {
   "cell_type": "markdown",
   "metadata": {},
   "source": [
    "Imports"
   ]
  },
  {
   "cell_type": "code",
   "execution_count": 63,
   "metadata": {
    "collapsed": true
   },
   "outputs": [],
   "source": [
    "#Omid55\n",
    "import requests\n",
    "import pandas as pd\n",
    "import pickle as pk\n",
    "import csv\n",
    "import time\n",
    "import numpy as np"
   ]
  },
  {
   "cell_type": "code",
   "execution_count": 4,
   "metadata": {
    "collapsed": false
   },
   "outputs": [],
   "source": [
    "URL = {\n",
    "    'BASE': 'https://{proxy}.api.pvp.net/api/lol/{region}/v2.2/{rest}',\n",
    "    'STATIC_BASE': 'https://global.api.pvp.net/api/lol/static-data/{region}/v1.2/{rest}',\n",
    "    'MATCHLIST_URL': 'matchlist/by-summoner/{summonerId}',\n",
    "    'MATCH_URL': 'match/{matchId}',\n",
    "    'CHAMPION_URL': 'champion/{id}?champData=all'\n",
    "}\n",
    "\n",
    "REGIONS = {\n",
    "    'north america': 'na',\n",
    "    'europe west': 'euw'\n",
    "}"
   ]
  },
  {
   "cell_type": "code",
   "execution_count": 5,
   "metadata": {
    "collapsed": true
   },
   "outputs": [],
   "source": [
    "class Match(object):\n",
    "    \n",
    "    def __init__(self):\n",
    "        self.winners = []\n",
    "        self.losers = []\n",
    "        self.duration = -1\n",
    "        "
   ]
  },
  {
   "cell_type": "code",
   "execution_count": 229,
   "metadata": {
    "collapsed": false
   },
   "outputs": [],
   "source": [
    "class RiotAPI(object):\n",
    "    \n",
    "    def __init__(self, api_key, region=REGIONS['north america']):\n",
    "        self.api_key = api_key\n",
    "        self.region = region\n",
    "        self.champions = {}\n",
    "        \n",
    "    def _request(self, base, rest, params={}):\n",
    "        args = {'api_key': self.api_key}\n",
    "        args.update(params)\n",
    "        response = requests.get(\n",
    "            URL[base].format(\n",
    "                rest=rest,\n",
    "                proxy=self.region,\n",
    "                region=self.region,\n",
    "            ),\n",
    "            params=args\n",
    "        )\n",
    "        time.sleep(1.2)\n",
    "        return response.json()\n",
    "    \n",
    "    def _base_request(self, rest, params={}):\n",
    "        return self._request('BASE', rest, params)\n",
    "        \n",
    "    def _static_request(self, rest, params={}):\n",
    "        return self._request('STATIC_BASE', rest, params)\n",
    "    \n",
    "    # my functions\n",
    "    def _get_list_of_match_ids(self, sid):\n",
    "        rest = URL['MATCHLIST_URL'].format(\n",
    "            summonerId=sid\n",
    "        )\n",
    "        result = self._base_request(rest)\n",
    "        if 'matches' in result:\n",
    "            for match in result['matches']:\n",
    "                yield match['matchId']\n",
    "                \n",
    "    def _get_match(self, mid):\n",
    "        rest = URL['MATCH_URL'].format(\n",
    "            matchId=mid\n",
    "        )\n",
    "        result = self._base_request(rest)\n",
    "        return result\n",
    "    \n",
    "    def get_champion_capabilities(self, championId):\n",
    "        if championId in self.champions:\n",
    "            return self.champions[championId]\n",
    "        else:\n",
    "            rest = URL['CHAMPION_URL'].format(\n",
    "                id=championId\n",
    "            )\n",
    "            result = self._static_request(rest)\n",
    "            \n",
    "            features = []\n",
    "            for k in sorted(result['info'].keys()):\n",
    "                features.append(result['info'][k])\n",
    "            for k in sorted(result['stats'].keys()):\n",
    "                features.append(result['stats'][k])\n",
    "            self.champions[championId] = features\n",
    "            return features\n",
    "    \n",
    "    def get_matches_champions_capabilities_before_game(self):\n",
    "        for sid in range(1,1000000):    #for sid in range(1000000,5000000):\n",
    "            matchids = self._get_list_of_match_ids(sid)\n",
    "            for matchid in matchids:\n",
    "                match = self._get_match(matchid)\n",
    "                if 'participants' in match:\n",
    "                    losers = []\n",
    "                    winners = []\n",
    "                    duration = match['matchDuration']\n",
    "                    for member in match['participants']:\n",
    "                        if member['stats']['winner']:\n",
    "                            winners += (self.get_champion_capabilities(member['championId']))\n",
    "                        else:\n",
    "                            losers += (self.get_champion_capabilities(member['championId']))\n",
    "                    yield winners + losers + [duration]\n",
    "                    \n",
    "    def get_matches_timeline_info_during_game(self, time_clusters):\n",
    "        GAME_MIN_TIME = 40\n",
    "        log_features = ['damageTakenPerMinDeltas', 'creepsPerMinDeltas', 'goldPerMinDeltas', 'xpPerMinDeltas']\n",
    "        for sid in range(1,5000000):\n",
    "            matchids = self._get_list_of_match_ids(sid)\n",
    "            for matchid in matchids:\n",
    "                match = self._get_match(matchid)\n",
    "                if 'participants' in match and match['matchDuration'] >= GAME_MIN_TIME * 60:\n",
    "                    dataset = {}\n",
    "                    dataset['duration'] = match['matchDuration']\n",
    "                    for tf in time_clusters:\n",
    "                        winners = [[member['timeline'][lf][tf] for member in m['participants'] if member['stats']['winner']] for lf in log_features]\n",
    "                        losers = [[member['timeline'][lf][tf] for member in m['participants'] if not member['stats']['winner']] for lf in log_features]\n",
    "                        dataset[tf] = np.append(np.average(winners, axis=1), [np.std(winners, axis=1), np.average(losers, axis=1), np.std(losers, axis=1)])\n",
    "                    yield dataset\n",
    "\n",
    "KEY = 'RGAPI-839ABFA9-5540-49E5-A8B7-AA086DA77F6E'\n",
    "api = RiotAPI(KEY)"
   ]
  },
  {
   "cell_type": "markdown",
   "metadata": {},
   "source": [
    "Getting the data about champion capabilities before the game (for prediction)"
   ]
  },
  {
   "cell_type": "code",
   "execution_count": null,
   "metadata": {
    "collapsed": false
   },
   "outputs": [],
   "source": [
    "MEMORY_LIMIT = 10\n",
    "data = []\n",
    "with open('the_game_dataset.csv', 'w') as fp:\n",
    "    a = csv.writer(fp, delimiter=',')\n",
    "    dt = api.get_matches()\n",
    "    for d in dt:\n",
    "        data.append(d)\n",
    "        if len(data) > MEMORY_LIMIT:\n",
    "            a.writerows(data)\n",
    "            data.clear()\n",
    "    a.writerows(data)"
   ]
  },
  {
   "cell_type": "markdown",
   "metadata": {
    "collapsed": true
   },
   "source": [
    "Getting the data for timelined information in game (for analysis and understanding and a bit prediction)"
   ]
  },
  {
   "cell_type": "code",
   "execution_count": null,
   "metadata": {
    "collapsed": false
   },
   "outputs": [],
   "source": [
    "time_clusters = ['zeroToTen', 'tenToTwenty', 'twentyToThirty']\n",
    "\n",
    "MEMORY_LIMIT = 10\n",
    "data0 = []\n",
    "data1 = []\n",
    "data2 = []\n",
    "with open('timeline_game_dataset_0_10.csv', 'w') as fp0, open('timeline_game_dataset_10_20.csv', 'w') as fp1, open('timeline_game_dataset_20_30.csv', 'w') as fp2:\n",
    "    a0 = csv.writer(fp0, delimiter=',')\n",
    "    a1 = csv.writer(fp1, delimiter=',')\n",
    "    a2 = csv.writer(fp2, delimiter=',')\n",
    "    dt = api.get_matches_timeline_info_during_game(time_clusters)\n",
    "    for d in dt:\n",
    "        data0.append(np.append(d[time_clusters[0]], d['duration']))\n",
    "        data1.append(np.append(d[time_clusters[1]], d['duration']))\n",
    "        data2.append(np.append(d[time_clusters[2]], d['duration']))\n",
    "        if len(data0) > MEMORY_LIMIT:\n",
    "            a0.writerows(data0)\n",
    "            a1.writerows(data1)\n",
    "            a2.writerows(data2)\n",
    "            data0.clear()\n",
    "            data1.clear()\n",
    "            data2.clear()\n",
    "    a0.writerows(data0)\n",
    "    a1.writerows(data1)\n",
    "    a2.writerows(data2)"
   ]
  },
  {
   "cell_type": "code",
   "execution_count": null,
   "metadata": {
    "collapsed": true
   },
   "outputs": [],
   "source": []
  }
 ],
 "metadata": {
  "kernelspec": {
   "display_name": "Python 3",
   "language": "python",
   "name": "python3"
  },
  "language_info": {
   "codemirror_mode": {
    "name": "ipython",
    "version": 3
   },
   "file_extension": ".py",
   "mimetype": "text/x-python",
   "name": "python",
   "nbconvert_exporter": "python",
   "pygments_lexer": "ipython3",
   "version": "3.4.3"
  }
 },
 "nbformat": 4,
 "nbformat_minor": 0
}
