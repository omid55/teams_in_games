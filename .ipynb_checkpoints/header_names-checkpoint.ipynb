{
 "cells": [
  {
   "cell_type": "code",
   "execution_count": 1,
   "metadata": {
    "collapsed": true
   },
   "outputs": [],
   "source": [
    "#Omid55\n",
    "import requests\n",
    "import pandas as pd\n",
    "import pickle as pk\n",
    "import csv\n",
    "import time"
   ]
  },
  {
   "cell_type": "code",
   "execution_count": 2,
   "metadata": {
    "collapsed": false
   },
   "outputs": [],
   "source": [
    "URL = {\n",
    "    'BASE': 'https://{proxy}.api.pvp.net/api/lol/{region}/v2.2/{rest}',\n",
    "    'STATIC_BASE': 'https://global.api.pvp.net/api/lol/static-data/{region}/v1.2/{rest}',\n",
    "    'MATCHLIST_URL': 'matchlist/by-summoner/{summonerId}',\n",
    "    'MATCH_URL': 'match/{matchId}',\n",
    "    'CHAMPION_URL': 'champion/{id}?champData=all'\n",
    "}\n",
    "\n",
    "REGIONS = {\n",
    "    'north america': 'na',\n",
    "    'europe west': 'euw'\n",
    "}"
   ]
  },
  {
   "cell_type": "code",
   "execution_count": 3,
   "metadata": {
    "collapsed": true
   },
   "outputs": [],
   "source": [
    "class Match(object):\n",
    "    \n",
    "    def __init__(self):\n",
    "        self.winners = []\n",
    "        self.losers = []\n",
    "        self.duration = -1\n",
    "        "
   ]
  },
  {
   "cell_type": "code",
   "execution_count": 4,
   "metadata": {
    "collapsed": false
   },
   "outputs": [],
   "source": [
    "class RiotAPI(object):\n",
    "    \n",
    "    t1 = 0\n",
    "    \n",
    "    def __init__(self, api_key, region=REGIONS['europe west']):\n",
    "        self.api_key = api_key\n",
    "        self.region = region\n",
    "        self.champions = {}\n",
    "        \n",
    "    def _request(self, base, rest, params={}):\n",
    "        args = {'api_key': self.api_key}\n",
    "        args.update(params)\n",
    "        response = requests.get(\n",
    "            URL[base].format(\n",
    "                rest=rest,\n",
    "                proxy=self.region,\n",
    "                region=self.region,\n",
    "            ),\n",
    "            params=args\n",
    "        )\n",
    "        time.sleep(1.2)\n",
    "        return response.json()\n",
    "    \n",
    "    def _base_request(self, rest, params={}):\n",
    "        return self._request('BASE', rest, params)\n",
    "        \n",
    "    def _static_request(self, rest, params={}):\n",
    "        return self._request('STATIC_BASE', rest, params)\n",
    "    \n",
    "    # my functions\n",
    "    def _get_list_of_match_ids(self, sid):\n",
    "        rest = URL['MATCHLIST_URL'].format(\n",
    "            summonerId=sid\n",
    "        )\n",
    "        result = self._base_request(rest)\n",
    "        if 'matches' in result:\n",
    "            for match in result['matches']:\n",
    "                yield match['matchId']\n",
    "                \n",
    "    def _get_match(self, mid):\n",
    "        rest = URL['MATCH_URL'].format(\n",
    "            matchId=mid\n",
    "        )\n",
    "        result = self._base_request(rest)\n",
    "        return result\n",
    "    \n",
    "    def get_champion_capabilities(self, championId):\n",
    "        if championId in self.champions:\n",
    "            return self.champions[championId]\n",
    "        else:\n",
    "            rest = URL['CHAMPION_URL'].format(\n",
    "                id=championId\n",
    "            )\n",
    "            result = self._static_request(rest)\n",
    "            \n",
    "            features = []\n",
    "            for k in sorted(result['info'].keys()):\n",
    "                features.append(result['info'][k])\n",
    "            for k in sorted(result['stats'].keys()):\n",
    "                features.append(result['stats'][k])\n",
    "            self.champions[championId] = features\n",
    "            return features\n",
    "    \n",
    "    \n",
    "    def get_matches(self):\n",
    "        sid = 5\n",
    "        matchids = self._get_list_of_match_ids(sid)\n",
    "        for matchid in matchids:\n",
    "            match = self._get_match(matchid)\n",
    "            if 'participants' in match:\n",
    "                #m = Match()\n",
    "                losers = []\n",
    "                winners = []\n",
    "                duration = match['matchDuration']\n",
    "                for member in match['participants']:\n",
    "                    if member['stats']['winner']:\n",
    "                        winners += (self.get_champion_capabilities(member['championId']))\n",
    "                    else:\n",
    "                        losers += (self.get_champion_capabilities(member['championId']))\n",
    "                #yield m\n",
    "                yield winners + losers + [duration]\n",
    "            \n",
    "KEY = 'RGAPI-839ABFA9-5540-49E5-A8B7-AA086DA77F6E'\n",
    "api = RiotAPI(KEY)"
   ]
  },
  {
   "cell_type": "code",
   "execution_count": null,
   "metadata": {
    "collapsed": true
   },
   "outputs": [],
   "source": []
  },
  {
   "cell_type": "code",
   "execution_count": null,
   "metadata": {
    "collapsed": true
   },
   "outputs": [],
   "source": []
  },
  {
   "cell_type": "code",
   "execution_count": null,
   "metadata": {
    "collapsed": true
   },
   "outputs": [],
   "source": []
  }
 ],
 "metadata": {
  "kernelspec": {
   "display_name": "Python 3",
   "language": "python",
   "name": "python3"
  },
  "language_info": {
   "codemirror_mode": {
    "name": "ipython",
    "version": 3
   },
   "file_extension": ".py",
   "mimetype": "text/x-python",
   "name": "python",
   "nbconvert_exporter": "python",
   "pygments_lexer": "ipython3",
   "version": "3.4.3"
  }
 },
 "nbformat": 4,
 "nbformat_minor": 0
}
