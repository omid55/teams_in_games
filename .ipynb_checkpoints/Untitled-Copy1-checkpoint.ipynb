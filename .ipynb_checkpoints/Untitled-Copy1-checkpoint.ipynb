{
 "cells": [
  {
   "cell_type": "code",
   "execution_count": 4,
   "metadata": {
    "collapsed": false
   },
   "outputs": [
    {
     "ename": "SyntaxError",
     "evalue": "Missing parentheses in call to 'print' (<ipython-input-4-ba6e0145b82e>, line 94)",
     "output_type": "error",
     "traceback": [
      "\u001b[1;36m  File \u001b[1;32m\"<ipython-input-4-ba6e0145b82e>\"\u001b[1;36m, line \u001b[1;32m94\u001b[0m\n\u001b[1;33m    print bandit.arms\u001b[0m\n\u001b[1;37m               ^\u001b[0m\n\u001b[1;31mSyntaxError\u001b[0m\u001b[1;31m:\u001b[0m Missing parentheses in call to 'print'\n"
     ]
    }
   ],
   "source": [
    "# Omid55\n",
    "import numpy as np\n",
    "import random as rand\n",
    "#from scipy.stats import binom\n",
    "import scipy.stats as stat\n",
    "import math\n",
    "\n",
    "'''Bandit class'''\n",
    "class Bandit:\n",
    "    #narms\n",
    "    #arms\n",
    "\n",
    "    def __init__(self, narms):\n",
    "        self.narms = narms\n",
    "        self.arms = np.random.rand(narms)\n",
    "\n",
    "    def set_arms(self, arms):\n",
    "        self.arms = arms\n",
    "\n",
    "    def pull_arm(self, selected_arm_index):\n",
    "        return stat.binom.rvs(1, self.arms[selected_arm_index])\n",
    "\n",
    "\n",
    "'''Different methods for choosing arm'''\n",
    "# ground truth\n",
    "def choose_optimal_arm(bandit, iterations):\n",
    "    for it in range(iterations):\n",
    "        arm = np.argmax(bandit.arms)\n",
    "        reward = bandit.pull_arm(arm)\n",
    "        yield arm, reward\n",
    "\n",
    "# methods\n",
    "def choose_arm_by_random(bandit, iterations):\n",
    "    for it in range(iterations):\n",
    "        arm = rand.choice(range(bandit.narms))\n",
    "        reward = bandit.pull_arm(arm)\n",
    "        yield arm, reward\n",
    "\n",
    "def choose_arm_by_explore_few_then_exploit(bandit, iterations):  # Maximum Likelihood\n",
    "    exploration_count = 100\n",
    "    S = np.zeros(bandit.narms)\n",
    "    F = np.zeros(bandit.narms)\n",
    "    for it in range(iterations):\n",
    "        if it < exploration_count:\n",
    "            arm = rand.choice(range(bandit.narms))\n",
    "            reward = bandit.pull_arm(arm)\n",
    "            if reward == 1:\n",
    "                S[arm] += 1\n",
    "            else:\n",
    "                F[arm] += 1\n",
    "            yield arm, reward\n",
    "        else:\n",
    "            prob = [S[a]/(S[a]+F[a]) for a in range(bandit.narms)]\n",
    "            arm = np.argmax(prob)\n",
    "            reward = bandit.pull_arm(arm)\n",
    "            if reward == 1:\n",
    "                S[arm] += 1\n",
    "            else:\n",
    "                F[arm] += 1\n",
    "            yield arm, reward\n",
    "\n",
    "\n",
    "#def choose_arm_by_ucb():\n",
    "\n",
    "\n",
    "def choose_arm_by_thompson_sampling(bandit, iterations):\n",
    "    S = np.zeros(bandit.narms)\n",
    "    F = np.zeros(bandit.narms)\n",
    "    for it in range(iterations):\n",
    "        sampled_params = np.zeros(bandit.narms)\n",
    "        for a in range(bandit.narms):\n",
    "            alpha = S[a] + 1\n",
    "            beta = F[a] + 1\n",
    "            sampled_params[a] = stat.beta.rvs(alpha, beta)\n",
    "        arm = np.argmax(sampled_params)\n",
    "        reward = bandit.pull_arm(arm)\n",
    "        if reward == 1:\n",
    "            S[arm] += 1\n",
    "        else:\n",
    "            F[arm] += 1\n",
    "        yield arm, reward\n",
    "\n",
    "\n",
    "\n",
    "'''Main function'''\n",
    "def main():\n",
    "\n",
    "    # params\n",
    "    number_of_arms = 5\n",
    "    iterations = 1000\n",
    "\n",
    "    bandit = Bandit(number_of_arms)\n",
    "    bandit.set_arms([0.2, 0.3, 0.5, 0.9, 0.1])  # comment it out to see diverse problems << CHECK HERE >>\n",
    "    print bandit.arms\n",
    "\n",
    "    methods = [choose_arm_by_random, choose_optimal_arm, choose_arm_by_explore_few_then_exploit, choose_arm_by_thompson_sampling]\n",
    "    for method in methods:\n",
    "        rewards_mean = 0\n",
    "        rewards_pow2_mean = 0\n",
    "        c = 0\n",
    "        for arm, reward in method(bandit, iterations):\n",
    "            rewards_mean = float(rewards_mean * c + reward) / (c+1)\n",
    "            rewards_pow2_mean = float(rewards_pow2_mean * c + reward*reward) / (c+1)\n",
    "            c += 1\n",
    "\n",
    "        stand_err_r = round(math.sqrt(rewards_pow2_mean - rewards_mean*rewards_mean)/math.sqrt(iterations),2)\n",
    "        print method.__name__, ':\\t', rewards_mean, '\\t+/-\\t', stand_err_r\n",
    "\n",
    "\n",
    "if __name__ == \"__main__\":\n",
    "    main()\n"
   ]
  },
  {
   "cell_type": "code",
   "execution_count": null,
   "metadata": {
    "collapsed": true
   },
   "outputs": [],
   "source": []
  },
  {
   "cell_type": "code",
   "execution_count": null,
   "metadata": {
    "collapsed": true
   },
   "outputs": [],
   "source": []
  },
  {
   "cell_type": "code",
   "execution_count": null,
   "metadata": {
    "collapsed": true
   },
   "outputs": [],
   "source": []
  }
 ],
 "metadata": {
  "kernelspec": {
   "display_name": "Python 3",
   "language": "python",
   "name": "python3"
  },
  "language_info": {
   "codemirror_mode": {
    "name": "ipython",
    "version": 3
   },
   "file_extension": ".py",
   "mimetype": "text/x-python",
   "name": "python",
   "nbconvert_exporter": "python",
   "pygments_lexer": "ipython3",
   "version": "3.4.3"
  }
 },
 "nbformat": 4,
 "nbformat_minor": 0
}
